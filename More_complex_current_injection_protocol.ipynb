{
 "cells": [
  {
   "cell_type": "markdown",
   "metadata": {
    "editable": true,
    "slideshow": {
     "slide_type": ""
    },
    "tags": []
   },
   "source": [
    "[![Open In Colab](./colab-badge.png)](https://colab.research.google.com/github/subhacom/moose-notebooks/blob/main/More_complex_current_injection_protocol.ipynb) [![Binder](./binder_logo.png)](https://mybinder.org/v2/gh/subhacom/moose-notebooks/HEAD)"
   ]
  },
  {
   "cell_type": "code",
   "execution_count": null,
   "metadata": {
    "colab": {
     "base_uri": "https://localhost:8080/"
    },
    "id": "PPa-GXbcQ_GR",
    "outputId": "6aa2339e-a8e5-48d9-ac51-924057dcbd58"
   },
   "outputs": [],
   "source": [
    "# Only required on colab!\n",
    "!pip install pymoose"
   ]
  },
  {
   "cell_type": "markdown",
   "metadata": {
    "id": "xAnAl9HLNkgO"
   },
   "source": [
    "# A more complex current injection protocol\n",
    "## Author: Subhasis Ray\n",
    "### Created: 2024-01-04\n",
    "\n",
    "To probe a neuron, experimenters often conduct current-clamp experiments. But instead of keeping the injected current constant, the protocol may involve recording the membrane voltage without any current injection for some time, and then injecting current for another specified time window, and then going back to no current injection. The voltage transients when the current is stepped up or down reveal important properties of the cell, like the membrane time constant.\n",
    "\n",
    "The `inject` field in `Compartment` is good for setting a constant current injection. However, for sophisticated current injection protocols, MOOSE has a separate class for generating pulses with specified amplitudes and timing. This is called `PulseGen`. To use this class, we first do the usual imports and container setup:"
   ]
  },
  {
   "cell_type": "code",
   "execution_count": 1,
   "metadata": {
    "id": "wddVkEplVwvF"
   },
   "outputs": [],
   "source": [
    "# imports\n",
    "import numpy as np\n",
    "import matplotlib.pyplot as plt\n",
    "\n",
    "import moose\n",
    "\n",
    "\n",
    "# initial setup\n",
    "model = moose.Neutral('/model')\n",
    "data = moose.Neutral('/data')"
   ]
  },
  {
   "cell_type": "markdown",
   "metadata": {
    "id": "onbuma_ZSqIp"
   },
   "source": [
    "We create a `PulseGen` object named `pulse` under `/model`."
   ]
  },
  {
   "cell_type": "code",
   "execution_count": 2,
   "metadata": {
    "id": "U7oOxCZaSIcW"
   },
   "outputs": [],
   "source": [
    "pg = moose.PulseGen('/model/pulse')"
   ]
  },
  {
   "cell_type": "markdown",
   "metadata": {
    "id": "uuodTdkVSytj"
   },
   "source": [
    "You can see the documentation for pulsegen using Python builtin `help()` function (or in ipython/jupyter run `moose.Pulsegen?`)."
   ]
  },
  {
   "cell_type": "code",
   "execution_count": 3,
   "metadata": {
    "colab": {
     "base_uri": "https://localhost:8080/"
    },
    "id": "-EJOUip2TVGX",
    "outputId": "211c09de-5c9d-4e6c-977e-cee761e1f8ff"
   },
   "outputs": [
    {
     "name": "stdout",
     "output_type": "stream",
     "text": [
      "Help on class PulseGen in module moose:\n",
      "\n",
      "class PulseGen(melement)\n",
      " |  PulseGen(x, ndata=1, **kwargs)\n",
      " |  \n",
      " |  Attributes:\n",
      " |  ===========\n",
      " |  \n",
      " |  Value Attributes:\n",
      " |  -----------------\n",
      " |  baseLevel (type: double, class: PulseGen)\n",
      " |    Basal level of the stimulus \n",
      " |  \n",
      " |  children (type: vector<Id>, class: PulseGen)\n",
      " |    vector of ObjIds listing all children of current object \n",
      " |  \n",
      " |  className (type: string, class: PulseGen)\n",
      " |    Class Name of object \n",
      " |  \n",
      " |  count (type: unsigned int, class: PulseGen)\n",
      " |    Number of pulses in a sequence \n",
      " |  \n",
      " |  destFields (type: vector<string>, class: PulseGen)\n",
      " |    List of all destination fields on Element, that is, fieldsthat are accessed \n",
      " |    as Element functions. \n",
      " |  \n",
      " |  dt (type: double, class: PulseGen)\n",
      " |    Timestep used for this Element. Zero if not scheduled. \n",
      " |  \n",
      " |  fieldIndex (type: unsigned int, class: PulseGen)\n",
      " |    For a FieldElement: field Index of self.For a regular Element: zero. \n",
      " |  \n",
      " |  \n",
      " |  firstDelay (type: double, class: PulseGen)\n",
      " |    Delay to start of the first pulse in a sequence \n",
      " |  \n",
      " |  firstLevel (type: double, class: PulseGen)\n",
      " |    Amplitude of the first pulse in a sequence \n",
      " |  \n",
      " |  firstWidth (type: double, class: PulseGen)\n",
      " |    Width of the first pulse in a sequence \n",
      " |  \n",
      " |  idValue (type: unsigned int, class: PulseGen)\n",
      " |    Object id of self, converted to an unsigned int. \n",
      " |  \n",
      " |  index (type: unsigned int, class: PulseGen)\n",
      " |    For a FieldElement: Object index of parent.For a regular Element: Object \n",
      " |    index (dataId) of self. \n",
      " |  \n",
      " |  me (type: ObjId, class: PulseGen)\n",
      " |    ObjId for current object \n",
      " |  \n",
      " |  msgIn (type: vector<ObjId>, class: PulseGen)\n",
      " |    Messages coming in to this Element \n",
      " |  \n",
      " |  msgOut (type: vector<ObjId>, class: PulseGen)\n",
      " |    Messages going out from this Element \n",
      " |  \n",
      " |  name (type: string, class: PulseGen)\n",
      " |    Name of object \n",
      " |  \n",
      " |  numData (type: unsigned int, class: PulseGen)\n",
      " |    # of Data entries on Element.Note that on a FieldElement this does NOT \n",
      " |    refer to field entries,but to the number of DataEntries on the parent \n",
      " |    of the FieldElement. \n",
      " |  \n",
      " |  numField (type: unsigned int, class: PulseGen)\n",
      " |    For a FieldElement: number of entries of self.For a regular Element: \n",
      " |    One. \n",
      " |  \n",
      " |  outputValue (type: double, class: PulseGen)\n",
      " |    Output amplitude \n",
      " |  \n",
      " |  parent (type: ObjId, class: PulseGen)\n",
      " |    Parent ObjId for current object \n",
      " |  \n",
      " |  path (type: string, class: PulseGen)\n",
      " |    text path for object \n",
      " |  \n",
      " |  secondDelay (type: double, class: PulseGen)\n",
      " |    Delay to start of of the second pulse in a sequence \n",
      " |  \n",
      " |  secondLevel (type: double, class: PulseGen)\n",
      " |    Amplitude of the second pulse in a sequence \n",
      " |  \n",
      " |  secondWidth (type: double, class: PulseGen)\n",
      " |    Width of the second pulse in a sequence \n",
      " |  \n",
      " |  sourceFields (type: vector<string>, class: PulseGen)\n",
      " |    List of all source fields on Element, that is fields that can act as \n",
      " |    message sources. \n",
      " |  \n",
      " |  this (type: 7Neutral, class: PulseGen)\n",
      " |    Access function for entire object \n",
      " |  \n",
      " |  tick (type: int, class: PulseGen)\n",
      " |    Clock tick for this Element for periodic execution in the main simulation \n",
      " |    event loop. A default is normally assigned, based on object class, but \n",
      " |    one can override to any value between 0 and 19. Assigning to -1 means \n",
      " |    that the object is disabled and will not be called during simulation \n",
      " |    execution The actual timestep (dt) belonging to a clock tick is defined \n",
      " |    by the Clock object. \n",
      " |  \n",
      " |  trigMode (type: unsigned int, class: PulseGen)\n",
      " |    Trigger mode for pulses in the sequence. 0 : free-running mode where \n",
      " |    it keeps looping its output 1 : external trigger, where it is triggered \n",
      " |    by an external input (and stops after creating the first train of pulses) \n",
      " |    2 : external gate mode, where it keeps generating the pulses in a loop \n",
      " |    as long as the input is high. \n",
      " |  \n",
      " |  valueFields (type: vector<string>, class: PulseGen)\n",
      " |    List of all value fields on Element.These fields are accessed through \n",
      " |    the assignment operations in the Python interface.These fields may also \n",
      " |    be accessed as functions through the set<FieldName> and get<FieldName> \n",
      " |    commands. \n",
      " |  \n",
      " |  Lookup Attributes:\n",
      " |  ------------------\n",
      " |  delay (type: unsigned int,double, class: PulseGen)\n",
      " |    Delay of the pulse at specified index \n",
      " |  \n",
      " |  isA (type: string,bool, class: PulseGen)\n",
      " |    Returns true if the current object is derived from the specified the \n",
      " |    specified class \n",
      " |  \n",
      " |  level (type: unsigned int,double, class: PulseGen)\n",
      " |    Level of the pulse at specified index \n",
      " |  \n",
      " |  msgDestFunctions (type: string,vector<string>, class: PulseGen)\n",
      " |    Matching function names for each ObjId receiving a msg from the specified \n",
      " |    SrcFinfo \n",
      " |  \n",
      " |  msgDests (type: string,vector<ObjId>, class: PulseGen)\n",
      " |    ObjIds receiving messages from the specified SrcFinfo \n",
      " |  \n",
      " |  neighbors (type: string,vector<Id>, class: PulseGen)\n",
      " |    Ids of Elements connected this Element on specified field. \n",
      " |  \n",
      " |  width (type: unsigned int,double, class: PulseGen)\n",
      " |    Width of the pulse at specified index \n",
      " |  \n",
      " |  Src Attributes:\n",
      " |  ---------------\n",
      " |  childOut (type: int, class: PulseGen)\n",
      " |    Message to child Elements \n",
      " |  \n",
      " |  output (type: double, class: PulseGen)\n",
      " |    Current output level. \n",
      " |  \n",
      " |  Dest Attributes:\n",
      " |  ----------------\n",
      " |  delayIn (type: unsigned int,double, class: PulseGen)\n",
      " |    Handle delay value coming from other objects \n",
      " |  \n",
      " |  getBaseLevel (type: vector<double>*, class: PulseGen)\n",
      " |    Requests field value. The requesting Element must provide a handler for \n",
      " |    the returned value. \n",
      " |  \n",
      " |  getChildren (type: vector<vector<Id>>*, class: PulseGen)\n",
      " |    Requests field value. The requesting Element must provide a handler for \n",
      " |    the returned value. \n",
      " |  \n",
      " |  getClassName (type: PNSt3__16vectorINS_12basic_stringIcNS_11char_traitsIcEENS_9allocatorIcEEEENS4_IS6_EEEE, class: PulseGen)\n",
      " |    Requests field value. The requesting Element must provide a handler for \n",
      " |    the returned value. \n",
      " |  \n",
      " |  getCount (type: vector<unsigned int>*, class: PulseGen)\n",
      " |    Requests field value. The requesting Element must provide a handler for \n",
      " |    the returned value. \n",
      " |  \n",
      " |  getDelay (type: double, class: PulseGen)\n",
      " |    Requests field value. The requesting Element must provide a handler for \n",
      " |    the returned value. \n",
      " |  \n",
      " |  getDestFields (type: vector<vector<string>>*, class: PulseGen)\n",
      " |    Requests field value. The requesting Element must provide a handler for \n",
      " |    the returned value. \n",
      " |  \n",
      " |  getDt (type: vector<double>*, class: PulseGen)\n",
      " |    Requests field value. The requesting Element must provide a handler for \n",
      " |    the returned value. \n",
      " |  \n",
      " |  getFieldIndex (type: vector<unsigned int>*, class: PulseGen)\n",
      " |    Requests field value. The requesting Element must provide a handler for \n",
      " |    the returned value. \n",
      " |  \n",
      " |  getFirstDelay (type: vector<double>*, class: PulseGen)\n",
      " |    Requests field value. The requesting Element must provide a handler for \n",
      " |    the returned value. \n",
      " |  \n",
      " |  getFirstLevel (type: vector<double>*, class: PulseGen)\n",
      " |    Requests field value. The requesting Element must provide a handler for \n",
      " |    the returned value. \n",
      " |  \n",
      " |  getFirstWidth (type: vector<double>*, class: PulseGen)\n",
      " |    Requests field value. The requesting Element must provide a handler for \n",
      " |    the returned value. \n",
      " |  \n",
      " |  getIdValue (type: vector<unsigned int>*, class: PulseGen)\n",
      " |    Requests field value. The requesting Element must provide a handler for \n",
      " |    the returned value. \n",
      " |  \n",
      " |  getIndex (type: vector<unsigned int>*, class: PulseGen)\n",
      " |    Requests field value. The requesting Element must provide a handler for \n",
      " |    the returned value. \n",
      " |  \n",
      " |  getIsA (type: bool, class: PulseGen)\n",
      " |    Requests field value. The requesting Element must provide a handler for \n",
      " |    the returned value. \n",
      " |  \n",
      " |  getLevel (type: double, class: PulseGen)\n",
      " |    Requests field value. The requesting Element must provide a handler for \n",
      " |    the returned value. \n",
      " |  \n",
      " |  getMe (type: vector<ObjId>*, class: PulseGen)\n",
      " |    Requests field value. The requesting Element must provide a handler for \n",
      " |    the returned value. \n",
      " |  \n",
      " |  getMsgDestFunctions (type: vector<string>, class: PulseGen)\n",
      " |    Requests field value. The requesting Element must provide a handler for \n",
      " |    the returned value. \n",
      " |  \n",
      " |  getMsgDests (type: vector<ObjId>, class: PulseGen)\n",
      " |    Requests field value. The requesting Element must provide a handler for \n",
      " |    the returned value. \n",
      " |  \n",
      " |  getMsgIn (type: vector<vector<ObjId>>*, class: PulseGen)\n",
      " |    Requests field value. The requesting Element must provide a handler for \n",
      " |    the returned value. \n",
      " |  \n",
      " |  getMsgOut (type: vector<vector<ObjId>>*, class: PulseGen)\n",
      " |    Requests field value. The requesting Element must provide a handler for \n",
      " |    the returned value. \n",
      " |  \n",
      " |  getName (type: PNSt3__16vectorINS_12basic_stringIcNS_11char_traitsIcEENS_9allocatorIcEEEENS4_IS6_EEEE, class: PulseGen)\n",
      " |    Requests field value. The requesting Element must provide a handler for \n",
      " |    the returned value. \n",
      " |  \n",
      " |  getNeighbors (type: vector<Id>, class: PulseGen)\n",
      " |    Requests field value. The requesting Element must provide a handler for \n",
      " |    the returned value. \n",
      " |  \n",
      " |  getNumData (type: vector<unsigned int>*, class: PulseGen)\n",
      " |    Requests field value. The requesting Element must provide a handler for \n",
      " |    the returned value. \n",
      " |  \n",
      " |  getNumField (type: vector<unsigned int>*, class: PulseGen)\n",
      " |    Requests field value. The requesting Element must provide a handler for \n",
      " |    the returned value. \n",
      " |  \n",
      " |  getOutputValue (type: vector<double>*, class: PulseGen)\n",
      " |    Requests field value. The requesting Element must provide a handler for \n",
      " |    the returned value. \n",
      " |  \n",
      " |  getParent (type: vector<ObjId>*, class: PulseGen)\n",
      " |    Requests field value. The requesting Element must provide a handler for \n",
      " |    the returned value. \n",
      " |  \n",
      " |  getPath (type: PNSt3__16vectorINS_12basic_stringIcNS_11char_traitsIcEENS_9allocatorIcEEEENS4_IS6_EEEE, class: PulseGen)\n",
      " |    Requests field value. The requesting Element must provide a handler for \n",
      " |    the returned value. \n",
      " |  \n",
      " |  getSecondDelay (type: vector<double>*, class: PulseGen)\n",
      " |    Requests field value. The requesting Element must provide a handler for \n",
      " |    the returned value. \n",
      " |  \n",
      " |  getSecondLevel (type: vector<double>*, class: PulseGen)\n",
      " |    Requests field value. The requesting Element must provide a handler for \n",
      " |    the returned value. \n",
      " |  \n",
      " |  getSecondWidth (type: vector<double>*, class: PulseGen)\n",
      " |    Requests field value. The requesting Element must provide a handler for \n",
      " |    the returned value. \n",
      " |  \n",
      " |  getSourceFields (type: vector<vector<string>>*, class: PulseGen)\n",
      " |    Requests field value. The requesting Element must provide a handler for \n",
      " |    the returned value. \n",
      " |  \n",
      " |  getThis (type: PNSt3__16vectorI7NeutralNS_9allocatorIS1_EEEE, class: PulseGen)\n",
      " |    Requests field value. The requesting Element must provide a handler for \n",
      " |    the returned value. \n",
      " |  \n",
      " |  getTick (type: PNSt3__16vectorIiNS_9allocatorIiEEEE, class: PulseGen)\n",
      " |    Requests field value. The requesting Element must provide a handler for \n",
      " |    the returned value. \n",
      " |  \n",
      " |  getTrigMode (type: vector<unsigned int>*, class: PulseGen)\n",
      " |    Requests field value. The requesting Element must provide a handler for \n",
      " |    the returned value. \n",
      " |  \n",
      " |  getValueFields (type: vector<vector<string>>*, class: PulseGen)\n",
      " |    Requests field value. The requesting Element must provide a handler for \n",
      " |    the returned value. \n",
      " |  \n",
      " |  getWidth (type: double, class: PulseGen)\n",
      " |    Requests field value. The requesting Element must provide a handler for \n",
      " |    the returned value. \n",
      " |  \n",
      " |  input (type: double, class: PulseGen)\n",
      " |    Handle incoming input that determines gating/triggering onset. Note that \n",
      " |    although this is a double field, the underlying field is integer. So \n",
      " |    fractional part of input will be truncated \n",
      " |  \n",
      " |  levelIn (type: unsigned int,double, class: PulseGen)\n",
      " |    Handle level value coming from other objects \n",
      " |  \n",
      " |  notifyAddMsgDest (type: ObjId, class: PulseGen)\n",
      " |    Called when a message is created, current object is dest. Arg is msgId. \n",
      " |  \n",
      " |  \n",
      " |  notifyAddMsgSrc (type: ObjId, class: PulseGen)\n",
      " |    Called when a message is created, current object is src. Arg is msgId. \n",
      " |  \n",
      " |  \n",
      " |  notifyCopy (type: ObjId, class: PulseGen)\n",
      " |    Called when object is copied. Arg is original. \n",
      " |  \n",
      " |  notifyCreate (type: ObjId, class: PulseGen)\n",
      " |    Called when object is created. Arg is parent. \n",
      " |  \n",
      " |  notifyDestroy (type: void, class: PulseGen)\n",
      " |    Called when object is destroyed. \n",
      " |  \n",
      " |  notifyMove (type: ObjId, class: PulseGen)\n",
      " |    Called when object is moved. Arg is new parent. \n",
      " |  \n",
      " |  parentMsg (type: int, class: PulseGen)\n",
      " |    Message from Parent Element(s) \n",
      " |  \n",
      " |  process (type: const ProcInfo*, class: PulseGen)\n",
      " |    Handles process call, updates internal time stamp. \n",
      " |  \n",
      " |  reinit (type: const ProcInfo*, class: PulseGen)\n",
      " |    Handles reinit call. \n",
      " |  \n",
      " |  setBaseLevel (type: double, class: PulseGen)\n",
      " |    Assigns field value. \n",
      " |  \n",
      " |  setCount (type: unsigned int, class: PulseGen)\n",
      " |    Assigns field value. \n",
      " |  \n",
      " |  setDelay (type: unsigned int,double, class: PulseGen)\n",
      " |    Assigns field value. \n",
      " |  \n",
      " |  setFirstDelay (type: double, class: PulseGen)\n",
      " |    Assigns field value. \n",
      " |  \n",
      " |  setFirstLevel (type: double, class: PulseGen)\n",
      " |    Assigns field value. \n",
      " |  \n",
      " |  setFirstWidth (type: double, class: PulseGen)\n",
      " |    Assigns field value. \n",
      " |  \n",
      " |  setLevel (type: unsigned int,double, class: PulseGen)\n",
      " |    Assigns field value. \n",
      " |  \n",
      " |  setName (type: string, class: PulseGen)\n",
      " |    Assigns field value. \n",
      " |  \n",
      " |  setNumData (type: unsigned int, class: PulseGen)\n",
      " |    Assigns field value. \n",
      " |  \n",
      " |  setNumField (type: unsigned int, class: PulseGen)\n",
      " |    Assigns field value. \n",
      " |  \n",
      " |  setSecondDelay (type: double, class: PulseGen)\n",
      " |    Assigns field value. \n",
      " |  \n",
      " |  setSecondLevel (type: double, class: PulseGen)\n",
      " |    Assigns field value. \n",
      " |  \n",
      " |  setSecondWidth (type: double, class: PulseGen)\n",
      " |    Assigns field value. \n",
      " |  \n",
      " |  setThis (type: 7Neutral, class: PulseGen)\n",
      " |    Assigns field value. \n",
      " |  \n",
      " |  setTick (type: int, class: PulseGen)\n",
      " |    Assigns field value. \n",
      " |  \n",
      " |  setTrigMode (type: unsigned int, class: PulseGen)\n",
      " |    Assigns field value. \n",
      " |  \n",
      " |  setWidth (type: unsigned int,double, class: PulseGen)\n",
      " |    Assigns field value. \n",
      " |  \n",
      " |  widthIn (type: unsigned int,double, class: PulseGen)\n",
      " |    Handle width value coming from other objects \n",
      " |  \n",
      " |  Shared Attributes:\n",
      " |  ------------------\n",
      " |  childOut (type: int, class: PulseGen)\n",
      " |    Message to child Elements \n",
      " |  \n",
      " |  output (type: double, class: PulseGen)\n",
      " |    Current output level.\n",
      " |  \n",
      " |  Method resolution order:\n",
      " |      PulseGen\n",
      " |      melement\n",
      " |      moose._moose.ObjId\n",
      " |      pybind11_builtins.pybind11_object\n",
      " |      builtins.object\n",
      " |  \n",
      " |  Data and other attributes defined here:\n",
      " |  \n",
      " |  __type__ = 'PulseGen'\n",
      " |  \n",
      " |  ----------------------------------------------------------------------\n",
      " |  Methods inherited from melement:\n",
      " |  \n",
      " |  __init__(self, x, ndata=1, **kwargs)\n",
      " |      Initialize self.  See help(type(self)) for accurate signature.\n",
      " |  \n",
      " |  ----------------------------------------------------------------------\n",
      " |  Data descriptors inherited from melement:\n",
      " |  \n",
      " |  __dict__\n",
      " |      dictionary for instance variables (if defined)\n",
      " |  \n",
      " |  ----------------------------------------------------------------------\n",
      " |  Methods inherited from moose._moose.ObjId:\n",
      " |  \n",
      " |  __eq__(...)\n",
      " |  \n",
      " |  __getattr__(...)\n",
      " |  \n",
      " |  __hash__(...)\n",
      " |  \n",
      " |  __ne__(...)\n",
      " |  \n",
      " |  __repr__(...)\n",
      " |  \n",
      " |  __setattr__(...)\n",
      " |  \n",
      " |  connect(...)\n",
      " |  \n",
      " |  getDataIndex(...)\n",
      " |  \n",
      " |  getField(...)\n",
      " |  \n",
      " |  getFieldIndex(...)\n",
      " |  \n",
      " |  getFieldNames(...)\n",
      " |  \n",
      " |  getType(...)\n",
      " |  \n",
      " |  setField(...)\n",
      " |  \n",
      " |  ----------------------------------------------------------------------\n",
      " |  Readonly properties inherited from moose._moose.ObjId:\n",
      " |  \n",
      " |  className\n",
      " |  \n",
      " |  dataIndex\n",
      " |  \n",
      " |  fieldIndex\n",
      " |  \n",
      " |  id\n",
      " |  \n",
      " |  name\n",
      " |  \n",
      " |  parent\n",
      " |  \n",
      " |  path\n",
      " |  \n",
      " |  type\n",
      " |  \n",
      " |  vec\n",
      " |      Returns a vectorized version of object.\n",
      " |  \n",
      " |  ----------------------------------------------------------------------\n",
      " |  Static methods inherited from pybind11_builtins.pybind11_object:\n",
      " |  \n",
      " |  __new__(*args, **kwargs) from pybind11_builtins.pybind11_type\n",
      " |      Create and return a new object.  See help(type) for accurate signature.\n",
      "\n"
     ]
    }
   ],
   "source": [
    "help(moose.PulseGen)"
   ]
  },
  {
   "cell_type": "markdown",
   "metadata": {
    "id": "PjtbVyuHUuqA"
   },
   "source": [
    "That looks like quite a lot! Much of this is, however, system level methods or attributes that you as a user need not worry about. Value attributes, src attributes, and dest attributes are the attributes of interest.\n",
    "\n",
    "`Value` attributes are fields which simply store a value. For example, in `Compartment` we saw `inject` and `Vm` fields, which stored the amplitude of the injected current and the membrane voltage respectively.`Src` attributes and `Dest` attributes are fields that are connected via messages. They are shorthand for `source` and `destination` respectively. These are intended for communication between objects during simulation.\n",
    "\n",
    "Suppose object `A` has a src attribute `x` and another object `B` has a compatible dest attribute `y`. Then you can connect the field `x` of `A` to the field `y` of `B` using `moose.connect` function. During simulation, moose will transmit the value of `x` the field `y` of `B`. We already did this when connecting a table to a compartment. `requestOut` is the src field of `Table` that sends request for value. The corresponding dest field in `Compartment` was `getVm`. In general, for any value field `v` there is a corresponding dest field `getV` that can be used for obtaining the value of `v` at simulation run time."
   ]
  },
  {
   "cell_type": "markdown",
   "metadata": {
    "id": "6ynr2dRFUgnV"
   },
   "source": [
    "The output of a `PulseGen` is stored in the value field `outputValue`, and the corresponding dest field is `getOutputValue`.\n",
    "\n",
    "In order to see the output of the pulse generator over time we need a table to record it, and we have to connect the table's `requestOut` message field to the pulse generator's  `getOutputValue` field."
   ]
  },
  {
   "cell_type": "code",
   "execution_count": 4,
   "metadata": {
    "colab": {
     "base_uri": "https://localhost:8080/"
    },
    "id": "nqSsJJcXSyJA",
    "outputId": "47c73f01-b98b-430d-c5e3-ed3bc074e963"
   },
   "outputs": [
    {
     "data": {
      "text/plain": [
       "<moose.SingleMsg id=5 dataIndex=0 path=/Msgs[0]/singleMsg[0]>"
      ]
     },
     "execution_count": 4,
     "metadata": {},
     "output_type": "execute_result"
    }
   ],
   "source": [
    "pout = moose.Table('/data/pout')\n",
    "moose.connect(pout, 'requestOut', pg, 'getOutputValue')"
   ]
  },
  {
   "cell_type": "markdown",
   "metadata": {
    "id": "3GZEoFO7UfNG"
   },
   "source": [
    "A `PulseGen` can produce different levels of output at specified times, for specified durations. We can start by setting the `firstDelay`, `firstWidth`, and `firstLevel` fields."
   ]
  },
  {
   "cell_type": "code",
   "execution_count": 5,
   "metadata": {
    "id": "NrCjnHG6ccpD"
   },
   "outputs": [],
   "source": [
    "pg.firstDelay = 20e-3\n",
    "pg.firstWidth = 10e-3\n",
    "pg.firstLevel = 1e-9"
   ]
  },
  {
   "cell_type": "code",
   "execution_count": 6,
   "metadata": {
    "id": "e5WeZhKecnA9"
   },
   "outputs": [],
   "source": [
    "runtime = 30e-3  # Run for 30 ms\n",
    "moose.reinit()\n",
    "moose.start(runtime)\n"
   ]
  },
  {
   "cell_type": "code",
   "execution_count": 7,
   "metadata": {
    "colab": {
     "base_uri": "https://localhost:8080/",
     "height": 463
    },
    "id": "WEtpuKQ9ctie",
    "outputId": "b39dade4-656a-4956-fb12-af89de55d582"
   },
   "outputs": [
    {
     "data": {
      "text/plain": [
       "[<matplotlib.lines.Line2D at 0x10ad04190>]"
      ]
     },
     "execution_count": 7,
     "metadata": {},
     "output_type": "execute_result"
    },
    {
     "data": {
      "image/png": "[encoded data removed]",
      "text/plain": [
       "<Figure size 640x480 with 1 Axes>"
      ]
     },
     "metadata": {},
     "output_type": "display_data"
    }
   ],
   "source": [
    "plt.plot(np.arange(len(pout.vector)) * pout.dt, pout.vector)"
   ]
  },
  {
   "cell_type": "markdown",
   "metadata": {
    "id": "nBbASSfsegq7"
   },
   "source": [
    "### Exercise\n",
    "1. What in the plot correspond to `firstDelay`, `firstWidth`, and `firstLevel`?\n",
    "1. Here we kept the runtime 30 ms, exactly the sum of `firstDelay` and `firstWidth`. What happens if we increase the time to 90 ms?\n",
    "   - Ans: You should see from the plot that the `PulseGen` repeats the pulse at 20 ms delay from the end of the first pulse. In this way we can deliver a uniform series of pulses at a given rate."
   ]
  },
  {
   "cell_type": "markdown",
   "metadata": {
    "id": "X66QW7ClXLH5"
   },
   "source": [
    "## Multiple pulses with different levels, delays, and widths\n",
    "In addition to a single step change, electrophysiologists may also inject into a neuron current pulses with different amplitudes. `PulseGen` actually has three lookup fields, which are like arrays, called `delay`, `width`, and `level`.\n",
    "\n",
    "Set the `count` field to the desired number of pulses. The count is 2 by default, only for 3 or more pulse parameters you have to modify it."
   ]
  },
  {
   "cell_type": "code",
   "execution_count": 8,
   "metadata": {
    "id": "uxQN5fDNeRR8"
   },
   "outputs": [],
   "source": [
    "pg.count = 3"
   ]
  },
  {
   "cell_type": "markdown",
   "metadata": {
    "id": "wjphjOKsnNUq"
   },
   "source": [
    "After setting the pulse-count you have to set the delay, level, and and width for each pulse."
   ]
  },
  {
   "cell_type": "code",
   "execution_count": 9,
   "metadata": {
    "id": "rA-CuTgslTEK"
   },
   "outputs": [],
   "source": [
    "pg.delay[0] = 10e-3\n",
    "pg.level[0] = 10e-6\n",
    "pg.width[0] = 10e-3\n",
    "pg.delay[1] = 20e-3\n",
    "pg.level[1] = 20e-6\n",
    "pg.width[1] = 20e-3\n",
    "pg.delay[2] = 50e-3\n",
    "pg.level[2] = 30e-6\n",
    "pg.width[2] = 30e-3\n"
   ]
  },
  {
   "cell_type": "code",
   "execution_count": 10,
   "metadata": {
    "colab": {
     "base_uri": "https://localhost:8080/",
     "height": 467
    },
    "id": "yC9Km8aUlTEK",
    "outputId": "4159d780-9d63-4fb0-d56c-eb739f5ea362"
   },
   "outputs": [
    {
     "data": {
      "text/plain": [
       "Text(0, 0.5, 'Amplitude (mA)')"
      ]
     },
     "execution_count": 10,
     "metadata": {},
     "output_type": "execute_result"
    },
    {
     "data": {
      "image/png": "[encoded data removed]",
      "text/plain": [
       "<Figure size 640x480 with 1 Axes>"
      ]
     },
     "metadata": {},
     "output_type": "display_data"
    }
   ],
   "source": [
    "# Set the run time long enough to include all the pulses and their second cycle\n",
    "runtime = 200e-3\n",
    "moose.reinit()\n",
    "moose.start(runtime)\n",
    "\n",
    "# Plot the data\n",
    "plt.plot(np.arange(len(pout.vector)) * pout.dt * 1e3, pout.vector * 1e6)\n",
    "plt.xlabel('Time (ms)')\n",
    "plt.ylabel('Amplitude (mA)')"
   ]
  },
  {
   "cell_type": "markdown",
   "metadata": {
    "id": "aVIYsKtylTEK"
   },
   "source": [
    "### Exercise\n",
    "1. What do the `delay` values represent for successive pulses? What is special about `delay[0]` (also referred as `firstDelay`)?"
   ]
  },
  {
   "cell_type": "markdown",
   "metadata": {
    "id": "09ICrc-GlTEK"
   },
   "source": [
    "## Create a compartment and connect the pulse generator\n",
    "Now that you have learnt how to create complex patterns of pulses, create a compartment and inject current from the pulse generator."
   ]
  },
  {
   "cell_type": "code",
   "execution_count": 11,
   "metadata": {
    "colab": {
     "base_uri": "https://localhost:8080/"
    },
    "id": "MM3RqOOFlTEL",
    "outputId": "aaa7c1e4-3a22-444c-fc2d-8fdd7faca6f5"
   },
   "outputs": [
    {
     "data": {
      "text/plain": [
       "<moose.SingleMsg id=5 dataIndex=1 path=/Msgs[0]/singleMsg[1]>"
      ]
     },
     "execution_count": 11,
     "metadata": {},
     "output_type": "execute_result"
    }
   ],
   "source": [
    "# Create a compartment and connect a table to to record its Vm\n",
    "comp = moose.Compartment('/model/comp')\n",
    "vm_tab = moose.Table('/data/Vm')\n",
    "moose.connect(vm_tab, 'requestOut', comp, 'getVm')"
   ]
  },
  {
   "cell_type": "markdown",
   "metadata": {
    "id": "n-d6GQYYlTEL"
   },
   "source": [
    "The src attribute of `PulseGen` to send out its output is named `output`. The dest attribute on `Compartment` through which the injection current can be set at simulation runtime is called `injectMsg`. Connect these up to let the injection current be dynamically set from the pulse generator at runtime."
   ]
  },
  {
   "cell_type": "code",
   "execution_count": 12,
   "metadata": {
    "colab": {
     "base_uri": "https://localhost:8080/"
    },
    "id": "BoGDt8R8lTEL",
    "outputId": "aab8ee27-92bf-4090-e111-8708d57ae53f"
   },
   "outputs": [
    {
     "data": {
      "text/plain": [
       "<moose.SingleMsg id=5 dataIndex=2 path=/Msgs[0]/singleMsg[2]>"
      ]
     },
     "execution_count": 12,
     "metadata": {},
     "output_type": "execute_result"
    }
   ],
   "source": [
    "# Connect the output of the pulse generator into the compartment's `injectMsg`\n",
    "moose.connect(pg, 'output', comp, 'injectMsg')"
   ]
  },
  {
   "cell_type": "code",
   "execution_count": 13,
   "metadata": {
    "id": "0bLSwiV8lTEL"
   },
   "outputs": [],
   "source": [
    "comp.Rm = 1e4\n",
    "comp.Cm = 1e-7\n",
    "comp.initVm = -70e-3\n",
    "comp.Vm = comp.initVm"
   ]
  },
  {
   "cell_type": "code",
   "execution_count": 14,
   "metadata": {
    "colab": {
     "base_uri": "https://localhost:8080/",
     "height": 467
    },
    "id": "m4rAi9ZLlTEM",
    "outputId": "9ca5da87-e455-42ff-c8b8-c4f08de1d6df"
   },
   "outputs": [
    {
     "data": {
      "text/plain": [
       "Text(0, 0.5, 'Amplitude (mA)')"
      ]
     },
     "execution_count": 14,
     "metadata": {},
     "output_type": "execute_result"
    },
    {
     "data": {
      "image/png": "[encoded data removed]",
      "text/plain": [
       "<Figure size 640x480 with 2 Axes>"
      ]
     },
     "metadata": {},
     "output_type": "display_data"
    }
   ],
   "source": [
    "runtime = 200e-3\n",
    "moose.reinit()\n",
    "moose.start(runtime)\n",
    "fig, axes = plt.subplots(nrows=2, sharex='all')\n",
    "axes[0].plot(np.arange(len(vm_tab.vector)) * vm_tab.dt * 1e3, vm_tab.vector * 1e3)\n",
    "axes[0].set_ylabel('Amplitude (mV)')\n",
    "\n",
    "axes[1].plot(np.arange(len(pout.vector)) * pout.dt * 1e3, pout.vector * 1e6)\n",
    "axes[1].set_xlabel('Time (ms)')\n",
    "axes[1].set_ylabel('Amplitude (mA)')\n"
   ]
  },
  {
   "cell_type": "markdown",
   "metadata": {
    "id": "C8yEzPLRlTEM"
   },
   "source": [
    "Do you notice the little transient at the beginning? That is because we did not specify the resting membrane potential $Em$, whose default value is $-60 mV$ in moose. Set it to the same value as `initVm` to get the correct simulation."
   ]
  },
  {
   "cell_type": "code",
   "execution_count": 15,
   "metadata": {
    "id": "K0PrCQC-qL0z"
   },
   "outputs": [],
   "source": [
    "\n",
    "comp.Em = -70e-3"
   ]
  },
  {
   "cell_type": "code",
   "execution_count": 16,
   "metadata": {
    "colab": {
     "base_uri": "https://localhost:8080/",
     "height": 467
    },
    "id": "IGy2c_b9qM_D",
    "outputId": "b90390e7-d3b4-41c6-d4df-542bf53144d4"
   },
   "outputs": [
    {
     "data": {
      "text/plain": [
       "Text(0, 0.5, 'Amplitude (mA)')"
      ]
     },
     "execution_count": 16,
     "metadata": {},
     "output_type": "execute_result"
    },
    {
     "data": {
      "image/png": "[encoded data removed]",
      "text/plain": [
       "<Figure size 640x480 with 2 Axes>"
      ]
     },
     "metadata": {},
     "output_type": "display_data"
    }
   ],
   "source": [
    "runtime = 200e-3\n",
    "moose.reinit()\n",
    "moose.start(runtime)\n",
    "fig, axes = plt.subplots(nrows=2, sharex='all')\n",
    "axes[0].plot(np.arange(len(vm_tab.vector)) * vm_tab.dt * 1e3, vm_tab.vector * 1e3)\n",
    "axes[0].set_ylabel('Amplitude (mV)')\n",
    "\n",
    "axes[1].plot(np.arange(len(pout.vector)) * pout.dt * 1e3, pout.vector * 1e6)\n",
    "axes[1].set_xlabel('Time (ms)')\n",
    "axes[1].set_ylabel('Amplitude (mA)')\n"
   ]
  },
  {
   "cell_type": "markdown",
   "metadata": {
    "id": "5EkwTkNsqPKD"
   },
   "source": [
    "### Exercise\n",
    "1. What is the difference between `initVm` and `Em`? In the first simulation of the compartment, which one was the stable value of `Vm` when zero current was injected into the compartment?"
   ]
  }
 ],
 "metadata": {
  "colab": {
   "provenance": []
  },
  "kernelspec": {
   "display_name": "Python 3 (ipykernel)",
   "language": "python",
   "name": "python3"
  },
  "language_info": {
   "codemirror_mode": {
    "name": "ipython",
    "version": 3
   },
   "file_extension": ".py",
   "mimetype": "text/x-python",
   "name": "python",
   "nbconvert_exporter": "python",
   "pygments_lexer": "ipython3",
   "version": "3.11.6"
  }
 },
 "nbformat": 4,
 "nbformat_minor": 4
}
