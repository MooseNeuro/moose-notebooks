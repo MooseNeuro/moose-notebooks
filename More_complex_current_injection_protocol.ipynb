{
 "cells": [
  {
   "cell_type": "markdown",
   "metadata": {},
   "source": [
    "[![Open In Colab](./colab-badge.png)](https://colab.research.google.com/github/subhacom/moose-notebooks/blob/main/More_complex_current_injection_protocol.ipynb) [![Binder](./binder_logo.png)](https://mybinder.org/v2/gh/subhacom/moose-notebooks/HEAD)"
   ]
  },
  {
   "cell_type": "code",
   "execution_count": null,
   "metadata": {
    "colab": {
     "base_uri": "https://localhost:8080/"
    },
    "id": "PPa-GXbcQ_GR",
    "outputId": "6aa2339e-a8e5-48d9-ac51-924057dcbd58"
   },
   "outputs": [],
   "source": [
    "# Only required on colab!\n",
    "!pip install pymoose"
   ]
  },
  {
   "cell_type": "markdown",
   "metadata": {
    "id": "xAnAl9HLNkgO"
   },
   "source": [
    "# A more complex current injection protocol\n",
    "## Author: Subhasis Ray\n",
    "### Created: 2024-01-04\n",
    "\n",
    "To probe a neuron, experimenters often conduct current-clamp experiments. But instead of keeping the injected current constant, the protocol may involve recording the membrane voltage without any current injection for some time, and then injecting current for another specified time window, and then going back to no current injection. The voltage transients when the current is stepped up or down reveal important properties of the cell, like the membrane time constant.\n",
    "\n",
    "The `inject` field in `Compartment` is good for setting a constant current injection. However, for sophisticated current injection protocols, MOOSE has a separate class for generating pulses with specified amplitudes and timing. This is called `PulseGen`. To use this class, we first do the usual imports and container setup:"
   ]
  },
  {
   "cell_type": "code",
   "execution_count": null,
   "metadata": {
    "id": "wddVkEplVwvF"
   },
   "outputs": [],
   "source": [
    "# imports\n",
    "import numpy as np\n",
    "import matplotlib.pyplot as plt\n",
    "\n",
    "import moose as mu\n",
    "\n",
    "\n",
    "# initial setup\n",
    "model = mu.Neutral('/model')\n",
    "data = mu.Neutral('/data')"
   ]
  },
  {
   "cell_type": "markdown",
   "metadata": {
    "id": "onbuma_ZSqIp"
   },
   "source": [
    "We create a `PulseGen` object named `pulse` under `/model`."
   ]
  },
  {
   "cell_type": "code",
   "execution_count": null,
   "metadata": {
    "id": "U7oOxCZaSIcW"
   },
   "outputs": [],
   "source": [
    "pg = mu.PulseGen('/model/pulse')"
   ]
  },
  {
   "cell_type": "markdown",
   "metadata": {
    "id": "uuodTdkVSytj"
   },
   "source": [
    "You can see the documentation for pulsegen using Python builtin `help()` function (or in ipython/jupyter run `mu.Pulsegen?`)."
   ]
  },
  {
   "cell_type": "code",
   "execution_count": null,
   "metadata": {
    "colab": {
     "base_uri": "https://localhost:8080/"
    },
    "id": "-EJOUip2TVGX",
    "outputId": "211c09de-5c9d-4e6c-977e-cee761e1f8ff"
   },
   "outputs": [],
   "source": [
    "help(mu.PulseGen)"
   ]
  },
  {
   "cell_type": "markdown",
   "metadata": {
    "id": "PjtbVyuHUuqA"
   },
   "source": [
    "That looks like quite a lot! Much of this is, however, system level methods or attributes that you as a user need not worry about. Value attributes, src attributes, and dest attributes are the attributes of interest.\n",
    "\n",
    "`Value` attributes are fields which simply store a value. For example, in `Compartment` we saw `inject` and `Vm` fields, which stored the amplitude of the injected current and the membrane voltage respectively.`Src` attributes and `Dest` attributes are fields that are connected via messages. They are shorthand for `source` and `destination` respectively. These are intended for communication between objects during simulation.\n",
    "\n",
    "Suppose object `A` has a src attribute `x` and another object `B` has a compatible dest attribute `y`. Then you can connect the field `x` of `A` to the field `y` of `B` using `moose.connect` function. During simulation, moose will transmit the value of `x` the field `y` of `B`. We already did this when connecting a table to a compartment. `requestOut` is the src field of `Table` that sends request for value. The corresponding dest field in `Compartment` was `getVm`. In general, for any value field `v` there is a corresponding dest field `getV` that can be used for obtaining the value of `v` at simulation run time."
   ]
  },
  {
   "cell_type": "markdown",
   "metadata": {
    "id": "6ynr2dRFUgnV"
   },
   "source": [
    "The output of a `PulseGen` is stored in the value field `outputValue`, and the corresponding dest field is `getOutputValue`.\n",
    "\n",
    "In order to see the output of the pulse generator over time we need a table to record it, and we have to connect the table's `requestOut` message field to the pulse generator's  `getOutputValue` field."
   ]
  },
  {
   "cell_type": "code",
   "execution_count": null,
   "metadata": {
    "colab": {
     "base_uri": "https://localhost:8080/"
    },
    "id": "nqSsJJcXSyJA",
    "outputId": "47c73f01-b98b-430d-c5e3-ed3bc074e963"
   },
   "outputs": [],
   "source": [
    "pout = mu.Table('/data/pout')\n",
    "mu.connect(pout, 'requestOut', pg, 'getOutputValue')"
   ]
  },
  {
   "cell_type": "markdown",
   "metadata": {
    "id": "3GZEoFO7UfNG"
   },
   "source": [
    "A `PulseGen` can produce different levels of output at specified times, for specified durations. We can start by setting the `firstDelay`, `firstWidth`, and `firstLevel` fields."
   ]
  },
  {
   "cell_type": "code",
   "execution_count": null,
   "metadata": {
    "id": "NrCjnHG6ccpD"
   },
   "outputs": [],
   "source": [
    "pg.firstDelay = 20e-3\n",
    "pg.firstWidth = 10e-3\n",
    "pg.firstLevel = 1e-9"
   ]
  },
  {
   "cell_type": "code",
   "execution_count": null,
   "metadata": {
    "id": "e5WeZhKecnA9"
   },
   "outputs": [],
   "source": [
    "runtime = 30e-3  # Run for 30 ms\n",
    "mu.reinit()\n",
    "mu.start(runtime)\n"
   ]
  },
  {
   "cell_type": "code",
   "execution_count": null,
   "metadata": {
    "colab": {
     "base_uri": "https://localhost:8080/",
     "height": 463
    },
    "id": "WEtpuKQ9ctie",
    "outputId": "b39dade4-656a-4956-fb12-af89de55d582"
   },
   "outputs": [],
   "source": [
    "plt.plot(np.arange(len(pout.vector)) * pout.dt, pout.vector)"
   ]
  },
  {
   "cell_type": "markdown",
   "metadata": {
    "id": "nBbASSfsegq7"
   },
   "source": [
    "### Exercise\n",
    "1. What in the plot correspond to `firstDelay`, `firstWidth`, and `firstLevel`?\n",
    "1. Here we kept the runtime 30 ms, exactly the sum of `firstDelay` and `firstWidth`. What happens if we increase the time to 90 ms?\n",
    "   - Ans: You should see from the plot that the `PulseGen` repeats the pulse at 20 ms delay from the end of the first pulse. In this way we can deliver a uniform series of pulses at a given rate."
   ]
  },
  {
   "cell_type": "markdown",
   "metadata": {
    "id": "X66QW7ClXLH5"
   },
   "source": [
    "## Multiple pulses with different levels, delays, and widths\n",
    "In addition to a single step change, electrophysiologists may also inject into a neuron current pulses with different amplitudes. `PulseGen` actually has three lookup fields, which are like arrays, called `delay`, `width`, and `level`.\n",
    "\n",
    "Set the `count` field to the desired number of pulses. The count is 2 by default, only for 3 or more pulse parameters you have to modify it."
   ]
  },
  {
   "cell_type": "code",
   "execution_count": null,
   "metadata": {
    "id": "uxQN5fDNeRR8"
   },
   "outputs": [],
   "source": [
    "pg.count = 3"
   ]
  },
  {
   "cell_type": "markdown",
   "metadata": {
    "id": "wjphjOKsnNUq"
   },
   "source": [
    "After setting the pulse-count you have to set the delay, level, and and width for each pulse."
   ]
  },
  {
   "cell_type": "code",
   "execution_count": null,
   "metadata": {
    "id": "rA-CuTgslTEK"
   },
   "outputs": [],
   "source": [
    "pg.delay[0] = 10e-3\n",
    "pg.level[0] = 10e-6\n",
    "pg.width[0] = 10e-3\n",
    "pg.delay[1] = 20e-3\n",
    "pg.level[1] = 20e-6\n",
    "pg.width[1] = 20e-3\n",
    "pg.delay[2] = 50e-3\n",
    "pg.level[2] = 30e-6\n",
    "pg.width[2] = 30e-3\n"
   ]
  },
  {
   "cell_type": "code",
   "execution_count": null,
   "metadata": {
    "colab": {
     "base_uri": "https://localhost:8080/",
     "height": 467
    },
    "id": "yC9Km8aUlTEK",
    "outputId": "4159d780-9d63-4fb0-d56c-eb739f5ea362"
   },
   "outputs": [],
   "source": [
    "# Set the run time long enough to include all the pulses and their second cycle\n",
    "runtime = 200e-3\n",
    "mu.reinit()\n",
    "mu.start(runtime)\n",
    "\n",
    "# Plot the data\n",
    "plt.plot(np.arange(len(pout.vector)) * pout.dt * 1e3, pout.vector * 1e6)\n",
    "plt.xlabel('Time (ms)')\n",
    "plt.ylabel('Amplitude (mA)')"
   ]
  },
  {
   "cell_type": "markdown",
   "metadata": {
    "id": "aVIYsKtylTEK"
   },
   "source": [
    "### Exercise\n",
    "1. What do the `delay` values represent for successive pulses? What is special about `delay[0]` (also referred as `firstDelay`)?"
   ]
  },
  {
   "cell_type": "markdown",
   "metadata": {
    "id": "09ICrc-GlTEK"
   },
   "source": [
    "## Create a compartment and connect the pulse generator\n",
    "Now that you have learnt how to create complex patterns of pulses, create a compartment and inject current from the pulse generator."
   ]
  },
  {
   "cell_type": "code",
   "execution_count": null,
   "metadata": {
    "colab": {
     "base_uri": "https://localhost:8080/"
    },
    "id": "MM3RqOOFlTEL",
    "outputId": "aaa7c1e4-3a22-444c-fc2d-8fdd7faca6f5"
   },
   "outputs": [],
   "source": [
    "# Create a compartment and connect a table to to record its Vm\n",
    "comp = mu.Compartment('/model/comp')\n",
    "vm_tab = mu.Table('/data/Vm')\n",
    "mu.connect(vm_tab, 'requestOut', comp, 'getVm')"
   ]
  },
  {
   "cell_type": "markdown",
   "metadata": {
    "id": "n-d6GQYYlTEL"
   },
   "source": [
    "The src attribute of `PulseGen` to send out its output is named `output`. The dest attribute on `Compartment` through which the injection current can be set at simulation runtime is called `injectMsg`. Connect these up to let the injection current be dynamically set from the pulse generator at runtime."
   ]
  },
  {
   "cell_type": "code",
   "execution_count": null,
   "metadata": {
    "colab": {
     "base_uri": "https://localhost:8080/"
    },
    "id": "BoGDt8R8lTEL",
    "outputId": "aab8ee27-92bf-4090-e111-8708d57ae53f"
   },
   "outputs": [],
   "source": [
    "# Connect the output of the pulse generator into the compartment's `injectMsg`\n",
    "mu.connect(pg, 'output', comp, 'injectMsg')"
   ]
  },
  {
   "cell_type": "code",
   "execution_count": null,
   "metadata": {
    "id": "0bLSwiV8lTEL"
   },
   "outputs": [],
   "source": [
    "comp.Rm = 1e4\n",
    "comp.Cm = 1e-7\n",
    "comp.initVm = -70e-3\n",
    "comp.Vm = comp.initVm"
   ]
  },
  {
   "cell_type": "code",
   "execution_count": null,
   "metadata": {
    "colab": {
     "base_uri": "https://localhost:8080/",
     "height": 467
    },
    "id": "m4rAi9ZLlTEM",
    "outputId": "9ca5da87-e455-42ff-c8b8-c4f08de1d6df"
   },
   "outputs": [],
   "source": [
    "runtime = 200e-3\n",
    "mu.reinit()\n",
    "mu.start(runtime)\n",
    "fig, axes = plt.subplots(nrows=2, sharex='all')\n",
    "axes[0].plot(np.arange(len(vm_tab.vector)) * vm_tab.dt * 1e3, vm_tab.vector * 1e3)\n",
    "axes[0].set_ylabel('Amplitude (mV)')\n",
    "\n",
    "axes[1].plot(np.arange(len(pout.vector)) * pout.dt * 1e3, pout.vector * 1e6)\n",
    "axes[1].set_xlabel('Time (ms)')\n",
    "axes[1].set_ylabel('Amplitude (mA)')\n"
   ]
  },
  {
   "cell_type": "markdown",
   "metadata": {
    "id": "C8yEzPLRlTEM"
   },
   "source": [
    "Do you notice the little transient at the beginning? That is because we did not specify the resting membrane potential $Em$, whose default value is $-60 mV$ in moose. Set it to the same value as `initVm` to get the correct simulation."
   ]
  },
  {
   "cell_type": "code",
   "execution_count": null,
   "metadata": {
    "id": "K0PrCQC-qL0z"
   },
   "outputs": [],
   "source": [
    "\n",
    "comp.Em = -70e-3"
   ]
  },
  {
   "cell_type": "code",
   "execution_count": null,
   "metadata": {
    "colab": {
     "base_uri": "https://localhost:8080/",
     "height": 467
    },
    "id": "IGy2c_b9qM_D",
    "outputId": "b90390e7-d3b4-41c6-d4df-542bf53144d4"
   },
   "outputs": [],
   "source": [
    "runtime = 200e-3\n",
    "mu.reinit()\n",
    "mu.start(runtime)\n",
    "fig, axes = plt.subplots(nrows=2, sharex='all')\n",
    "axes[0].plot(np.arange(len(vm_tab.vector)) * vm_tab.dt * 1e3, vm_tab.vector * 1e3)\n",
    "axes[0].set_ylabel('Amplitude (mV)')\n",
    "\n",
    "axes[1].plot(np.arange(len(pout.vector)) * pout.dt * 1e3, pout.vector * 1e6)\n",
    "axes[1].set_xlabel('Time (ms)')\n",
    "axes[1].set_ylabel('Amplitude (mA)')\n"
   ]
  },
  {
   "cell_type": "markdown",
   "metadata": {
    "id": "5EkwTkNsqPKD"
   },
   "source": [
    "### Exercise\n",
    "1. What is the difference between `initVm` and `Em`? In the first simulation of the compartment, which one was the stable value of `Vm` when zero current was injected into the compartment?"
   ]
  },
  {
   "cell_type": "code",
   "execution_count": null,
   "metadata": {
    "id": "bxmDsiPGq-HZ"
   },
   "outputs": [],
   "source": []
  }
 ],
 "metadata": {
  "colab": {
   "provenance": []
  },
  "kernelspec": {
   "display_name": "Python 3 (ipykernel)",
   "language": "python",
   "name": "python3"
  },
  "language_info": {
   "codemirror_mode": {
    "name": "ipython",
    "version": 3
   },
   "file_extension": ".py",
   "mimetype": "text/x-python",
   "name": "python",
   "nbconvert_exporter": "python",
   "pygments_lexer": "ipython3",
   "version": "3.11.6"
  }
 },
 "nbformat": 4,
 "nbformat_minor": 4
}
