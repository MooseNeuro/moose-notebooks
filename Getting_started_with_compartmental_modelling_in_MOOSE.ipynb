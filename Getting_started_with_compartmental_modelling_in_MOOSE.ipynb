{
  "nbformat": 4,
  "nbformat_minor": 0,
  "metadata": {
    "colab": {
      "provenance": [],
      "toc_visible": true
    },
    "kernelspec": {
      "name": "python3",
      "display_name": "Python 3"
    },
    "language_info": {
      "name": "python"
    }
  },
  "cells": [
    {
      "cell_type": "markdown",
      "source": [
        "# Getting started with compartmental modelling in MOOSE\n",
        "\n",
        "## Author: Subhasis Ray\n",
        "### Created: 2023-12-15"
      ],
      "metadata": {
        "id": "f5mf7Df8Gxsl"
      }
    },
    {
      "cell_type": "markdown",
      "source": [
        "## Install pymoose with `pip`\n",
        "The python module for `moose` is called `pymoose`. It is available on PyPi, so you can install it using `pip`"
      ],
      "metadata": {
        "id": "aooFxtV7KZ0g"
      }
    },
    {
      "cell_type": "code",
      "execution_count": null,
      "metadata": {
        "colab": {
          "base_uri": "https://localhost:8080/"
        },
        "id": "mkvDiIPA3YBM",
        "outputId": "f9e634fb-5a4e-4274-8eab-45ff50cedbe0"
      },
      "outputs": [
        {
          "output_type": "stream",
          "name": "stdout",
          "text": [
            "Collecting pymoose\n",
            "  Downloading pymoose-4.0.0-cp310-cp310-manylinux_2_17_x86_64.manylinux2014_x86_64.whl (9.8 MB)\n",
            "\u001b[2K     \u001b[90m━━━━━━━━━━━━━━━━━━━━━━━━━━━━━━━━━━━━━━━━\u001b[0m \u001b[32m9.8/9.8 MB\u001b[0m \u001b[31m7.4 MB/s\u001b[0m eta \u001b[36m0:00:00\u001b[0m\n",
            "\u001b[?25hRequirement already satisfied: numpy in /usr/local/lib/python3.10/dist-packages (from pymoose) (1.23.5)\n",
            "Requirement already satisfied: matplotlib in /usr/local/lib/python3.10/dist-packages (from pymoose) (3.7.1)\n",
            "Collecting vpython (from pymoose)\n",
            "  Downloading vpython-7.6.4-cp310-cp310-manylinux_2_5_x86_64.manylinux1_x86_64.manylinux_2_24_x86_64.whl (3.7 MB)\n",
            "\u001b[2K     \u001b[90m━━━━━━━━━━━━━━━━━━━━━━━━━━━━━━━━━━━━━━━━\u001b[0m \u001b[32m3.7/3.7 MB\u001b[0m \u001b[31m79.3 MB/s\u001b[0m eta \u001b[36m0:00:00\u001b[0m\n",
            "\u001b[?25hRequirement already satisfied: contourpy>=1.0.1 in /usr/local/lib/python3.10/dist-packages (from matplotlib->pymoose) (1.2.0)\n",
            "Requirement already satisfied: cycler>=0.10 in /usr/local/lib/python3.10/dist-packages (from matplotlib->pymoose) (0.12.1)\n",
            "Requirement already satisfied: fonttools>=4.22.0 in /usr/local/lib/python3.10/dist-packages (from matplotlib->pymoose) (4.47.0)\n",
            "Requirement already satisfied: kiwisolver>=1.0.1 in /usr/local/lib/python3.10/dist-packages (from matplotlib->pymoose) (1.4.5)\n",
            "Requirement already satisfied: packaging>=20.0 in /usr/local/lib/python3.10/dist-packages (from matplotlib->pymoose) (23.2)\n",
            "Requirement already satisfied: pillow>=6.2.0 in /usr/local/lib/python3.10/dist-packages (from matplotlib->pymoose) (9.4.0)\n",
            "Requirement already satisfied: pyparsing>=2.3.1 in /usr/local/lib/python3.10/dist-packages (from matplotlib->pymoose) (3.1.1)\n",
            "Requirement already satisfied: python-dateutil>=2.7 in /usr/local/lib/python3.10/dist-packages (from matplotlib->pymoose) (2.8.2)\n",
            "Collecting jupyter (from vpython->pymoose)\n",
            "  Downloading jupyter-1.0.0-py2.py3-none-any.whl (2.7 kB)\n",
            "Collecting jupyter-server-proxy (from vpython->pymoose)\n",
            "  Downloading jupyter_server_proxy-4.1.0-py3-none-any.whl (33 kB)\n",
            "Requirement already satisfied: ipykernel in /usr/local/lib/python3.10/dist-packages (from vpython->pymoose) (5.5.6)\n",
            "Collecting autobahn<27,>=22.6.1 (from vpython->pymoose)\n",
            "  Downloading autobahn-23.6.2.tar.gz (480 kB)\n",
            "\u001b[2K     \u001b[90m━━━━━━━━━━━━━━━━━━━━━━━━━━━━━━━━━━━━━━━━\u001b[0m \u001b[32m480.8/480.8 kB\u001b[0m \u001b[31m45.3 MB/s\u001b[0m eta \u001b[36m0:00:00\u001b[0m\n",
            "\u001b[?25h  Preparing metadata (setup.py) ... \u001b[?25l\u001b[?25hdone\n",
            "Collecting txaio>=21.2.1 (from autobahn<27,>=22.6.1->vpython->pymoose)\n",
            "  Downloading txaio-23.1.1-py2.py3-none-any.whl (30 kB)\n",
            "Requirement already satisfied: cryptography>=3.4.6 in /usr/local/lib/python3.10/dist-packages (from autobahn<27,>=22.6.1->vpython->pymoose) (41.0.7)\n",
            "Collecting hyperlink>=21.0.0 (from autobahn<27,>=22.6.1->vpython->pymoose)\n",
            "  Downloading hyperlink-21.0.0-py2.py3-none-any.whl (74 kB)\n",
            "\u001b[2K     \u001b[90m━━━━━━━━━━━━━━━━━━━━━━━━━━━━━━━━━━━━━━━━\u001b[0m \u001b[32m74.6/74.6 kB\u001b[0m \u001b[31m10.0 MB/s\u001b[0m eta \u001b[36m0:00:00\u001b[0m\n",
            "\u001b[?25hRequirement already satisfied: setuptools in /usr/local/lib/python3.10/dist-packages (from autobahn<27,>=22.6.1->vpython->pymoose) (67.7.2)\n",
            "Requirement already satisfied: six>=1.5 in /usr/local/lib/python3.10/dist-packages (from python-dateutil>=2.7->matplotlib->pymoose) (1.16.0)\n",
            "Requirement already satisfied: ipython-genutils in /usr/local/lib/python3.10/dist-packages (from ipykernel->vpython->pymoose) (0.2.0)\n",
            "Requirement already satisfied: ipython>=5.0.0 in /usr/local/lib/python3.10/dist-packages (from ipykernel->vpython->pymoose) (7.34.0)\n",
            "Requirement already satisfied: traitlets>=4.1.0 in /usr/local/lib/python3.10/dist-packages (from ipykernel->vpython->pymoose) (5.7.1)\n",
            "Requirement already satisfied: jupyter-client in /usr/local/lib/python3.10/dist-packages (from ipykernel->vpython->pymoose) (6.1.12)\n",
            "Requirement already satisfied: tornado>=4.2 in /usr/local/lib/python3.10/dist-packages (from ipykernel->vpython->pymoose) (6.3.2)\n",
            "Requirement already satisfied: notebook in /usr/local/lib/python3.10/dist-packages (from jupyter->vpython->pymoose) (6.5.5)\n",
            "Collecting qtconsole (from jupyter->vpython->pymoose)\n",
            "  Downloading qtconsole-5.5.1-py3-none-any.whl (123 kB)\n",
            "\u001b[2K     \u001b[90m━━━━━━━━━━━━━━━━━━━━━━━━━━━━━━━━━━━━━━━━\u001b[0m \u001b[32m123.4/123.4 kB\u001b[0m \u001b[31m13.2 MB/s\u001b[0m eta \u001b[36m0:00:00\u001b[0m\n",
            "\u001b[?25hRequirement already satisfied: jupyter-console in /usr/local/lib/python3.10/dist-packages (from jupyter->vpython->pymoose) (6.1.0)\n",
            "Requirement already satisfied: nbconvert in /usr/local/lib/python3.10/dist-packages (from jupyter->vpython->pymoose) (6.5.4)\n",
            "Requirement already satisfied: ipywidgets in /usr/local/lib/python3.10/dist-packages (from jupyter->vpython->pymoose) (7.7.1)\n",
            "Requirement already satisfied: aiohttp in /usr/local/lib/python3.10/dist-packages (from jupyter-server-proxy->vpython->pymoose) (3.9.1)\n",
            "Requirement already satisfied: jupyter-server>=1.0 in /usr/local/lib/python3.10/dist-packages (from jupyter-server-proxy->vpython->pymoose) (1.24.0)\n",
            "Collecting simpervisor>=1.0 (from jupyter-server-proxy->vpython->pymoose)\n",
            "  Downloading simpervisor-1.0.0-py3-none-any.whl (8.3 kB)\n",
            "Requirement already satisfied: cffi>=1.12 in /usr/local/lib/python3.10/dist-packages (from cryptography>=3.4.6->autobahn<27,>=22.6.1->vpython->pymoose) (1.16.0)\n",
            "Requirement already satisfied: idna>=2.5 in /usr/local/lib/python3.10/dist-packages (from hyperlink>=21.0.0->autobahn<27,>=22.6.1->vpython->pymoose) (3.6)\n",
            "Collecting jedi>=0.16 (from ipython>=5.0.0->ipykernel->vpython->pymoose)\n",
            "  Downloading jedi-0.19.1-py2.py3-none-any.whl (1.6 MB)\n",
            "\u001b[2K     \u001b[90m━━━━━━━━━━━━━━━━━━━━━━━━━━━━━━━━━━━━━━━━\u001b[0m \u001b[32m1.6/1.6 MB\u001b[0m \u001b[31m77.3 MB/s\u001b[0m eta \u001b[36m0:00:00\u001b[0m\n",
            "\u001b[?25hRequirement already satisfied: decorator in /usr/local/lib/python3.10/dist-packages (from ipython>=5.0.0->ipykernel->vpython->pymoose) (4.4.2)\n",
            "Requirement already satisfied: pickleshare in /usr/local/lib/python3.10/dist-packages (from ipython>=5.0.0->ipykernel->vpython->pymoose) (0.7.5)\n",
            "Requirement already satisfied: prompt-toolkit!=3.0.0,!=3.0.1,<3.1.0,>=2.0.0 in /usr/local/lib/python3.10/dist-packages (from ipython>=5.0.0->ipykernel->vpython->pymoose) (3.0.43)\n",
            "Requirement already satisfied: pygments in /usr/local/lib/python3.10/dist-packages (from ipython>=5.0.0->ipykernel->vpython->pymoose) (2.16.1)\n",
            "Requirement already satisfied: backcall in /usr/local/lib/python3.10/dist-packages (from ipython>=5.0.0->ipykernel->vpython->pymoose) (0.2.0)\n",
            "Requirement already satisfied: matplotlib-inline in /usr/local/lib/python3.10/dist-packages (from ipython>=5.0.0->ipykernel->vpython->pymoose) (0.1.6)\n",
            "Requirement already satisfied: pexpect>4.3 in /usr/local/lib/python3.10/dist-packages (from ipython>=5.0.0->ipykernel->vpython->pymoose) (4.9.0)\n",
            "Requirement already satisfied: anyio<4,>=3.1.0 in /usr/local/lib/python3.10/dist-packages (from jupyter-server>=1.0->jupyter-server-proxy->vpython->pymoose) (3.7.1)\n",
            "Requirement already satisfied: argon2-cffi in /usr/local/lib/python3.10/dist-packages (from jupyter-server>=1.0->jupyter-server-proxy->vpython->pymoose) (23.1.0)\n",
            "Requirement already satisfied: jinja2 in /usr/local/lib/python3.10/dist-packages (from jupyter-server>=1.0->jupyter-server-proxy->vpython->pymoose) (3.1.2)\n",
            "Requirement already satisfied: jupyter-core!=5.0.*,>=4.12 in /usr/local/lib/python3.10/dist-packages (from jupyter-server>=1.0->jupyter-server-proxy->vpython->pymoose) (5.5.1)\n",
            "Requirement already satisfied: nbformat>=5.2.0 in /usr/local/lib/python3.10/dist-packages (from jupyter-server>=1.0->jupyter-server-proxy->vpython->pymoose) (5.9.2)\n",
            "Requirement already satisfied: prometheus-client in /usr/local/lib/python3.10/dist-packages (from jupyter-server>=1.0->jupyter-server-proxy->vpython->pymoose) (0.19.0)\n",
            "Requirement already satisfied: pyzmq>=17 in /usr/local/lib/python3.10/dist-packages (from jupyter-server>=1.0->jupyter-server-proxy->vpython->pymoose) (23.2.1)\n",
            "Requirement already satisfied: Send2Trash in /usr/local/lib/python3.10/dist-packages (from jupyter-server>=1.0->jupyter-server-proxy->vpython->pymoose) (1.8.2)\n",
            "Requirement already satisfied: terminado>=0.8.3 in /usr/local/lib/python3.10/dist-packages (from jupyter-server>=1.0->jupyter-server-proxy->vpython->pymoose) (0.18.0)\n",
            "Requirement already satisfied: websocket-client in /usr/local/lib/python3.10/dist-packages (from jupyter-server>=1.0->jupyter-server-proxy->vpython->pymoose) (1.7.0)\n",
            "Requirement already satisfied: lxml in /usr/local/lib/python3.10/dist-packages (from nbconvert->jupyter->vpython->pymoose) (4.9.4)\n",
            "Requirement already satisfied: beautifulsoup4 in /usr/local/lib/python3.10/dist-packages (from nbconvert->jupyter->vpython->pymoose) (4.11.2)\n",
            "Requirement already satisfied: bleach in /usr/local/lib/python3.10/dist-packages (from nbconvert->jupyter->vpython->pymoose) (6.1.0)\n",
            "Requirement already satisfied: defusedxml in /usr/local/lib/python3.10/dist-packages (from nbconvert->jupyter->vpython->pymoose) (0.7.1)\n",
            "Requirement already satisfied: entrypoints>=0.2.2 in /usr/local/lib/python3.10/dist-packages (from nbconvert->jupyter->vpython->pymoose) (0.4)\n",
            "Requirement already satisfied: jupyterlab-pygments in /usr/local/lib/python3.10/dist-packages (from nbconvert->jupyter->vpython->pymoose) (0.3.0)\n",
            "Requirement already satisfied: MarkupSafe>=2.0 in /usr/local/lib/python3.10/dist-packages (from nbconvert->jupyter->vpython->pymoose) (2.1.3)\n",
            "Requirement already satisfied: mistune<2,>=0.8.1 in /usr/local/lib/python3.10/dist-packages (from nbconvert->jupyter->vpython->pymoose) (0.8.4)\n",
            "Requirement already satisfied: nbclient>=0.5.0 in /usr/local/lib/python3.10/dist-packages (from nbconvert->jupyter->vpython->pymoose) (0.9.0)\n",
            "Requirement already satisfied: pandocfilters>=1.4.1 in /usr/local/lib/python3.10/dist-packages (from nbconvert->jupyter->vpython->pymoose) (1.5.0)\n",
            "Requirement already satisfied: tinycss2 in /usr/local/lib/python3.10/dist-packages (from nbconvert->jupyter->vpython->pymoose) (1.2.1)\n",
            "Requirement already satisfied: attrs>=17.3.0 in /usr/local/lib/python3.10/dist-packages (from aiohttp->jupyter-server-proxy->vpython->pymoose) (23.1.0)\n",
            "Requirement already satisfied: multidict<7.0,>=4.5 in /usr/local/lib/python3.10/dist-packages (from aiohttp->jupyter-server-proxy->vpython->pymoose) (6.0.4)\n",
            "Requirement already satisfied: yarl<2.0,>=1.0 in /usr/local/lib/python3.10/dist-packages (from aiohttp->jupyter-server-proxy->vpython->pymoose) (1.9.4)\n",
            "Requirement already satisfied: frozenlist>=1.1.1 in /usr/local/lib/python3.10/dist-packages (from aiohttp->jupyter-server-proxy->vpython->pymoose) (1.4.1)\n",
            "Requirement already satisfied: aiosignal>=1.1.2 in /usr/local/lib/python3.10/dist-packages (from aiohttp->jupyter-server-proxy->vpython->pymoose) (1.3.1)\n",
            "Requirement already satisfied: async-timeout<5.0,>=4.0 in /usr/local/lib/python3.10/dist-packages (from aiohttp->jupyter-server-proxy->vpython->pymoose) (4.0.3)\n",
            "Requirement already satisfied: widgetsnbextension~=3.6.0 in /usr/local/lib/python3.10/dist-packages (from ipywidgets->jupyter->vpython->pymoose) (3.6.6)\n",
            "Requirement already satisfied: jupyterlab-widgets>=1.0.0 in /usr/local/lib/python3.10/dist-packages (from ipywidgets->jupyter->vpython->pymoose) (3.0.9)\n",
            "Requirement already satisfied: nest-asyncio>=1.5 in /usr/local/lib/python3.10/dist-packages (from notebook->jupyter->vpython->pymoose) (1.5.8)\n",
            "Requirement already satisfied: nbclassic>=0.4.7 in /usr/local/lib/python3.10/dist-packages (from notebook->jupyter->vpython->pymoose) (1.0.0)\n",
            "Collecting qtpy>=2.4.0 (from qtconsole->jupyter->vpython->pymoose)\n",
            "  Downloading QtPy-2.4.1-py3-none-any.whl (93 kB)\n",
            "\u001b[2K     \u001b[90m━━━━━━━━━━━━━━━━━━━━━━━━━━━━━━━━━━━━━━━━\u001b[0m \u001b[32m93.5/93.5 kB\u001b[0m \u001b[31m11.5 MB/s\u001b[0m eta \u001b[36m0:00:00\u001b[0m\n",
            "\u001b[?25hRequirement already satisfied: sniffio>=1.1 in /usr/local/lib/python3.10/dist-packages (from anyio<4,>=3.1.0->jupyter-server>=1.0->jupyter-server-proxy->vpython->pymoose) (1.3.0)\n",
            "Requirement already satisfied: exceptiongroup in /usr/local/lib/python3.10/dist-packages (from anyio<4,>=3.1.0->jupyter-server>=1.0->jupyter-server-proxy->vpython->pymoose) (1.2.0)\n",
            "Requirement already satisfied: pycparser in /usr/local/lib/python3.10/dist-packages (from cffi>=1.12->cryptography>=3.4.6->autobahn<27,>=22.6.1->vpython->pymoose) (2.21)\n",
            "Requirement already satisfied: parso<0.9.0,>=0.8.3 in /usr/local/lib/python3.10/dist-packages (from jedi>=0.16->ipython>=5.0.0->ipykernel->vpython->pymoose) (0.8.3)\n",
            "Requirement already satisfied: platformdirs>=2.5 in /usr/local/lib/python3.10/dist-packages (from jupyter-core!=5.0.*,>=4.12->jupyter-server>=1.0->jupyter-server-proxy->vpython->pymoose) (4.1.0)\n",
            "Requirement already satisfied: notebook-shim>=0.2.3 in /usr/local/lib/python3.10/dist-packages (from nbclassic>=0.4.7->notebook->jupyter->vpython->pymoose) (0.2.3)\n",
            "Requirement already satisfied: fastjsonschema in /usr/local/lib/python3.10/dist-packages (from nbformat>=5.2.0->jupyter-server>=1.0->jupyter-server-proxy->vpython->pymoose) (2.19.0)\n",
            "Requirement already satisfied: jsonschema>=2.6 in /usr/local/lib/python3.10/dist-packages (from nbformat>=5.2.0->jupyter-server>=1.0->jupyter-server-proxy->vpython->pymoose) (4.19.2)\n",
            "Requirement already satisfied: ptyprocess>=0.5 in /usr/local/lib/python3.10/dist-packages (from pexpect>4.3->ipython>=5.0.0->ipykernel->vpython->pymoose) (0.7.0)\n",
            "Requirement already satisfied: wcwidth in /usr/local/lib/python3.10/dist-packages (from prompt-toolkit!=3.0.0,!=3.0.1,<3.1.0,>=2.0.0->ipython>=5.0.0->ipykernel->vpython->pymoose) (0.2.12)\n",
            "Requirement already satisfied: argon2-cffi-bindings in /usr/local/lib/python3.10/dist-packages (from argon2-cffi->jupyter-server>=1.0->jupyter-server-proxy->vpython->pymoose) (21.2.0)\n",
            "Requirement already satisfied: soupsieve>1.2 in /usr/local/lib/python3.10/dist-packages (from beautifulsoup4->nbconvert->jupyter->vpython->pymoose) (2.5)\n",
            "Requirement already satisfied: webencodings in /usr/local/lib/python3.10/dist-packages (from bleach->nbconvert->jupyter->vpython->pymoose) (0.5.1)\n",
            "Requirement already satisfied: jsonschema-specifications>=2023.03.6 in /usr/local/lib/python3.10/dist-packages (from jsonschema>=2.6->nbformat>=5.2.0->jupyter-server>=1.0->jupyter-server-proxy->vpython->pymoose) (2023.11.2)\n",
            "Requirement already satisfied: referencing>=0.28.4 in /usr/local/lib/python3.10/dist-packages (from jsonschema>=2.6->nbformat>=5.2.0->jupyter-server>=1.0->jupyter-server-proxy->vpython->pymoose) (0.32.0)\n",
            "Requirement already satisfied: rpds-py>=0.7.1 in /usr/local/lib/python3.10/dist-packages (from jsonschema>=2.6->nbformat>=5.2.0->jupyter-server>=1.0->jupyter-server-proxy->vpython->pymoose) (0.15.2)\n",
            "Building wheels for collected packages: autobahn\n",
            "  Building wheel for autobahn (setup.py) ... \u001b[?25l\u001b[?25hdone\n",
            "  Created wheel for autobahn: filename=autobahn-23.6.2-cp310-cp310-linux_x86_64.whl size=709077 sha256=d0788848b459ce99fbdc9a534d716c2a9d10a4e3504528b8ebc74c0c89fd17a2\n",
            "  Stored in directory: /root/.cache/pip/wheels/91/de/ea/aa1c040ea3fa2c92276d081c13a415aca31786456f15abcc86\n",
            "Successfully built autobahn\n",
            "Installing collected packages: txaio, simpervisor, qtpy, jedi, hyperlink, autobahn, qtconsole, jupyter-server-proxy, jupyter, vpython, pymoose\n",
            "Successfully installed autobahn-23.6.2 hyperlink-21.0.0 jedi-0.19.1 jupyter-1.0.0 jupyter-server-proxy-4.1.0 pymoose-4.0.0 qtconsole-5.5.1 qtpy-2.4.1 simpervisor-1.0.0 txaio-23.1.1 vpython-7.6.4\n"
          ]
        }
      ],
      "source": [
        "!pip install pymoose"
      ]
    },
    {
      "cell_type": "markdown",
      "source": [
        "## Modelling a small section of a neuron\n",
        "\n",
        "![A passive neuronal compartment](https://moose.ncbs.res.in/readthedocs/_images/neuronalcompartment.jpg)\n",
        "\n",
        "A compartment models the electrical properties of a little piece of a neuron.\n",
        "Neurons are animal cells, and thus eukaryotic. The outermost layer of such a cell is usually the *cell membrane* (some neurons also have another layer called myelin sheath outside the cell membrane, but we shall keep that for later).\n",
        "\n",
        "The cell membrane is made of two layers of fat or lipid, called the *lipid bilayer*. Its thickness and other physcial properties are quite standard across cell types. An insulator separating conductors with a voltage difference between them is a capacitor (Cm). But the cell membrane is more than just an insulator. It has many channels that allow charge-carrying ions to move between the cytoplasm and the external medium. The moving ions face resistance in their movement, which can be modeled as a resistor (Rm). In addition, there is a potential difference between the cytoplasm (inside the cell) and the external medium (outside the cell).\n",
        "\n",
        "Experimenters often conduct current clamp experiments to characterize a neuron. They insert an electrode into the cell, and then pass a constant current for some time through the electrode. There is a special kind of electrical circuit (a constant current-source) that changes the voltage at the terminal connected to the electrode to maintain a constant current flowing through it. This is usually stated as injecting a constant current into the cell.\n",
        "\n",
        "The membrane resistance and capacitance provide two alternate paths for electricity, making it equivalent to a parallel RC circuit, i.e., a circuit where a resistor and a capator are connected in parallel. The current splits between these two components."
      ],
      "metadata": {
        "id": "u8Tw_UegOTZK"
      }
    },
    {
      "cell_type": "markdown",
      "source": [
        "## Parallel RC Circuit\n",
        "In a parallel connection of a resistor $R$ and a capacitor $C$ the two components have the same voltage between their terminals.\n",
        "\n",
        "Now, for a capacitor of capacitance $C$ with voltage $V$ across it, the total electric charge across it is\n",
        "\n",
        "$q = CV$\n",
        "\n",
        "Electric current is the rate of flow of charge, which is the derivative of charge with respect to time:\n",
        "\n",
        "$\\frac{dq}{dt} = C \\frac{dV}{dt}$ since $C$ is constant (a property of the capacitor),\n",
        "\n",
        "or $i_{C} = C \\frac{dV}{dt}$\n",
        "\n",
        "By Ohm's law, if the current through the resistor is $i_{R}$, then\n",
        "\n",
        "$V = i_{R} R$\n",
        "\n",
        "or $i_{R} = \\frac{V}{R}$\n",
        "\n",
        "Thus, the total current through both the components would be\n",
        "\n",
        "$i = i_{R} + i_{C}$\n",
        "\n",
        "$i = \\frac{V}{R} + C \\frac{dV}{dt}$\n",
        "\n",
        "\n",
        "$\\frac{dV}{dt} = \\frac{1}{C}(i - \\frac{V}{R})$\n",
        "\n",
        "This is a first order ordinary differential equation (ODE). In a current clamp experiment we inject a constant current $i$ into the cell, and the differential equation can be solved to find the evolution of voltage $V$ over time for a given current. This equation has an analytical solution, and can also be easily solved numerically.\n",
        "\n",
        "The denominator of $V$ on the right hand side is $RC$ which determines how fast the capacitor gets charged or discharged. This is called the time constant, and is denoted by $\\tau$.\n",
        "\n",
        "*In electronics/electrical engineering resistors, capacitors, inductors, and memristors are called passive components. Thus the model of the cell membrane using only a resistor and a capacitor is called the <b>passive membrane</b>*"
      ],
      "metadata": {
        "id": "yDXlNcd-sJAx"
      }
    },
    {
      "cell_type": "markdown",
      "source": [
        "## Solving the passive membrane equation in Python\n",
        "The `scipy` module in Python provides several functions for solving ODEs. The recommended method for this kind of problem is [`scipy.integrate.solve_ivp`](https://docs.scipy.org/doc/scipy/reference/generated/scipy.integrate.solve_ivp.html#scipy.integrate.solve_ivp). `ivp` stands for initial value problem, where we can set the initial values of the parameter(s) of our ODE, and then compute how they evolve with time (the independent variable).\n",
        "\n",
        "The function signature is: `scipy.integrate.solve_ivp(fun, t_span, y0, ...)`\n",
        "\n",
        "Here `fun` must be a function with signature `fun(t, y)` where `y` is the dependent variable (in our case $V$) and `t` is the independent variable (time). This function must return the value of $\\frac{dy}{dt}$ at time $t$. $y0$ is the initial value of $y$, i.e., its value at time $t = t_{0}$ ($t_{0} = 0$ if we start our clock at that moment).\n",
        "\n",
        "Now, we could translate the equation above to this function\n",
        "\n",
        "```python\n",
        "def dv_dt(t, v):\n",
        "  \"\"\"function returning the value of dV/dt\n",
        "  at time t and current voltage v\"\"\"\n",
        "  return (i - v/R)/C\n",
        "\n",
        "```\n",
        "However, there is a problem. How would our function know the value of `i`, `R` and `C`?\n",
        "One possibility is to keep them as global constants in our script.\n",
        "\n",
        "We can set $R$ to $10 kS$ and $C$ to $0.1 \\mu F$ which will give a time constant of $\\tau = RC = 1 ms$. We can test this circuit by injecting $1 \\mu A$ current into it.\n",
        "\n",
        "In Neuroscience literature `Vm` commonly represents the membrane voltage\n",
        "i.e., the potential difference between the cytoplasm and the extracellular medium. In many mammalian neurons this has a value around -70 mV when the cell is in the resting state."
      ],
      "metadata": {
        "id": "B0aIMRaI6StD"
      }
    },
    {
      "cell_type": "code",
      "source": [
        "R = 1e4     # 10 kS\n",
        "C = 1e-7   # 0.10 uF\n",
        "i = 1e-6    # 1 uA\n",
        "V0 = -70e-3  # -70 mV\n",
        "\n",
        "def dv_dt(t, Vm):\n",
        "  \"\"\"function returning the value of dV/dt\n",
        "  at time t and current voltage v\"\"\"\n",
        "  return (i - Vm/R)/C"
      ],
      "metadata": {
        "id": "R-H3XXbS98xy"
      },
      "execution_count": null,
      "outputs": []
    },
    {
      "cell_type": "markdown",
      "source": [
        "Now we need to import `scipy`'s `solve_ivp` function, and call it with the function `dv_dt` along with the initial membrane voltage `V0`, range of time $t$ (`t_span`) and the time points at which we want the value of Vm (`t_eval`).\n",
        "\n",
        "Note that we have to pass V0 inside a list because `solve_ivp` expects a 1 dimensional array, not a scalar for the `y0` parameter."
      ],
      "metadata": {
        "id": "jPe7l2pwE9RN"
      }
    },
    {
      "cell_type": "code",
      "source": [
        "import numpy as np\n",
        "from scipy.integrate import solve_ivp\n",
        "\n",
        "\n",
        "# Calculate the values of V for 10 ms\n",
        "t_span = (0, 10e-3)\n",
        "# Return the values from 0 to 10 ms at 0.1 ms interval\n",
        "t_eval = np.arange(*t_span, 0.1e-3)\n",
        "# Initial value of V can be -70 mV, frequently\n",
        "# found resting membrane potential in mammalian neurons\n",
        "result = solve_ivp(fun=dv_dt, t_span=t_span, y0=[V0], t_eval=t_eval)"
      ],
      "metadata": {
        "id": "1kBYet0ZFPVx"
      },
      "execution_count": null,
      "outputs": []
    },
    {
      "cell_type": "markdown",
      "source": [
        "Now `result` contains the object returned by `solve_ivp`. The attributes of use to us are `t`, the time points at which the solver computed the value of our variable, and `y`, the corresponding values. Also, `result.y` is a 2D array where each row represents the values of one dependent variable. We have only one, Vm, so we have to take out the first (and only) row `y[0]` for plotting against `t`."
      ],
      "metadata": {
        "id": "ERsjdTjyJ7Gg"
      }
    },
    {
      "cell_type": "code",
      "source": [
        "import matplotlib.pyplot as plt\n",
        "\n",
        "\n",
        "# Note that we are changing the units for a cleaner plot\n",
        "#\n",
        "plt.plot(result.t*1e3, result.y[0]*1e3)\n",
        "plt.xlabel('Time (ms)')\n",
        "plt.ylabel('Voltage (mV)')"
      ],
      "metadata": {
        "colab": {
          "base_uri": "https://localhost:8080/",
          "height": 467
        },
        "id": "_4SQDfY2KkHM",
        "outputId": "bfeca6ad-173c-42f5-d1d0-a6e71447b8d6"
      },
      "execution_count": null,
      "outputs": [
        {
          "output_type": "execute_result",
          "data": {
            "text/plain": [
              "Text(0, 0.5, 'Voltage (mV)')"
            ]
          },
          "metadata": {},
          "execution_count": 5
        },
        {
          "output_type": "display_data",
          "data": {
            "text/plain": [
              "<Figure size 640x480 with 1 Axes>"
            ],
            "image/png": "[encoded data removed]"
          },
          "metadata": {}
        }
      ]
    },
    {
      "cell_type": "markdown",
      "source": [
        "**You should play with the values of $R$ and $C$ to understand how their product affects the steepness of the curve.**"
      ],
      "metadata": {
        "id": "16EtA7P-M1ss"
      }
    },
    {
      "cell_type": "markdown",
      "source": [
        "## `scipy` to `MOOSE`\n",
        "A neuron has a complex morphology, and each little section is implemented as a compartment. Different compartments may have different total resistance and capacitance. Electric current flows from compartment to compartment. The approach using ODE solvers directly gets out of hand very quickly.\n",
        "\n",
        "MOOSE provides a more natural way of setting up complex models with objects that correspond to the biological entities, and hides the details of setting up the ODEs from the user."
      ],
      "metadata": {
        "id": "RNob7lOYNIHB"
      }
    },
    {
      "cell_type": "markdown",
      "source": [
        "### Import moose to use its classes and functions"
      ],
      "metadata": {
        "id": "JaN5ivlEO8CW"
      }
    },
    {
      "cell_type": "code",
      "source": [
        "import moose as mu"
      ],
      "metadata": {
        "id": "UsM3hfRiO8CZ"
      },
      "execution_count": null,
      "outputs": []
    },
    {
      "cell_type": "markdown",
      "source": [
        "### `le()` function lists the elements available.\n",
        "The output looks similar to directory listing on Unix systems. `/` is the root element, everything else is created under this. There are a bunch of elements that already exist. These elements are not for the user, but used by MOOSE for managing the infrastructure underlying the models and simulations."
      ],
      "metadata": {
        "id": "yNby-rlMO8Cb"
      }
    },
    {
      "cell_type": "code",
      "source": [
        "mu.le()"
      ],
      "metadata": {
        "colab": {
          "base_uri": "https://localhost:8080/"
        },
        "outputId": "cdf857f1-bfe2-46e4-f107-f5be29b0c7fa",
        "id": "3OR1LjMmO8Cc"
      },
      "execution_count": null,
      "outputs": [
        {
          "output_type": "stream",
          "name": "stdout",
          "text": [
            "Elements under /\n",
            "    /Msgs\n",
            "    /clock\n",
            "    /classes\n",
            "    /postmaster\n",
            "\n"
          ]
        },
        {
          "output_type": "execute_result",
          "data": {
            "text/plain": [
              "['/Msgs', '/clock', '/classes', '/postmaster']"
            ]
          },
          "metadata": {},
          "execution_count": 7
        }
      ]
    },
    {
      "cell_type": "markdown",
      "source": [
        "### It is good practice to separate your model from data\n",
        "So we create an element `/data` for containing the data tables and another element `model` for containing the model structure. These are of the class `Neutral`, which is simply a container without any simulation related function."
      ],
      "metadata": {
        "id": "1wjFZkLSO8Cd"
      }
    },
    {
      "cell_type": "code",
      "source": [
        "data = mu.Neutral('/data')\n",
        "model = mu.Neutral('/model')"
      ],
      "metadata": {
        "id": "Ou0zLBjuO8Ce"
      },
      "execution_count": null,
      "outputs": []
    },
    {
      "cell_type": "code",
      "source": [
        "compartment = mu.Compartment('/model/compartment')"
      ],
      "metadata": {
        "id": "EEuFuuImO8Ce"
      },
      "execution_count": null,
      "outputs": []
    },
    {
      "cell_type": "markdown",
      "source": [
        "### Set the properties of the compartment\n",
        "\n",
        "We have to set the numerical values for these properties before we can use it for  simulations that make physiological sense.\n",
        "\n",
        "But what are these properties?\n",
        "\n",
        "These are available as fields of the compartment object. We can see a list of available fields in the compartment object using the `getFieldNames` function:"
      ],
      "metadata": {
        "id": "CkIuGDjw5Rob"
      }
    },
    {
      "cell_type": "code",
      "source": [
        "mu.getFieldNames(compartment)"
      ],
      "metadata": {
        "colab": {
          "base_uri": "https://localhost:8080/"
        },
        "id": "y26qUGrRQCM5",
        "outputId": "06dd9414-9814-41ee-95be-129acbc48d2b"
      },
      "execution_count": null,
      "outputs": [
        {
          "output_type": "execute_result",
          "data": {
            "text/plain": [
              "['this',\n",
              " 'name',\n",
              " 'me',\n",
              " 'parent',\n",
              " 'children',\n",
              " 'path',\n",
              " 'className',\n",
              " 'numData',\n",
              " 'numField',\n",
              " 'idValue',\n",
              " 'index',\n",
              " 'fieldIndex',\n",
              " 'tick',\n",
              " 'dt',\n",
              " 'valueFields',\n",
              " 'sourceFields',\n",
              " 'destFields',\n",
              " 'msgOut',\n",
              " 'msgIn',\n",
              " 'Vm',\n",
              " 'Cm',\n",
              " 'Em',\n",
              " 'Im',\n",
              " 'inject',\n",
              " 'initVm',\n",
              " 'Rm',\n",
              " 'Ra',\n",
              " 'diameter',\n",
              " 'length',\n",
              " 'x0',\n",
              " 'y0',\n",
              " 'z0',\n",
              " 'x',\n",
              " 'y',\n",
              " 'z',\n",
              " 'coords']"
            ]
          },
          "metadata": {},
          "execution_count": 10
        }
      ]
    },
    {
      "cell_type": "markdown",
      "source": [
        "We can set the initial value of the membrane voltage `initVm` to the resting value $-70 mV$."
      ],
      "metadata": {
        "id": "Pb-zlPvwRZK9"
      }
    },
    {
      "cell_type": "code",
      "source": [
        "compartment.initVm = -70e-3"
      ],
      "metadata": {
        "id": "Tm106NbcNklW"
      },
      "execution_count": null,
      "outputs": []
    },
    {
      "cell_type": "markdown",
      "source": [
        "For the simulation corresponding to the above example, we set $Rm$ to $10 kS$, $Cm$ to $0.1 \\mu F$ and injection current $1 \\mu A$.\n"
      ],
      "metadata": {
        "id": "6Fd-_A0dUi-N"
      }
    },
    {
      "cell_type": "code",
      "source": [
        "compartment.Rm = 1e4\n",
        "compartment.Cm = 1e-7\n",
        "compartment.inject = 1e-6"
      ],
      "metadata": {
        "id": "FWrESrGuVdnr"
      },
      "execution_count": null,
      "outputs": []
    },
    {
      "cell_type": "markdown",
      "source": [
        "### Setup recording and run the simulation\n",
        "In moose the data get stored in objects of the `Table` class. We connect a table to a field whose values we want to record. As the simulation progresses, the computed value gets appended to the connected table."
      ],
      "metadata": {
        "id": "XuS_WIviWb6k"
      }
    },
    {
      "cell_type": "code",
      "source": [
        "vm_tab = mu.Table('/data/Vm')\n",
        "mu.connect(vm_tab, 'requestOut', compartment, 'getVm')"
      ],
      "metadata": {
        "colab": {
          "base_uri": "https://localhost:8080/"
        },
        "id": "wC7tcCY-W19-",
        "outputId": "dcb35bcc-4c18-4b01-d113-17bc4b14af5e"
      },
      "execution_count": null,
      "outputs": [
        {
          "output_type": "execute_result",
          "data": {
            "text/plain": [
              "<moose.SingleMsg id=5 dataIndex=0 path=/Msgs[0]/singleMsg[0]>"
            ]
          },
          "metadata": {},
          "execution_count": 13
        }
      ]
    },
    {
      "cell_type": "markdown",
      "source": [
        "Here the first line creates a table called `Vm` under the `/data` element. Most MOOSE classes allow communication between different objects via something called `message fields`. The `requestOut` field of `vm_tab` is connected to the `getVm` field of `compartment`.\n",
        "\n",
        "`vm_tab` has an associated `dt` field for the time interval at which it gets the `Vm` sample from `compartment`.\n",
        "\n",
        "#### *NOTE*\n",
        "*The above cell should be executed exactly once. You may modify the parameters, like*\n",
        "\n",
        "```\n",
        "compartment.initVm = -70e-3\n",
        "compartment.Rm = 1e4\n",
        "compartment.Cm = 1e-7\n",
        "compartment.inject = 1e-6\n",
        "```\n",
        "\n",
        "*as many times as you wish and rerun the steps below to simulate the modified model. But the `mu.connect(source_element, source_message, target_element, target_message)` changes the stucture of the model, and you should avoid that unless you know what you are doing.*\n"
      ],
      "metadata": {
        "id": "AScRZgzDuxoF"
      }
    },
    {
      "cell_type": "markdown",
      "source": [
        "### Initialize and run the simulation\n",
        "Now we can tell moose to initialize all parameters to default or specified initial values (e.g., `initVm` of compartment will be assigned to `Vm`) using the `reinit()` function, and then start simulation for a specified runtime."
      ],
      "metadata": {
        "id": "XMv_q--CZ3Nb"
      }
    },
    {
      "cell_type": "code",
      "source": [
        "runtime = 10e-3  # simulate 10 ms\n",
        "mu.reinit()\n",
        "mu.start(runtime)"
      ],
      "metadata": {
        "id": "u9An7WnDYzl_"
      },
      "execution_count": null,
      "outputs": []
    },
    {
      "cell_type": "markdown",
      "source": [
        "The `start(runtime)` function will run the simulation for `runtime` time, and at each timestep the table `vm_tab` will get the calculated value of `Vm`. The underlying array of `Vm` values can be accessed like a numpy array via the attribute `vector` of the `Table` object (`vm_tab`).\n",
        "\n",
        "How about the time points? As mentioned earlier, successive timepoints of recording `Vm` are `vm_tab.dt` apart, i.e.,\n",
        "\n",
        "\n",
        "$t_{0} = 0$\n",
        "\n",
        "$t_{1} = dt$\n",
        "\n",
        "$t_{2} = 2 dt$\n",
        "\n",
        "$t_{3} = 3 dt$\n",
        "\n",
        "...\n",
        "\n",
        "$t_{n-1} = (n - 1) dt$\n",
        "\n",
        "\n",
        "So we can compute the time points (starting from 0) by multiplying the index of the data point by `dt`:\n",
        "```\n",
        "# numpy's arange(n) creates an array numbers containing 0 to (n-1)\n",
        "t = np.arange(len(Vm)) * vm_tab.dt\n",
        "```"
      ],
      "metadata": {
        "id": "GDMKTi7JcOHL"
      }
    },
    {
      "cell_type": "code",
      "source": [
        "Vm = vm_tab.vector\n",
        "t = np.arange(len(Vm)) * vm_tab.dt\n",
        "plt.plot(t * 1e3, Vm * 1e3)"
      ],
      "metadata": {
        "colab": {
          "base_uri": "https://localhost:8080/",
          "height": 448
        },
        "id": "PBSzChUjY-0i",
        "outputId": "606f89b4-4923-4f62-95ac-476baafdd1a2"
      },
      "execution_count": null,
      "outputs": [
        {
          "output_type": "execute_result",
          "data": {
            "text/plain": [
              "[<matplotlib.lines.Line2D at 0x7addb0468a60>]"
            ]
          },
          "metadata": {},
          "execution_count": 15
        },
        {
          "output_type": "display_data",
          "data": {
            "text/plain": [
              "<Figure size 640x480 with 1 Axes>"
            ],
            "image/png": "[encoded data removed]"
          },
          "metadata": {}
        }
      ]
    },
    {
      "cell_type": "markdown",
      "source": [
        "## Exercises\n",
        "1. Change the value of $initVm$ to 0 mV and rerun the simulation. What change to you observe?\n",
        "1. Change the magnitude of the injected current, make it 10 times larger or smaller. What are the effects?\n",
        "1. Modify the values of $Rm$ and $Cm$ and rerun the simulation. How do they affect the voltage curve?\n",
        "1. Double $Rm$ and halve $Cm$ and simulate again. Does the curve change? What do you conclude from this?"
      ],
      "metadata": {
        "id": "Sk91njZ1Lu2p"
      }
    },
    {
      "cell_type": "markdown",
      "source": [
        "## A more realistic approach\n",
        "\n",
        "When modelling closely with experimental data, one obtains the geometric structure (morphology) of neurons by tracing dye-filled neurons under a microscope. This data is then processed to estimate the length and diameter of compartments. Modellers often use constant specific capacitance on all the compartments (as we mentioned earlier, this is pretty standard for all cell membranes), and often a constant specific resistance (resistivity) for all, or groups of, compartments. This requires calculating the total resistance and capacitance for each compartment based on its dimensions."
      ],
      "metadata": {
        "id": "_JWN9NFIXbYZ"
      }
    },
    {
      "cell_type": "markdown",
      "source": [
        "Let us say the length of the compartment is 10 μm and the diameter is also 10 μm"
      ],
      "metadata": {
        "id": "iHQQro2APncn"
      }
    },
    {
      "cell_type": "code",
      "source": [
        "compartment.length = 10e-6\n",
        "compartment.diameter = 10e-6"
      ],
      "metadata": {
        "id": "W__CJqbERHT_"
      },
      "execution_count": null,
      "outputs": []
    },
    {
      "cell_type": "markdown",
      "source": [
        "However, these are not used in the electrical simulation, but are used for visualization. The electrical properties `Rm` and `Cm` determine the behavior of the neuron in response to electric current. These are absolute, not specific values, in MOOSE.\n",
        "\n",
        "All eukaryotic cell membranes are made of lipid bilayer, and this has a specific capacitance of about $1 \\mu F/cm^2$.\n",
        "\n",
        "The total capacitance of a cylindrical compartment will be $area \\times specific\\; capacitance$"
      ],
      "metadata": {
        "id": "x1t_H4M4QMfo"
      }
    },
    {
      "cell_type": "code",
      "source": [
        "specific_cm = 1e-6/(1e-2)**2\n",
        "compartment.Cm = 3.1416 * compartment.diameter * compartment.length * specific_cm\n",
        "print(compartment.Cm)"
      ],
      "metadata": {
        "colab": {
          "base_uri": "https://localhost:8080/"
        },
        "id": "webK1umBSkwg",
        "outputId": "e38a5e4b-2b33-4fbb-a4b7-30f642f5d51f"
      },
      "execution_count": null,
      "outputs": [
        {
          "output_type": "stream",
          "name": "stdout",
          "text": [
            "3.1416e-12\n"
          ]
        }
      ]
    },
    {
      "cell_type": "markdown",
      "source": [
        "Note that we converted the $\\mu F/cm ^{2}$ to $F/m^{2}$ in order to have consistent SI units throughout. In electrophysiology experiments people often report measured capacitance in $nF$ (nanoFarads, $10^{-9} F$) or $pF$ (picoFarads, $10^{-12} F$). Numerical methods are unit agnostic. So in order to get sensible results you must use a consistent unit system throughout."
      ],
      "metadata": {
        "id": "n5uunrmdTd4z"
      }
    },
    {
      "cell_type": "markdown",
      "source": [
        "In contrast to membrane capacitance, the resistance of the membrane does not have a standard value. This varies from neuron to neuron, and can be different in different parts of the same neuron depending on the distribution of passive channel in the membrane.\n",
        "\n",
        "Experimenters often measure the time constant (denoted $\\tau$) of the membrane, and we can calculate the absolute resistance using the formula $\\tau = R_{m} \\times C_{m}$\n",
        "\n",
        "From the [neuroelectro](https://neuroelectro.org) database we find 20 ms may be a good value for some cases: https://neuroelectro.org/ephys_prop/4/"
      ],
      "metadata": {
        "id": "IJXkHY30TsZy"
      }
    },
    {
      "cell_type": "code",
      "source": [
        "compartment.Rm = 20e-3 / compartment.Cm\n",
        "print('Rm =', compartment.Rm)"
      ],
      "metadata": {
        "id": "ymDjy8q3Vl_1",
        "colab": {
          "base_uri": "https://localhost:8080/"
        },
        "outputId": "b6aac3a1-7e69-4965-eb63-b97612fd9625"
      },
      "execution_count": null,
      "outputs": [
        {
          "output_type": "stream",
          "name": "stdout",
          "text": [
            "Rm = 6366182836.771072\n"
          ]
        }
      ]
    },
    {
      "cell_type": "markdown",
      "source": [
        "Now you can repeat the same sequence of Python instructions to rerun the modified model and plot the data.\n"
      ],
      "metadata": {
        "id": "mNI0rp-_RFPO"
      }
    },
    {
      "cell_type": "code",
      "source": [
        "runtime = 10e-3  # simulate 10 ms\n",
        "mu.reinit()\n",
        "mu.start(runtime)\n",
        "Vm = vm_tab.vector\n",
        "t = np.arange(len(Vm)) * vm_tab.dt\n",
        "plt.plot(t * 1e3, Vm * 1e3)"
      ],
      "metadata": {
        "colab": {
          "base_uri": "https://localhost:8080/",
          "height": 463
        },
        "id": "cmspbWFCRPeC",
        "outputId": "c337e23a-053f-4d49-a5d3-846cefa24e98"
      },
      "execution_count": null,
      "outputs": [
        {
          "output_type": "execute_result",
          "data": {
            "text/plain": [
              "[<matplotlib.lines.Line2D at 0x7add98cd31c0>]"
            ]
          },
          "metadata": {},
          "execution_count": 20
        },
        {
          "output_type": "display_data",
          "data": {
            "text/plain": [
              "<Figure size 640x480 with 1 Axes>"
            ],
            "image/png": "[encoded data removed]"
          },
          "metadata": {}
        }
      ]
    },
    {
      "cell_type": "markdown",
      "source": [
        "Since the time constant $\\tau$ is 20 ms, 10 ms runtime could not really capture the charging timecourse in its entirety.\n",
        "\n",
        "## Exercises\n",
        "1. Modify the runtime to see the voltage reach a steady state.\n",
        "1. What is the steady state voltage? Can you find a relation between the steady state voltage $Vm$, $Rm$ and $inject$?\n",
        "1. What could be a realistic range for current injection ($inject$) for this cell?"
      ],
      "metadata": {
        "id": "sUwrhLioSFRe"
      }
    }
  ]
}