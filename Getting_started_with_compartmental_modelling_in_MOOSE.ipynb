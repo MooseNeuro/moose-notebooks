{
 "cells": [
  {
   "cell_type": "markdown",
   "metadata": {},
   "source": [
    "[![Open In Colab](https://colab.research.google.com/assets/colab-badge.svg)](https://colab.research.google.com/github/googlecolab/colabtools/blob/master/notebooks/colab-github-demo.ipynb) [![Binder](https://mybinder.org/badge_logo.svg)](https://mybinder.org/v2/gh/github/repo/master)"
   ]
  },
  {
   "cell_type": "markdown",
   "metadata": {
    "id": "f5mf7Df8Gxsl"
   },
   "source": [
    "# Getting started with compartmental modelling in MOOSE\n",
    "\n",
    "## Author: Subhasis Ray\n",
    "### Created: 2023-12-15"
   ]
  },
  {
   "cell_type": "markdown",
   "metadata": {
    "id": "aooFxtV7KZ0g"
   },
   "source": [
    "## Install pymoose with `pip`\n",
    "The python module for `moose` is called `pymoose`. It is available on PyPi, so you can install it using `pip`"
   ]
  },
  {
   "cell_type": "code",
   "execution_count": null,
   "metadata": {
    "colab": {
     "base_uri": "https://localhost:8080/"
    },
    "id": "mkvDiIPA3YBM",
    "outputId": "f9e634fb-5a4e-4274-8eab-45ff50cedbe0"
   },
   "outputs": [],
   "source": [
    "!pip install pymoose  # required on colab"
   ]
  },
  {
   "cell_type": "markdown",
   "metadata": {
    "id": "u8Tw_UegOTZK"
   },
   "source": [
    "## Modelling a small section of a neuron\n",
    "\n",
    "![A passive neuronal compartment](https://moose.ncbs.res.in/readthedocs/_images/neuronalcompartment.jpg)\n",
    "\n",
    "A compartment models the electrical properties of a little piece of a neuron.\n",
    "Neurons are animal cells, and thus eukaryotic. The outermost layer of such a cell is usually the *cell membrane* (some neurons also have another layer called myelin sheath outside the cell membrane, but we shall keep that for later).\n",
    "\n",
    "The cell membrane is made of two layers of fat or lipid, called the *lipid bilayer*. Its thickness and other physcial properties are quite standard across cell types. An insulator separating conductors with a voltage difference between them is a capacitor (Cm). But the cell membrane is more than just an insulator. It has many channels that allow charge-carrying ions to move between the cytoplasm and the external medium. The moving ions face resistance in their movement, which can be modeled as a resistor (Rm). In addition, there is a potential difference between the cytoplasm (inside the cell) and the external medium (outside the cell).\n",
    "\n",
    "Experimenters often conduct current clamp experiments to characterize a neuron. They insert an electrode into the cell, and then pass a constant current for some time through the electrode. There is a special kind of electrical circuit (a constant current-source) that changes the voltage at the terminal connected to the electrode to maintain a constant current flowing through it. This is usually stated as injecting a constant current into the cell.\n",
    "\n",
    "The membrane resistance and capacitance provide two alternate paths for electricity, making it equivalent to a parallel RC circuit, i.e., a circuit where a resistor and a capator are connected in parallel. The current splits between these two components."
   ]
  },
  {
   "cell_type": "markdown",
   "metadata": {
    "id": "yDXlNcd-sJAx"
   },
   "source": [
    "## Parallel RC Circuit\n",
    "In a parallel connection of a resistor $R$ and a capacitor $C$ the two components have the same voltage between their terminals.\n",
    "\n",
    "Now, for a capacitor of capacitance $C$ with voltage $V$ across it, the total electric charge across it is\n",
    "\n",
    "$q = CV$\n",
    "\n",
    "Electric current is the rate of flow of charge, which is the derivative of charge with respect to time:\n",
    "\n",
    "$\\frac{dq}{dt} = C \\frac{dV}{dt}$ since $C$ is constant (a property of the capacitor),\n",
    "\n",
    "or $i_{C} = C \\frac{dV}{dt}$\n",
    "\n",
    "By Ohm's law, if the current through the resistor is $i_{R}$, then\n",
    "\n",
    "$V = i_{R} R$\n",
    "\n",
    "or $i_{R} = \\frac{V}{R}$\n",
    "\n",
    "Thus, the total current through both the components would be\n",
    "\n",
    "$i = i_{R} + i_{C}$\n",
    "\n",
    "$i = \\frac{V}{R} + C \\frac{dV}{dt}$\n",
    "\n",
    "\n",
    "$\\frac{dV}{dt} = \\frac{1}{C}(i - \\frac{V}{R})$\n",
    "\n",
    "This is a first order ordinary differential equation (ODE). In a current clamp experiment we inject a constant current $i$ into the cell, and the differential equation can be solved to find the evolution of voltage $V$ over time for a given current. This equation has an analytical solution, and can also be easily solved numerically.\n",
    "\n",
    "The denominator of $V$ on the right hand side is $RC$ which determines how fast the capacitor gets charged or discharged. This is called the time constant, and is denoted by $\\tau$.\n",
    "\n",
    "*In electronics/electrical engineering resistors, capacitors, inductors, and memristors are called passive components. Thus the model of the cell membrane using only a resistor and a capacitor is called the <b>passive membrane</b>*"
   ]
  },
  {
   "cell_type": "markdown",
   "metadata": {
    "id": "B0aIMRaI6StD"
   },
   "source": [
    "## Solving the passive membrane equation in Python\n",
    "The `scipy` module in Python provides several functions for solving ODEs. The recommended method for this kind of problem is [`scipy.integrate.solve_ivp`](https://docs.scipy.org/doc/scipy/reference/generated/scipy.integrate.solve_ivp.html#scipy.integrate.solve_ivp). `ivp` stands for initial value problem, where we can set the initial values of the parameter(s) of our ODE, and then compute how they evolve with time (the independent variable).\n",
    "\n",
    "The function signature is: `scipy.integrate.solve_ivp(fun, t_span, y0, ...)`\n",
    "\n",
    "Here `fun` must be a function with signature `fun(t, y)` where `y` is the dependent variable (in our case $V$) and `t` is the independent variable (time). This function must return the value of $\\frac{dy}{dt}$ at time $t$. $y0$ is the initial value of $y$, i.e., its value at time $t = t_{0}$ ($t_{0} = 0$ if we start our clock at that moment).\n",
    "\n",
    "Now, we could translate the equation above to this function\n",
    "\n",
    "```python\n",
    "def dv_dt(t, v):\n",
    "  \"\"\"function returning the value of dV/dt\n",
    "  at time t and current voltage v\"\"\"\n",
    "  return (i - v/R)/C\n",
    "\n",
    "```\n",
    "However, there is a problem. How would our function know the value of `i`, `R` and `C`?\n",
    "One possibility is to keep them as global constants in our script.\n",
    "\n",
    "We can set $R$ to $10 kS$ and $C$ to $0.1 \\mu F$ which will give a time constant of $\\tau = RC = 1 ms$. We can test this circuit by injecting $1 \\mu A$ current into it.\n",
    "\n",
    "In Neuroscience literature `Vm` commonly represents the membrane voltage\n",
    "i.e., the potential difference between the cytoplasm and the extracellular medium. In many mammalian neurons this has a value around -70 mV when the cell is in the resting state."
   ]
  },
  {
   "cell_type": "code",
   "execution_count": null,
   "metadata": {
    "id": "R-H3XXbS98xy"
   },
   "outputs": [],
   "source": [
    "R = 1e4     # 10 kS\n",
    "C = 1e-7   # 0.10 uF\n",
    "i = 1e-6    # 1 uA\n",
    "V0 = -70e-3  # -70 mV\n",
    "\n",
    "def dv_dt(t, Vm):\n",
    "  \"\"\"function returning the value of dV/dt\n",
    "  at time t and current voltage v\"\"\"\n",
    "  return (i - Vm/R)/C"
   ]
  },
  {
   "cell_type": "markdown",
   "metadata": {
    "id": "jPe7l2pwE9RN"
   },
   "source": [
    "Now we need to import `scipy`'s `solve_ivp` function, and call it with the function `dv_dt` along with the initial membrane voltage `V0`, range of time $t$ (`t_span`) and the time points at which we want the value of Vm (`t_eval`).\n",
    "\n",
    "Note that we have to pass V0 inside a list because `solve_ivp` expects a 1 dimensional array, not a scalar for the `y0` parameter."
   ]
  },
  {
   "cell_type": "code",
   "execution_count": null,
   "metadata": {
    "id": "1kBYet0ZFPVx"
   },
   "outputs": [],
   "source": [
    "import numpy as np\n",
    "from scipy.integrate import solve_ivp\n",
    "\n",
    "\n",
    "# Calculate the values of V for 10 ms\n",
    "t_span = (0, 10e-3)\n",
    "# Return the values from 0 to 10 ms at 0.1 ms interval\n",
    "t_eval = np.arange(*t_span, 0.1e-3)\n",
    "# Initial value of V can be -70 mV, frequently\n",
    "# found resting membrane potential in mammalian neurons\n",
    "result = solve_ivp(fun=dv_dt, t_span=t_span, y0=[V0], t_eval=t_eval)"
   ]
  },
  {
   "cell_type": "markdown",
   "metadata": {
    "id": "ERsjdTjyJ7Gg"
   },
   "source": [
    "Now `result` contains the object returned by `solve_ivp`. The attributes of use to us are `t`, the time points at which the solver computed the value of our variable, and `y`, the corresponding values. Also, `result.y` is a 2D array where each row represents the values of one dependent variable. We have only one, Vm, so we have to take out the first (and only) row `y[0]` for plotting against `t`."
   ]
  },
  {
   "cell_type": "code",
   "execution_count": null,
   "metadata": {
    "colab": {
     "base_uri": "https://localhost:8080/",
     "height": 467
    },
    "id": "_4SQDfY2KkHM",
    "outputId": "bfeca6ad-173c-42f5-d1d0-a6e71447b8d6"
   },
   "outputs": [],
   "source": [
    "import matplotlib.pyplot as plt\n",
    "\n",
    "\n",
    "# Note that we are changing the units for a cleaner plot\n",
    "#\n",
    "plt.plot(result.t*1e3, result.y[0]*1e3)\n",
    "plt.xlabel('Time (ms)')\n",
    "plt.ylabel('Voltage (mV)')"
   ]
  },
  {
   "cell_type": "markdown",
   "metadata": {
    "id": "16EtA7P-M1ss"
   },
   "source": [
    "**You should play with the values of $R$ and $C$ to understand how their product affects the steepness of the curve.**"
   ]
  },
  {
   "cell_type": "markdown",
   "metadata": {
    "id": "RNob7lOYNIHB"
   },
   "source": [
    "## `scipy` to `MOOSE`\n",
    "A neuron has a complex morphology, and each little section is implemented as a compartment. Different compartments may have different total resistance and capacitance. Electric current flows from compartment to compartment. The approach using ODE solvers directly gets out of hand very quickly.\n",
    "\n",
    "MOOSE provides a more natural way of setting up complex models with objects that correspond to the biological entities, and hides the details of setting up the ODEs from the user."
   ]
  },
  {
   "cell_type": "markdown",
   "metadata": {
    "id": "JaN5ivlEO8CW"
   },
   "source": [
    "### Import moose to use its classes and functions"
   ]
  },
  {
   "cell_type": "code",
   "execution_count": null,
   "metadata": {
    "id": "UsM3hfRiO8CZ"
   },
   "outputs": [],
   "source": [
    "import moose as mu"
   ]
  },
  {
   "cell_type": "markdown",
   "metadata": {
    "id": "yNby-rlMO8Cb"
   },
   "source": [
    "### `le()` function lists the elements available.\n",
    "The output looks similar to directory listing on Unix systems. `/` is the root element, everything else is created under this. There are a bunch of elements that already exist. These elements are not for the user, but used by MOOSE for managing the infrastructure underlying the models and simulations."
   ]
  },
  {
   "cell_type": "code",
   "execution_count": null,
   "metadata": {
    "colab": {
     "base_uri": "https://localhost:8080/"
    },
    "id": "3OR1LjMmO8Cc",
    "outputId": "cdf857f1-bfe2-46e4-f107-f5be29b0c7fa"
   },
   "outputs": [],
   "source": [
    "mu.le()"
   ]
  },
  {
   "cell_type": "markdown",
   "metadata": {
    "id": "1wjFZkLSO8Cd"
   },
   "source": [
    "### It is good practice to separate your model from data\n",
    "So we create an element `/data` for containing the data tables and another element `model` for containing the model structure. These are of the class `Neutral`, which is simply a container without any simulation related function."
   ]
  },
  {
   "cell_type": "code",
   "execution_count": null,
   "metadata": {
    "id": "Ou0zLBjuO8Ce"
   },
   "outputs": [],
   "source": [
    "data = mu.Neutral('/data')\n",
    "model = mu.Neutral('/model')"
   ]
  },
  {
   "cell_type": "code",
   "execution_count": null,
   "metadata": {
    "id": "EEuFuuImO8Ce"
   },
   "outputs": [],
   "source": [
    "compartment = mu.Compartment('/model/compartment')"
   ]
  },
  {
   "cell_type": "markdown",
   "metadata": {
    "id": "CkIuGDjw5Rob"
   },
   "source": [
    "### Set the properties of the compartment\n",
    "\n",
    "We have to set the numerical values for these properties before we can use it for  simulations that make physiological sense.\n",
    "\n",
    "But what are these properties?\n",
    "\n",
    "These are available as fields of the compartment object. We can see a list of available fields in the compartment object using the `getFieldNames` function:"
   ]
  },
  {
   "cell_type": "code",
   "execution_count": null,
   "metadata": {
    "colab": {
     "base_uri": "https://localhost:8080/"
    },
    "id": "y26qUGrRQCM5",
    "outputId": "06dd9414-9814-41ee-95be-129acbc48d2b"
   },
   "outputs": [],
   "source": [
    "mu.getFieldNames(compartment)"
   ]
  },
  {
   "cell_type": "markdown",
   "metadata": {
    "id": "Pb-zlPvwRZK9"
   },
   "source": [
    "We can set the initial value of the membrane voltage `initVm` to the resting value $-70 mV$."
   ]
  },
  {
   "cell_type": "code",
   "execution_count": null,
   "metadata": {
    "id": "Tm106NbcNklW"
   },
   "outputs": [],
   "source": [
    "compartment.initVm = -70e-3"
   ]
  },
  {
   "cell_type": "markdown",
   "metadata": {
    "id": "6Fd-_A0dUi-N"
   },
   "source": [
    "For the simulation corresponding to the above example, we set $Rm$ to $10 kS$, $Cm$ to $0.1 \\mu F$ and injection current $1 \\mu A$.\n"
   ]
  },
  {
   "cell_type": "code",
   "execution_count": null,
   "metadata": {
    "id": "FWrESrGuVdnr"
   },
   "outputs": [],
   "source": [
    "compartment.Rm = 1e4\n",
    "compartment.Cm = 1e-7\n",
    "compartment.inject = 1e-6"
   ]
  },
  {
   "cell_type": "markdown",
   "metadata": {
    "id": "XuS_WIviWb6k"
   },
   "source": [
    "### Setup recording and run the simulation\n",
    "In moose the data get stored in objects of the `Table` class. We connect a table to a field whose values we want to record. As the simulation progresses, the computed value gets appended to the connected table."
   ]
  },
  {
   "cell_type": "code",
   "execution_count": null,
   "metadata": {
    "colab": {
     "base_uri": "https://localhost:8080/"
    },
    "id": "wC7tcCY-W19-",
    "outputId": "dcb35bcc-4c18-4b01-d113-17bc4b14af5e"
   },
   "outputs": [],
   "source": [
    "vm_tab = mu.Table('/data/Vm')\n",
    "mu.connect(vm_tab, 'requestOut', compartment, 'getVm')"
   ]
  },
  {
   "cell_type": "markdown",
   "metadata": {
    "id": "AScRZgzDuxoF"
   },
   "source": [
    "Here the first line creates a table called `Vm` under the `/data` element. Most MOOSE classes allow communication between different objects via something called `message fields`. The `requestOut` field of `vm_tab` is connected to the `getVm` field of `compartment`.\n",
    "\n",
    "`vm_tab` has an associated `dt` field for the time interval at which it gets the `Vm` sample from `compartment`.\n",
    "\n",
    "#### *NOTE*\n",
    "*The above cell should be executed exactly once. You may modify the parameters, like*\n",
    "\n",
    "```\n",
    "compartment.initVm = -70e-3\n",
    "compartment.Rm = 1e4\n",
    "compartment.Cm = 1e-7\n",
    "compartment.inject = 1e-6\n",
    "```\n",
    "\n",
    "*as many times as you wish and rerun the steps below to simulate the modified model. But the `mu.connect(source_element, source_message, target_element, target_message)` changes the stucture of the model, and you should avoid that unless you know what you are doing.*\n"
   ]
  },
  {
   "cell_type": "markdown",
   "metadata": {
    "id": "XMv_q--CZ3Nb"
   },
   "source": [
    "### Initialize and run the simulation\n",
    "Now we can tell moose to initialize all parameters to default or specified initial values (e.g., `initVm` of compartment will be assigned to `Vm`) using the `reinit()` function, and then start simulation for a specified runtime."
   ]
  },
  {
   "cell_type": "code",
   "execution_count": null,
   "metadata": {
    "id": "u9An7WnDYzl_"
   },
   "outputs": [],
   "source": [
    "runtime = 10e-3  # simulate 10 ms\n",
    "mu.reinit()\n",
    "mu.start(runtime)"
   ]
  },
  {
   "cell_type": "markdown",
   "metadata": {
    "id": "GDMKTi7JcOHL"
   },
   "source": [
    "The `start(runtime)` function will run the simulation for `runtime` time, and at each timestep the table `vm_tab` will get the calculated value of `Vm`. The underlying array of `Vm` values can be accessed like a numpy array via the attribute `vector` of the `Table` object (`vm_tab`).\n",
    "\n",
    "How about the time points? As mentioned earlier, successive timepoints of recording `Vm` are `vm_tab.dt` apart, i.e.,\n",
    "\n",
    "\n",
    "$t_{0} = 0$\n",
    "\n",
    "$t_{1} = dt$\n",
    "\n",
    "$t_{2} = 2 dt$\n",
    "\n",
    "$t_{3} = 3 dt$\n",
    "\n",
    "...\n",
    "\n",
    "$t_{n-1} = (n - 1) dt$\n",
    "\n",
    "\n",
    "So we can compute the time points (starting from 0) by multiplying the index of the data point by `dt`:\n",
    "```\n",
    "# numpy's arange(n) creates an array numbers containing 0 to (n-1)\n",
    "t = np.arange(len(Vm)) * vm_tab.dt\n",
    "```"
   ]
  },
  {
   "cell_type": "code",
   "execution_count": null,
   "metadata": {
    "colab": {
     "base_uri": "https://localhost:8080/",
     "height": 448
    },
    "id": "PBSzChUjY-0i",
    "outputId": "606f89b4-4923-4f62-95ac-476baafdd1a2"
   },
   "outputs": [],
   "source": [
    "Vm = vm_tab.vector\n",
    "t = np.arange(len(Vm)) * vm_tab.dt\n",
    "plt.plot(t * 1e3, Vm * 1e3)"
   ]
  },
  {
   "cell_type": "markdown",
   "metadata": {
    "id": "Sk91njZ1Lu2p"
   },
   "source": [
    "## Exercises\n",
    "1. Change the value of $initVm$ to 0 mV and rerun the simulation. What change to you observe?\n",
    "1. Change the magnitude of the injected current, make it 10 times larger or smaller. What are the effects?\n",
    "1. Modify the values of $Rm$ and $Cm$ and rerun the simulation. How do they affect the voltage curve?\n",
    "1. Double $Rm$ and halve $Cm$ and simulate again. Does the curve change? What do you conclude from this?"
   ]
  },
  {
   "cell_type": "markdown",
   "metadata": {
    "id": "_JWN9NFIXbYZ"
   },
   "source": [
    "## A more realistic approach\n",
    "\n",
    "When modelling closely with experimental data, one obtains the geometric structure (morphology) of neurons by tracing dye-filled neurons under a microscope. This data is then processed to estimate the length and diameter of compartments. Modellers often use constant specific capacitance on all the compartments (as we mentioned earlier, this is pretty standard for all cell membranes), and often a constant specific resistance (resistivity) for all, or groups of, compartments. This requires calculating the total resistance and capacitance for each compartment based on its dimensions."
   ]
  },
  {
   "cell_type": "markdown",
   "metadata": {
    "id": "iHQQro2APncn"
   },
   "source": [
    "Let us say the length of the compartment is 10 μm and the diameter is also 10 μm"
   ]
  },
  {
   "cell_type": "code",
   "execution_count": null,
   "metadata": {
    "id": "W__CJqbERHT_"
   },
   "outputs": [],
   "source": [
    "compartment.length = 10e-6\n",
    "compartment.diameter = 10e-6"
   ]
  },
  {
   "cell_type": "markdown",
   "metadata": {
    "id": "x1t_H4M4QMfo"
   },
   "source": [
    "However, these are not used in the electrical simulation, but are used for visualization. The electrical properties `Rm` and `Cm` determine the behavior of the neuron in response to electric current. These are absolute, not specific values, in MOOSE.\n",
    "\n",
    "All eukaryotic cell membranes are made of lipid bilayer, and this has a specific capacitance of about $1 \\mu F/cm^2$.\n",
    "\n",
    "The total capacitance of a cylindrical compartment will be $area \\times specific\\; capacitance$"
   ]
  },
  {
   "cell_type": "code",
   "execution_count": null,
   "metadata": {
    "colab": {
     "base_uri": "https://localhost:8080/"
    },
    "id": "webK1umBSkwg",
    "outputId": "e38a5e4b-2b33-4fbb-a4b7-30f642f5d51f"
   },
   "outputs": [],
   "source": [
    "specific_cm = 1e-6/(1e-2)**2\n",
    "compartment.Cm = 3.1416 * compartment.diameter * compartment.length * specific_cm\n",
    "print(compartment.Cm)"
   ]
  },
  {
   "cell_type": "markdown",
   "metadata": {
    "id": "n5uunrmdTd4z"
   },
   "source": [
    "Note that we converted the $\\mu F/cm ^{2}$ to $F/m^{2}$ in order to have consistent SI units throughout. In electrophysiology experiments people often report measured capacitance in $nF$ (nanoFarads, $10^{-9} F$) or $pF$ (picoFarads, $10^{-12} F$). Numerical methods are unit agnostic. So in order to get sensible results you must use a consistent unit system throughout."
   ]
  },
  {
   "cell_type": "markdown",
   "metadata": {
    "id": "IJXkHY30TsZy"
   },
   "source": [
    "In contrast to membrane capacitance, the resistance of the membrane does not have a standard value. This varies from neuron to neuron, and can be different in different parts of the same neuron depending on the distribution of passive channel in the membrane.\n",
    "\n",
    "Experimenters often measure the time constant (denoted $\\tau$) of the membrane, and we can calculate the absolute resistance using the formula $\\tau = R_{m} \\times C_{m}$\n",
    "\n",
    "From the [neuroelectro](https://neuroelectro.org) database we find 20 ms may be a good value for some cases: https://neuroelectro.org/ephys_prop/4/"
   ]
  },
  {
   "cell_type": "code",
   "execution_count": null,
   "metadata": {
    "colab": {
     "base_uri": "https://localhost:8080/"
    },
    "id": "ymDjy8q3Vl_1",
    "outputId": "b6aac3a1-7e69-4965-eb63-b97612fd9625"
   },
   "outputs": [],
   "source": [
    "compartment.Rm = 20e-3 / compartment.Cm\n",
    "print('Rm =', compartment.Rm)"
   ]
  },
  {
   "cell_type": "markdown",
   "metadata": {
    "id": "mNI0rp-_RFPO"
   },
   "source": [
    "Now you can repeat the same sequence of Python instructions to rerun the modified model and plot the data.\n"
   ]
  },
  {
   "cell_type": "code",
   "execution_count": null,
   "metadata": {
    "colab": {
     "base_uri": "https://localhost:8080/",
     "height": 463
    },
    "id": "cmspbWFCRPeC",
    "outputId": "c337e23a-053f-4d49-a5d3-846cefa24e98"
   },
   "outputs": [],
   "source": [
    "runtime = 10e-3  # simulate 10 ms\n",
    "mu.reinit()\n",
    "mu.start(runtime)\n",
    "Vm = vm_tab.vector\n",
    "t = np.arange(len(Vm)) * vm_tab.dt\n",
    "plt.plot(t * 1e3, Vm * 1e3)"
   ]
  },
  {
   "cell_type": "markdown",
   "metadata": {
    "id": "sUwrhLioSFRe"
   },
   "source": [
    "Since the time constant $\\tau$ is 20 ms, 10 ms runtime could not really capture the charging timecourse in its entirety.\n",
    "\n",
    "## Exercises\n",
    "1. Modify the runtime to see the voltage reach a steady state.\n",
    "1. What is the steady state voltage? Can you find a relation between the steady state voltage $Vm$, $Rm$ and $inject$?\n",
    "1. What could be a realistic range for current injection ($inject$) for this cell?"
   ]
  }
 ],
 "metadata": {
  "colab": {
   "provenance": [],
   "toc_visible": true
  },
  "kernelspec": {
   "display_name": "Python 3 (ipykernel)",
   "language": "python",
   "name": "python3"
  },
  "language_info": {
   "codemirror_mode": {
    "name": "ipython",
    "version": 3
   },
   "file_extension": ".py",
   "mimetype": "text/x-python",
   "name": "python",
   "nbconvert_exporter": "python",
   "pygments_lexer": "ipython3",
   "version": "3.11.6"
  }
 },
 "nbformat": 4,
 "nbformat_minor": 4
}
