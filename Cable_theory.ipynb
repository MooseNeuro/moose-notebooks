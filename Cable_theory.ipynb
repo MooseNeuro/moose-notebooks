{
 "cells": [
  {
   "cell_type": "markdown",
   "id": "4fcd50c5-92de-4920-8b81-8cf91392a179",
   "metadata": {},
   "source": [
    "# Only required on colab!\n",
    "!pip install pymoose"
   ]
  },
  {
   "cell_type": "markdown",
   "id": "2caec69f-601f-4a72-b0fc-e4aca8dd7714",
   "metadata": {},
   "source": [
    "# Cable theory\n",
    "\n",
    "## Deriving the cable equation"
   ]
  },
  {
   "cell_type": "markdown",
   "id": "49171319-8941-4891-a4c2-e9d4fb301fe9",
   "metadata": {},
   "source": [
    "\n",
    "When a neuron receives synaptic input at a neurite, there is a small deflection in the membrane voltage which propagates along it. The theory of electrical signals propagating along a leaky cable was developed by William Thomson (later Lord Kelvin, named after the river flowing outside his lab, and the unit of absolute temperature is named after him) in the mid nineteenth century. Although his aim was to understand signal propagation through transatlantic cables for telegraph, his results are useful for neurons also.\n",
    "\n",
    "![A passive neuronal cable](cable_theory.png)\n",
    "\n",
    "Current flowing along a neurite (axon) experiences the cytoplasmic (axoplasmic) resistance, and part of it leaks out through the membrane. The cross membrane current goes through the membrane resistance. If we consider a unit length of neurite, denoting the axial current as $i_{a}$ and the current across the membrane as $i_{m}$, then the total current will be\n",
    "\n",
    "\n",
    "$i = i_{a} + i_{m}$\n",
    "\n",
    "We can think of $i$ as current injected through an electrode at one end of the neurite. The change in $i_{a}$ per unit length is $\\frac{\\partial i_{a}}{\\partial x}$ where $x$ is distance from the origin. \n",
    "\n",
    "---\n",
    "\n",
    "If you are unfamiliar with the notation $\\frac{\\partial i_{a}}{\\partial x}$, one way to think about this is as follows:\n",
    "\n",
    "If the axial current is $i_{a}$ at a point at distance $x$ from the origin, and after a short distance $\\Delta x$ from this point it increases by $\\Delta i_{a}$, then the rate of change of $i_{a}$ with respect to distance ($x$) is \n",
    "    \n",
    "$\\frac{\\Delta i_{a}}{\\Delta x}$\n",
    "\n",
    "If we consider very very small $\\Delta x$ (infintesimal, such that it approaches 0), then this is denoted by $\\frac{\\partial i_{a}}{\\partial x}$ if we keep time unchanged.\n",
    "\n",
    "Similarly, the rate of change of voltage $V$ with respect to distance $x$ is denoted $\\frac{\\partial V}{\\partial x}$. If you plot $V$ against $x$ then at any point this will be the slope of the tangent to the curve. \n",
    "\n",
    "$\\frac{\\partial^{2} V}{\\partial x^{2}}$ denotes the rate at which $\\frac{\\partial V}{\\partial x}$ itself is changing with distance (it is $\\frac{\\partial \\frac{\\partial V}{\\partial x}}{\\partial x}$).\n",
    "\n",
    "---\n",
    "\n",
    "This must be the amount of current that is leaking out of that unit-length membrane (since charge and current cannot be created or destroyed, as per Kirchoff's current law).\n",
    "\n",
    "Thus, \n",
    "\n",
    "$\\frac{\\partial i_{a}}{\\partial x} = - i_{m}$\n",
    "\n",
    "But $i_{a}$ is associated with the voltage drop along the unit cable, by Ohm's law. The voltage drop in unit length is the rate of voltage drop with distance. So\n",
    "\n",
    "$i_{a} = - \\frac{1}{r_{a}}\\frac{\\partial V}{\\partial x}$\n",
    "\n",
    "We already saw that the equivalent circuit of a patch of cell membrane is an RC circuit, with the membrane resistance $r_{m}$ and the membrane capacitance $c_{m}$ in parallel.\n",
    "\n",
    "And the voltage of this patch of membrane can be described as\n",
    "\n",
    "$i_{m} = c_{m} \\frac{\\partial V}{\\partial t} + \\frac{V}{r_{m}}$\n",
    "\n",
    "assuming we are measuring the membrane voltage with respect to the equilibrium voltage.\n",
    "Thus we have\n",
    "$-\\frac{1}{r_{a}}\\frac{\\partial^{2}V}{\\partial x^{2}} = -(c_{m} \\frac{\\partial V}{\\partial t} + \\frac{V}{r_{m}})$\n",
    "\n",
    "or $\\frac{1}{r_{a}}\\frac{\\partial^{2}V}{\\partial x^{2}} -c_{m} \\frac{\\partial V}{\\partial t} - \\frac{V}{r_{m}} = 0$\n",
    "\n",
    "or $\\frac{r_{m}}{r_{a}}\\frac{\\partial^{2}V}{\\partial x^{2}} - r_{m}c_{m} \\frac{\\partial V}{\\partial t} - V = 0$\n",
    "\n",
    "Denoting $\\lambda^{2} = \\frac{r_{m}}{r_{a}}$ and $\\tau = r_{m}c_{m}$ we get\n",
    "\n",
    "$\\lambda^{2} \\frac{\\partial^{2}V}{\\partial x^{2}} - \\tau \\frac{\\partial V}{\\partial t} - V = 0$\n",
    "\n",
    "If we change our unit of distance to $\\lambda$ and the unit of time to $\\tau$, so that the new magnitudes become $X$ and $T$, then the equation can be further simplified to\n",
    "\n",
    "$\\frac{\\partial^{2}V}{\\partial X^{2}} - \\frac{\\partial V}{\\partial T} - V = 0$\n",
    "\n"
   ]
  },
  {
   "cell_type": "markdown",
   "id": "f0b0e229-8731-4473-8a64-90d43614ff15",
   "metadata": {},
   "source": [
    "## Steady state solution for a semi-infinite cable\n",
    "\n",
    "The cable equation described above can be solved analytically for some simple cases. If we consider steady state, such that $\\frac{\\partial V}{\\partial T} = 0$, then the cable equation becomes\n",
    "$\\frac{d^{2}V}{d X^{2}} -V = 0$ (Here we switched from $\\partial$ to $d$ because after removing $T$, $X$ is the only independent variable. So we have an ODE instead of a PDE).\n",
    "\n",
    "Now the general solution to this equation is $V = Ae^{X} + Be^{-X}$\n",
    "\n",
    "Now consider a cable whose one end is at the origin and the other end extends to inifinity. If we hold the origin-end at a constant voltage $V_{0}$, then\n",
    "\n",
    "$V_{0} = A e^{0} + B e^{0}= A + B$\n",
    "\n",
    "As we move away from origin, the voltage keeps dropping, and at very far distances it drops to 0. \n",
    "\n",
    "$0 = A e^{X} + Be^{-X}$\n",
    "\n",
    "Since $e^{-X}$ approaches 0 as $X$ becomes very large, $A$ must be 0 to satisfy this equation.\n",
    "Therefore,$V_0 = B$, and \n",
    "\n",
    "$V(X) = V_{0}e^{-X} = V_{0}e^{-x/\\lambda}$     \n",
    "\n",
    "*(Remember we defined $X = x/\\lambda$)*\n"
   ]
  },
  {
   "cell_type": "markdown",
   "id": "74087343-9ab9-47dc-a7ec-c0c6da49d5d0",
   "metadata": {},
   "source": [
    "## Relation between specific and absolute values of resistances and capacitance\n",
    "\n",
    "In the derivation above we used a section of unit length. Thus $r_{a}$ is axial resistance per unit length of the cable. However we know that total resistance of conductor is inversely proportional to its area of cross section, and directly proportional to its length. So if the cytoplasm has a resistivity of $R_{A}$ per unit volume, then a cable of length $l$ and radius $a$ will have a total resistance \n",
    "\n",
    "$R_{a} = \\frac{l R_{A}}{\\pi a^{2}}$\n",
    "\n",
    "For unit length, this would be \n",
    "\n",
    "$r_{a} = \\frac{R_{A}}{\\pi a^{2}}$\n",
    "\n",
    "\n",
    "On the other hand, the mebrane resistance for the cable would be inversely proportional to its area. Here we do not consider the thickness. The surface area of our cylindrical neurite would be $2\\pi a l$ and thus the total membrane resistance would be\n",
    "\n",
    "$R_{m} = \\frac{R_{M}}{2\\pi a l}$\n",
    "\n",
    "and for unit length\n",
    "\n",
    "$r_{m} = \\frac{R_{M}}{2\\pi a}$\n",
    "\n",
    "where membrane resistivity (or specific resistance) $R_{M}$ is the resistance of membrane with unit area.\n",
    "\n",
    "Capacitance, in contrast to resistance, is directly proportional to area. So the total capacitance of the cable would be \n",
    "\n",
    "$C_{m} = 2 \\pi a l C_{M} $\n",
    "\n",
    "and for unit length\n",
    "\n",
    "$c_{m} = 2 \\pi a C_{M} $\n",
    "\n",
    "where $C_{M}$ is the specific capacitance (capacitance per unit area).\n",
    "\n",
    "Going back to our definition of $\\lambda$,\n",
    "\n",
    "$\\lambda = \\sqrt{\\frac{r_{m}}{r_{a}}} = \\sqrt{\\frac{a R_{M}}{2 R_{A}}}$\n",
    "\n",
    "The membrane time constant $\\tau = r_{m} c_{m} = R_{M} C_{M} = R_{m} C_{m}$\n",
    "\n",
    "In practice, one usually measures $\\tau$ by recording the charging or discharging curve, and then calculate mebrane resistivity assuming $C_{M} = 1 \\mu F / cm^{2}$. Because all eukaryotic cell membranes primarily consist of a lipid bilayer, which determines the specific capacitance, this approximate value is applicable to all such cells."
   ]
  },
  {
   "cell_type": "markdown",
   "id": "72c8c93e-d76d-4403-b0df-974383c52885",
   "metadata": {},
   "source": [
    "## Exercises\n",
    "1. Suppose a neurite with diameter $10 \\mu m$ has $R_{M} = 10,000 \\Omega cm^2$, and $R_{A} = 100 \\Omega cm$. Calculate its space constant $\\lambda$. What is its membrane time constant $\\tau$?"
   ]
  },
  {
   "cell_type": "markdown",
   "id": "8cd0af63-7394-48dd-8ca6-c97f077c39c2",
   "metadata": {},
   "source": [
    "2. If the neuron has a very long single axon, and you held one end (say the soma side) of the axon at $10 mV$ above equilibrium potential, what would be the steady state voltage at a distance $10 \\mu m$ from the holding position? What would it be at $50 cm$?"
   ]
  },
  {
   "cell_type": "markdown",
   "id": "91d6f03c-a192-452a-b633-31e5c106603b",
   "metadata": {},
   "source": [
    "3. Make a plot of the membrane voltage against distance from the holding position."
   ]
  },
  {
   "cell_type": "markdown",
   "id": "6c8b412d-a638-44fa-ac22-cd938340fef2",
   "metadata": {},
   "source": [
    "# Multicompartmental model - part 2"
   ]
  },
  {
   "cell_type": "markdown",
   "id": "f89a6f64-13f4-4352-b539-c6265a0c4b49",
   "metadata": {},
   "source": [
    "You have already seen how you can connect together multiple compartments in MOOSE. Now you will try to reproduce the analytic result you obtained above using a compartmental model. "
   ]
  },
  {
   "cell_type": "code",
   "execution_count": 1,
   "id": "b2ac3208-7618-45bb-baeb-f23ef1771a1f",
   "metadata": {},
   "outputs": [],
   "source": [
    "import moose\n",
    "import numpy as np\n",
    "import matplotlib.pyplot as plt"
   ]
  },
  {
   "cell_type": "markdown",
   "id": "d45a77fc-8362-45dc-88a6-af709d0dfa9c",
   "metadata": {},
   "source": [
    "You can use the code from Multi-compartmental model tutorial to generate a linear cable.\n",
    "\n",
    "## Exercise\n",
    "4. Update the code snippet below assuming the axon in the previous problem has $1 \\mu m$ diameter ($R_{M}$ and $R_A$ are the same as in the previous problem), and you are dividing its length into $1 \\mu m$ long segments. Thus each compartment has a length $1 \\mu m$ and diameter $1 \\mu m$. Set the `ncomp` variable, `Rm`, `Ra` and `Cm` fields (which represent the total values for the segment) accordingly."
   ]
  },
  {
   "cell_type": "code",
   "execution_count": 2,
   "id": "f9cc037f-25e6-4fd1-b7ad-351d74ef7039",
   "metadata": {},
   "outputs": [],
   "source": [
    "############################################################\n",
    "# Exercise 4\n",
    "############################################################\n",
    "data = moose.Neutral('/data')\n",
    "model = moose.Neutral('/model')\n",
    "comps = []\n",
    "vm_tabs = []\n",
    "ncomp = 10  # Number of compartments: UPDATE THIS\n",
    "for ii in range(ncomp):\n",
    "    comp = moose.Compartment(f'/model/comp_{ii}')\n",
    "    comp.initVm = -70e-3\n",
    "    comp.Em = -70e-3  \n",
    "    comp.Rm = 1e5   # UPDATE THIS\n",
    "    comp.Cm = 1e-7  # UPDATE THIS\n",
    "    comp.Ra = 1e4   # UPDATE THIS\n",
    "    if len(comps) > 0:\n",
    "        moose.connect(comps[-1], 'raxialOut', comp, 'handleRaxial')\n",
    "    comps.append(comp)\n",
    "    # Recording\n",
    "    vm_tab = moose.Table(f'/data/vm_{ii}')\n",
    "    moose.connect(vm_tab, 'requestOut', comp, 'getVm')\n",
    "    vm_tabs.append(vm_tab)"
   ]
  },
  {
   "cell_type": "markdown",
   "id": "beb199e4-5dcd-4924-88f9-29749b5b1847",
   "metadata": {},
   "source": [
    "Creating a voltage clamp is a bit tricky compared to a current clamp. A voltage clamp circuit checks the voltage at the electrode, and if it is below the command voltage (the desired value), then injects some current to raise it. If it is above, then injects some negative current to reduce it. In general the exact amount of current cannot be calculated analytically, so the system can overshoot in either direction, and then further (hopefully smaller) corrections need to be made. This is done via a special kind of control circuit called a [PID controller](https://en.wikipedia.org/wiki/Proportional%E2%80%93integral%E2%80%93derivative_controller). If we set the parameters for the PID controller well, the voltage will oscillate but get damped pretty quickly. With bad parameters, it can continue to oscillate.\n",
    "\n",
    "MOOSE provides the `VClamp` class for directly implementing voltage clamp (alternatively it can be built by putting together a differential amplifier `DiffAmp`, and a PID controller `PIDController`)."
   ]
  },
  {
   "cell_type": "code",
   "execution_count": 3,
   "id": "2ef8a099-fd00-40d9-a16f-be2faf5ffa80",
   "metadata": {},
   "outputs": [],
   "source": [
    "###################################################\n",
    "# Do not touch this code\n",
    "###################################################\n",
    "def create_voltage_clamp(modelpath, datapath, compartment):\n",
    "    \"\"\"Creates a voltage clamp object under `modelpath` and \n",
    "    a table under `datapath` to record the command voltage.\n",
    "    \n",
    "    Returns the `moose.PulseGen` that gives the command value \n",
    "    to the voltage clamp.\n",
    "    \"\"\"\n",
    "    path = f'{modelpath}/vclamp'\n",
    "    if moose.exists(path):\n",
    "        print(f'{path}: Object already exists')\n",
    "        vclamp = moose.VClamp(path)\n",
    "        command = moose.PulseGen(f'{modelpath}/command')\n",
    "        command_tab = moose.Table(f'{datapath}/command')\n",
    "        return vclamp, command, command_tab\n",
    "    vclamp = moose.VClamp(path)\n",
    "    # The voltage clamp's output is `currentOut` which will be \n",
    "    # injected into the compartment\n",
    "    moose.connect(vclamp, 'currentOut', compartment, 'injectMsg')\n",
    "    # The voltage clamp object senses the voltage of the compartment\n",
    "    moose.connect(compartment, 'VmOut', vclamp, 'sensedIn')\n",
    "    command = moose.PulseGen(f'{modelpath}/command')\n",
    "\n",
    "    # Connect the output of the command pulse to the command input of the voltage clamp circuit\n",
    "    moose.connect(command, 'output', vclamp, 'commandIn')\n",
    "\n",
    "    # Also setup a table to record the command voltage of the VClamp directly\n",
    "    command_tab = moose.Table(f'{datapath}/command')\n",
    "    moose.connect(command_tab, 'requestOut', command, 'getOutputValue')\n",
    "    \n",
    "    # compartment.dt is the integration time step for the compartment \n",
    "    # `tau` is the time constant of the RC filter in the circuit.\n",
    "    # 5 times the integration timestep value is a good starting point for tau\n",
    "    vclamp.tau = 5 * compartment.dt\n",
    "    # `gain` is the proportional gain of the PID controller. `Cm/dt` is a good value\n",
    "    vclamp.gain = compartment.Cm / compartment.dt\n",
    "\n",
    "    # `ti` is the integral time of the PID controller, `dt` is a good value\n",
    "    vclamp.ti = compartment.dt\n",
    "    # `td` is the derivative time of the PID controller. We can set it to 0\n",
    "    \n",
    "    return vclamp, command, command_tab\n",
    "\n",
    "\n",
    "def set_command_timecourse(command, base, delay, level):\n",
    "    \"\"\"Set up a pulse generator that outputs `base` as initial value \n",
    "    and `level` after `delay` time\"\"\"\n",
    "    command.baseLevel = base   \n",
    "    command.firstDelay = delay   \n",
    "    command.secondDelay = 1e9    # Never stop \n",
    "    command.firstWidth = 1e9     # Never stop\n",
    "    command.firstLevel = level  "
   ]
  },
  {
   "cell_type": "code",
   "execution_count": 4,
   "id": "dc7bf220-4322-4efc-9d73-b57bcc2baca3",
   "metadata": {},
   "outputs": [],
   "source": [
    "vclamp, command, command_tab = create_voltage_clamp('/model', '/data', comps[0])\n",
    "# baseline is set to equilibrium potential\n",
    "# delay is 10 ms, start the voltage change at this time\n",
    "# command level is -60 mV, which is 10 mV above equilibrium potential\n",
    "set_command_timecourse(command, -70e-3, 10e-3, -60e-3)"
   ]
  },
  {
   "cell_type": "code",
   "execution_count": 5,
   "id": "cb6a5da8-8ea2-4471-8e30-d32087de7058",
   "metadata": {},
   "outputs": [],
   "source": [
    "###################################################\n",
    "# Do not modify\n",
    "###################################################\n",
    "runtime = 1000e-3\n",
    "moose.reinit()\n",
    "moose.start(runtime)"
   ]
  },
  {
   "cell_type": "markdown",
   "id": "778332c8-c892-4ad8-8ede-e2cd9941e119",
   "metadata": {},
   "source": [
    "### Plot the voltage in the first compartment over time"
   ]
  },
  {
   "cell_type": "code",
   "execution_count": 6,
   "id": "b11d8894-1300-4757-a459-2da4234f3f26",
   "metadata": {},
   "outputs": [
    {
     "data": {
      "text/plain": [
       "<matplotlib.legend.Legend at 0x12293f610>"
      ]
     },
     "execution_count": 6,
     "metadata": {},
     "output_type": "execute_result"
    },
    {
     "data": {
      "image/png": "[encoded data removed]",
      "text/plain": [
       "<Figure size 640x480 with 1 Axes>"
      ]
     },
     "metadata": {},
     "output_type": "display_data"
    }
   ],
   "source": [
    "v_command = command_tab.vector\n",
    "t_command = np.arange(len(v_command)) * command_tab.dt\n",
    "v0 = vm_tabs[0].vector\n",
    "t_v = np.arange(len(v0)) * vm_tabs[0].dt\n",
    "v_end = vm_tabs[0].vector\n",
    "plt.plot(t_command, v_command, label='Command voltage')\n",
    "plt.plot(t_v, v0, '--', label='Voltage at first compartment')\n",
    "plt.plot(t_v, v_end, ':', label='Voltage at last compartment')\n",
    "plt.legend()"
   ]
  },
  {
   "cell_type": "markdown",
   "id": "d227f5c2-e5ab-48ab-8742-fcbb1ea009c0",
   "metadata": {},
   "source": [
    "## Exercise\n",
    "5. As you can see above, the voltages at the first and the last compartment stabilized pretty quickly. Take the final value (t=1 s) of the mebrane voltage for all the compartments and make a plot against the distance from the first compartment (voltage clamp location)."
   ]
  },
  {
   "cell_type": "markdown",
   "id": "ec6edcad-bc45-4314-80ef-fda0d9c6224f",
   "metadata": {},
   "source": [
    "6. Now increase the diameter of each compartment to $5 \\mu m$ and repeat this exercise. What do you observe? Use the leaky hose analogy to explain."
   ]
  },
  {
   "cell_type": "markdown",
   "id": "412077bd-94b7-458e-85d2-8d8539550877",
   "metadata": {},
   "source": [
    "7. Increase the membrane resistivity, $R_{M}$ and repeat this exercise (back to $1 \\mu m$ diamater). Explain the results using the leaky hose analogy."
   ]
  },
  {
   "cell_type": "code",
   "execution_count": 7,
   "id": "08a1ab5e-80c9-4c8f-a2ed-6e87ac02de3c",
   "metadata": {},
   "outputs": [],
   "source": [
    "############################################\n",
    "# Exercise 7\n",
    "############################################\n",
    "data2 = moose.Neutral('/data2')   # Create a separate data container\n",
    "model2 = moose.Neutral('/model2') # create a separate model container\n",
    "comps2 = []\n",
    "vm_tabs2 = []\n",
    "ncomp2 = 10  # Number of compartments: UPDATE THIS\n",
    "for ii in range(ncomp2):\n",
    "    comp = moose.Compartment(f'/model2/comp_{ii}')\n",
    "    comp.initVm = -70e-3\n",
    "    comp.Em = -70e-3  \n",
    "    comp.Rm = 1e5   # UPDATE THIS\n",
    "    comp.Cm = 1e-7  # UPDATE THIS\n",
    "    comp.Ra = 1e4   # UPDATE THIS\n",
    "    if len(comps) > 0:\n",
    "        moose.connect(comps[-1], 'raxialOut', comp, 'handleRaxial')\n",
    "    comps2.append(comp)\n",
    "    # Recording\n",
    "    vm_tab = moose.Table(f'/data2/vm_{ii}')\n",
    "    moose.connect(vm_tab, 'requestOut', comp, 'getVm')\n",
    "    vm_tabs2.append(vm_tab)\n",
    "\n",
    "vclamp, command, command_tab = create_voltage_clamp('/model2', '/data2', comps2[0])\n",
    "set_command_timecourse(command, -70e-3, 10e-3, -60e-3)\n",
    "runtime = 1000e-3\n",
    "moose.reinit()\n",
    "moose.start(runtime)\n",
    "\n",
    "##########################################################################\n",
    "# YOUR CODE BELOW\n",
    "#\n",
    "# Write code to plot the steady-state value of Vm at each compartment \n",
    "# against the distance of the compartment from the voltage clamp site\n",
    "##########################################################################\n",
    "\n"
   ]
  }
 ],
 "metadata": {
  "kernelspec": {
   "display_name": "Python 3 (ipykernel)",
   "language": "python",
   "name": "python3"
  },
  "language_info": {
   "codemirror_mode": {
    "name": "ipython",
    "version": 3
   },
   "file_extension": ".py",
   "mimetype": "text/x-python",
   "name": "python",
   "nbconvert_exporter": "python",
   "pygments_lexer": "ipython3",
   "version": "3.11.6"
  }
 },
 "nbformat": 4,
 "nbformat_minor": 5
}
