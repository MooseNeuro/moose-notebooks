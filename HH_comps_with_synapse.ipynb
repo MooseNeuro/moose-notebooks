{
 "cells": [
  {
   "cell_type": "markdown",
   "id": "88118be2-2f94-48c6-b57c-665549a4e8f5",
   "metadata": {},
   "source": [
    "[![Open In Colab](./colab-badge.png)](https://colab.research.google.com/github/MooseNeuro/moose-notebooks/blob/main/Action_potentials_K_channel.ipynb)"
   ]
  },
  {
   "cell_type": "markdown",
   "id": "23a2044a-f322-4e41-8a6f-3ff042e9dfcf",
   "metadata": {},
   "source": [
    "# Synaptic connection between two Hodgkin-Huxley type neurons\n",
    "In this notebook we will model synaptic connection in a more realistic scenario. We will create two single-compartmental neurons `A` and `B` with Hodgkin and Huxley's K+ and Na+ channel dynamics.\n",
    "\n",
    "Then we will connect `A` to `B` by a synapse. Here `A` is the presynaptic compartment and `B` is the postsynaptic compartment. Note that although we are not differentiating between soma, axon, and dendrites here, in a morphologically detailed model you will designate some compartments as presynaptic terminals and others as postsynaptic terminals, and create synapses between these.\n",
    "\n",
    "When the synapse is activated, the synaptic conductance will have a fast rising phase and a slow falling phase. This is modeled as a double-exponential with two time constants $\\tau_{1}$ and $\\tau_{2}$. See the [Synapses](Synapses.ipynb) notebook for a simpler version called $\\alpha$-synapse."
   ]
  },
  {
   "cell_type": "code",
   "execution_count": null,
   "id": "430a604b-1e0f-4dc0-8af2-6042486ababa",
   "metadata": {},
   "outputs": [],
   "source": [
    "## Only required on colab!\n",
    "# !pip install pymoose --quiet"
   ]
  },
  {
   "cell_type": "code",
   "execution_count": null,
   "id": "5f6b6cb8-e63e-4612-a083-a1f897ada118",
   "metadata": {},
   "outputs": [],
   "source": [
    "import numpy as np\n",
    "import matplotlib.pyplot as plt\n",
    "\n",
    "import moose"
   ]
  },
  {
   "cell_type": "markdown",
   "id": "876ca927-8a8a-428d-9ccf-2035c884c56b",
   "metadata": {},
   "source": [
    "First we shall create two identical models of the squid giant axon (as we did in the [Action potentials notebook](Action_potentials.ipynb).\n",
    "\n",
    "For complex models, it is more convenient to create a library of reusable prototypes and then copy them for the actual model. The `/library` element is created for this."
   ]
  },
  {
   "cell_type": "markdown",
   "id": "25759da6-6035-401a-977f-f98abbd40714",
   "metadata": {},
   "source": [
    "## Setup single-compartment Hodgkin-Huxley neurons\n",
    "First we define a function to create a prototype of a single-compartment with Hodgkin-Huxley's Na+ and K+ channels.\n",
    "\n",
    "We have switched to modern convention of considering the outside medium as ground, setting intracellular membrane potential to -70 mV (Hodgkin and Huxley set their ground to the intracellular medium).\n",
    "\n",
    "We have also modified the equations to switch from physiological units (ms, mV) to SI units.\n",
    "\n",
    "The `get_hh_proto()` function creates a prototype compartment under `/library` only if it does not exist already. Otherwise it simply returns the existing compartment."
   ]
  },
  {
   "cell_type": "code",
   "execution_count": null,
   "id": "f4ccf704-a39f-4e83-b3d0-68fb5c882f2e",
   "metadata": {},
   "outputs": [],
   "source": [
    "EREST_ACT = -70e-3\n",
    "ENa = 115e-3 + EREST_ACT\n",
    "EK = -12e-3 + EREST_ACT\n",
    "DIA = 30e-6"
   ]
  },
  {
   "cell_type": "code",
   "execution_count": null,
   "id": "87f4167c-badf-48e5-8753-87510197f403",
   "metadata": {},
   "outputs": [],
   "source": [
    "def get_hh_proto():\n",
    "    lib = moose.Neutral('/library')\n",
    "    comp_path = f'{lib.path}/comp'\n",
    "    if moose.exists(comp_path):\n",
    "        return moose.element(comp_path)\n",
    "        \n",
    "    # Make a prototype compartment\n",
    "    proto_comp = moose.Compartment(comp_path)\n",
    "    sarea = np.pi * DIA * DIA  # Surface area of spherical compartment\n",
    "    proto_comp.Em = EREST_ACT + 10.613e-3    # Hodgkin and Huxley used resting voltage as 0\n",
    "    proto_comp.initVm = EREST_ACT\n",
    "    proto_comp.Cm = 1e-2 * sarea  # 1 uF/cm^2 = 1e-2 F/m^2\n",
    "    proto_comp.Rm = 1 / (10 * 0.3 * sarea) # Gm = 0.3 mS/cm^2 = 0.3 * 10 S/m^2\n",
    "    \n",
    "    # Create the HH channels\n",
    "    na_chan = moose.HHChannel(f'{proto_comp.path}/Na')\n",
    "    k_chan = moose.HHChannel(f'{proto_comp.path}/K')\n",
    "    moose.connect(na_chan, 'channel', proto_comp, 'channel')\n",
    "    moose.connect(k_chan, 'channel', proto_comp, 'channel')\n",
    "    na_chan.Ek = ENa\n",
    "    na_chan.Gbar = 10 * 120 * sarea  # 1 mS/cm^2 = 10 S/m^2\n",
    "    k_chan.Ek = EK\n",
    "    k_chan.Gbar = 10 * 36 * sarea  # 1 mS/cm^2 = 10 S/m^2\n",
    "    # Set the gate powers in order to instantiate the gate elements\n",
    "    na_chan.Xpower = 3   # m^3\n",
    "    na_chan.Ypower = 1   # h\n",
    "    \n",
    "    m_gate = moose.element(na_chan.gateX)\n",
    "    h_gate = moose.element(na_chan.gateY)\n",
    "    \n",
    "    k_chan.Xpower = 4\n",
    "    n_gate = moose.element(k_chan.gateX) \n",
    "    \n",
    "    # Note: we are converting physiological units in the original \n",
    "    # HH formulae to SI units. Also, we are considering resting membrane potential\n",
    "    # EREST_ACT to be -70 mV while Hodgkin and Huxley considered it to be 0 mV.\n",
    "    # Therefore we must shift the voltage by EREST_ACT to use HH-formulae.\n",
    "    # We are converting V into mV before passing it to the original HH equations.\n",
    "    # The rates are then multiplied by 1e3 to convert from 1/ms to 1/s.\n",
    "    m_gate.alphaExpr = f'1e3 * 0.1 * (25 - 1e3 * (v - ({EREST_ACT})))/(exp((25 - 1e3 * (v - ({EREST_ACT})))/10) - 1)'\n",
    "    m_gate.betaExpr =  f'1e3 * 4 * exp(- 1e3 * (v - ({EREST_ACT}))/ 18)'\n",
    "    h_gate.alphaExpr = f'1e3 * 0.07 * exp(- 1e3 * (v - ({EREST_ACT}))/ 20)'\n",
    "    h_gate.betaExpr = f'1e3 / (exp((30 - 1e3 * (v - ({EREST_ACT}))) / 10) + 1)'\n",
    "    n_gate.alphaExpr = f'1e3 * 0.01 * (10 - 1e3 * (v - ({EREST_ACT}))) / (exp((10 - 1e3 * (v - ({EREST_ACT})))/10) - 1)'\n",
    "    n_gate.betaExpr = f'1e3 * 0.125 * exp(-1e3 * (v - ({EREST_ACT})) / 80)'\n",
    "    \n",
    "    # Set the interpolation table ranges and number of divisions for the gates\n",
    "    # and fill the tables by evaluating the expressions\n",
    "    for gate in (m_gate, h_gate, n_gate):  # avoid repetition\n",
    "        gate.min = -110e-3\n",
    "        gate.max = 50e-3\n",
    "        gate.divs = 1000\n",
    "        gate.useInterpolation = True\n",
    "        gate.fillFromExpr()   # fill the tables by evaluating alpha/beta expressions\n",
    "    return proto_comp"
   ]
  },
  {
   "cell_type": "markdown",
   "id": "8a13f5ef-8984-4ba0-9592-6d702af47dbb",
   "metadata": {},
   "source": [
    "Now make containers for model and data, and make two copies of the prototype for the two neurons."
   ]
  },
  {
   "cell_type": "code",
   "execution_count": null,
   "id": "7fbbfa38-3350-445f-a05b-f202a5f79607",
   "metadata": {},
   "outputs": [],
   "source": [
    "model = moose.Neutral('/model')\n",
    "data = moose.Neutral('/data')"
   ]
  },
  {
   "cell_type": "code",
   "execution_count": null,
   "id": "1316b42b-039f-44d3-8395-2ae25356f7ba",
   "metadata": {},
   "outputs": [],
   "source": [
    "# Make copies of the prototype compartment\n",
    "proto = get_hh_proto()\n",
    "nrn_a = moose.copy(proto, model, 'A')\n",
    "nrn_b = moose.copy(proto, model, 'B')"
   ]
  },
  {
   "cell_type": "markdown",
   "id": "40f6fcd1-3b49-457a-915a-c799999bbeaf",
   "metadata": {},
   "source": [
    "Below we print some debug information to "
   ]
  },
  {
   "cell_type": "code",
   "execution_count": null,
   "id": "af19b039-8363-4251-9a35-45ec9d2060d8",
   "metadata": {},
   "outputs": [],
   "source": [
    "moose.le(model)\n",
    "na = moose.element(f'{proto.path}/Na')\n",
    "print('Total GNa:', na.Gbar)\n",
    "m = moose.element(f'{na.path}/gateX')\n",
    "print('alpha_m expression:', m.alphaExpr)\n",
    "print('vmin:', m.min, 'vmax:', m.max, 'vdivs:', m.divs)\n",
    "print('m-tableA computed:', m.tableA)\n",
    "print('m-tableB computed:', m.tableB)\n",
    "h = moose.element(f'{na.path}/gateY')\n",
    "print('h-tableA computed:', h.tableA)\n",
    "print('h-tableB computed:', h.tableB)"
   ]
  },
  {
   "cell_type": "markdown",
   "id": "4123e4ed-949e-475f-9d6d-0640b02926f6",
   "metadata": {},
   "source": [
    "## Create and setup the synapse\n",
    "In this model we will create a synapse from neuron `A` to neuron `B`.\n",
    "\n",
    "To detect threshold crossing on the presynaptic compartment `A`, and send the spike event time to the postsynaptic partner, we need a `SpikeGen` object as part of the presynaptic mechanism. The `Compartment` sends out its voltage from the `src` field `VmOut` and the `SpikeGen` receives this value into its `dest` field `Vm` .\n",
    "\n",
    "On the postsynaptic compartment we need a synaptic channel that undergoes conductance change due to spike events. This is modeled by the `SynChan` class. The `SynChan` element is reciprocally connected to the postsynaptic `Compartment` via the `channel` field, just like `HHChannel`. \n",
    "\n",
    "For receiving the spike events and passing it to the `SynChan`, a `SynHandler` element is needed. The `SynHandler` accumulates incoming spike information and sends it out through the `src` field `activationOut`, and this goes into the `dest` field `activation` on the `SynChan`. "
   ]
  },
  {
   "cell_type": "code",
   "execution_count": null,
   "id": "82a06c16-4700-4530-b3b5-ff065ff5500e",
   "metadata": {},
   "outputs": [],
   "source": [
    "spikegen = moose.SpikeGen(f'{nrn_a.path}/spike')\n",
    "# SpikeGen receives compartment's voltage from `VmOut` source field into its `Vm` dest field\n",
    "moose.connect(nrn_a, 'VmOut', spikegen, 'Vm')  \n",
    "\n",
    "synchan = moose.SynChan(f'{nrn_b.path}/synchan')\n",
    "moose.connect(synchan, 'channel', nrn_b, 'channel')\n",
    "\n",
    "synhandler = moose.SimpleSynHandler(f'{synchan.path}/synh')\n",
    "moose.connect(synhandler, 'activationOut', synchan, 'activation')"
   ]
  },
  {
   "cell_type": "markdown",
   "id": "abff5d9a-ac43-4ce6-8a7f-cece760c2d3a",
   "metadata": {},
   "source": [
    "A `SynHandler` can take incoming spikes from multiple sources (presynaptic terminals). We must specify the number of synapses in the `numSynapses` field. This will allocate one element to the `synapse` array (of class `Synapse`) on the `SynHandler` to receive spike events."
   ]
  },
  {
   "cell_type": "code",
   "execution_count": null,
   "id": "f2eee7b2-a2ab-44ee-a654-e030c46f13be",
   "metadata": {},
   "outputs": [],
   "source": [
    "synhandler.numSynapses = 1"
   ]
  },
  {
   "cell_type": "markdown",
   "id": "48281d95-a50b-4f57-a8ad-dd18031ab036",
   "metadata": {},
   "source": [
    " Now we can connect the `SpikeGen` to the corresponding element of the `synapse` array on the `SynHandler`. The `src` field `spikeOut` of the `SpikeGen` will be connected to the `dest` field `addSpike` of the element on the `Synapse`."
   ]
  },
  {
   "cell_type": "code",
   "execution_count": null,
   "id": "851214d0-5648-48d2-a7d5-e629fca0c98a",
   "metadata": {},
   "outputs": [],
   "source": [
    "moose.connect(spikegen, 'spikeOut', synhandler.synapse[0], 'addSpike')"
   ]
  },
  {
   "cell_type": "markdown",
   "id": "f12446bd-a0d8-412c-a13f-3f6f18187c7d",
   "metadata": {},
   "source": [
    "We now set the synaptic weight to `1.0` and delay to `1 ms`."
   ]
  },
  {
   "cell_type": "code",
   "execution_count": null,
   "id": "3c550164-75bd-4931-8f5f-ad27216f1111",
   "metadata": {},
   "outputs": [],
   "source": [
    "synhandler.synapse[0].weight = 1.0\n",
    "synhandler.synapse[0].delay = 1e-3   # 1 ms synaptic delay"
   ]
  },
  {
   "cell_type": "markdown",
   "id": "2d72acde-afbb-4b85-a353-7758a89f02ab",
   "metadata": {},
   "source": [
    "We also set the properties of the `SynChan`. Like Hodgkin-Huxley type ion channels, synaptic channels also have a reversal potential, set through the field `Ek`. As the value here is positive compared to the resting membrane potential of the postsynaptic compartment, the channel will have an depolarizing or excitatory effect when activated.\n",
    "\n",
    "`Gbar` is the maximal conductance. We assign different values to the two time constants, `tau1` and `tau2`, giving it a double-exponential dynamics. The double-exponential synapse has a conductance\n",
    "\n",
    "\n",
    "$g(t) = A\\ g_{max}\\ \\frac{e^{-t/\\tau_{1}} - e^{-t/\\tau_{2}}}{\\tau_{1} - \\tau_{2}}$\n",
    "\n",
    "Here $A$ is a normalization constant to ensure that $g(t)$ reaches the maximum value of $g_{max}$."
   ]
  },
  {
   "cell_type": "code",
   "execution_count": null,
   "id": "43b26f9f-295d-4d4c-b49f-85c9b3c0a961",
   "metadata": {},
   "outputs": [],
   "source": [
    "# Ek is the reversal potential.\n",
    "# Making it positive relative to the resting membrane potential\n",
    "synchan.Ek = 0.0\n",
    "synchan.Gbar = 1e-7\n",
    "synchan.tau1 = 1e-3  # 1 ms time constant\n",
    "synchan.tau2 = 5e-3"
   ]
  },
  {
   "cell_type": "markdown",
   "id": "114b2a1c-6205-4e47-a0d2-f5766d46d7c2",
   "metadata": {},
   "source": [
    "## Setup current clamp to stimulate presynaptic neuron\n",
    "We also create a current clamp to artificially stimulate the presynaptic compartment in order to make it spike."
   ]
  },
  {
   "cell_type": "code",
   "execution_count": null,
   "id": "c98c77ec-e2a2-443c-819f-2053ed15f883",
   "metadata": {},
   "outputs": [],
   "source": [
    "cclamp = moose.PulseGen(f'{nrn_a.path}/input')\n",
    "moose.connect(cclamp, 'output', nrn_a, 'injectMsg')\n",
    "cclamp.firstDelay = 50e-3\n",
    "cclamp.firstWidth = 200e-3\n",
    "cclamp.firstLevel = 1e-9  "
   ]
  },
  {
   "cell_type": "markdown",
   "id": "b333d65a-720f-4d02-955d-4931cbf9d4f2",
   "metadata": {},
   "source": [
    "## Setup data recording\n",
    "Finally, we need to setup the `Table`s for data recording. We track the voltage of neurons `A` and `B` with two `Tables`: `vm_a` and `vm_b`. We monitor the conductance (`Gk` field) of the `SynChan` with `gsyn`."
   ]
  },
  {
   "cell_type": "code",
   "execution_count": null,
   "id": "933c6e33-42b3-4394-a2d7-ecc15067fbc3",
   "metadata": {},
   "outputs": [],
   "source": [
    "vm_a = moose.Table(f'{data.path}/vm_a')\n",
    "moose.connect(vm_a, 'requestOut', nrn_a, 'getVm')\n",
    "vm_b = moose.Table(f'{data.path}/vm_b')\n",
    "moose.connect(vm_b, 'requestOut', nrn_b, 'getVm')\n",
    "\n",
    "gsyn = moose.Table(f'{data.path}/gsyn')\n",
    "moose.connect(gsyn, 'requestOut', synchan, 'getGk')"
   ]
  },
  {
   "cell_type": "markdown",
   "id": "5fa6e8a5-5ebb-4b00-bfb2-ab41d28b7d71",
   "metadata": {},
   "source": [
    "## Run simulation"
   ]
  },
  {
   "cell_type": "code",
   "execution_count": null,
   "id": "a7aaa882-cd57-44b3-a137-1f5c7e6e853b",
   "metadata": {},
   "outputs": [],
   "source": [
    "simtime = 300e-3\n",
    "moose.reinit()\n",
    "moose.start(simtime)"
   ]
  },
  {
   "cell_type": "markdown",
   "id": "7bac9f12-e512-483b-8a3d-b4966909cae7",
   "metadata": {},
   "source": [
    "## Plot data"
   ]
  },
  {
   "cell_type": "markdown",
   "id": "40ae9a1a-e3cf-4424-b46b-9c2de3f1e392",
   "metadata": {},
   "source": [
    "Now we can plot the `Vm` of neurons `A` and `B` along with the synaptic conductance."
   ]
  },
  {
   "cell_type": "code",
   "execution_count": null,
   "id": "d96be6ee-3c67-4605-a11d-a04cf4c5780b",
   "metadata": {},
   "outputs": [],
   "source": [
    "fig, axes = plt.subplots(nrows=3, sharex='all')\n",
    "t = np.arange(len(gsyn.vector)) * gsyn.dt * 1e3\n",
    "axes[0].plot(t, vm_a.vector)\n",
    "axes[0].set_ylabel('Vm (Volt)')\n",
    "axes[0].set_title('Neuron A')\n",
    "axes[1].plot(t, vm_b.vector)\n",
    "axes[1].set_ylabel('Vm (Volt)')\n",
    "axes[1].set_title('Neuron B')\n",
    "axes[2].plot(t, gsyn.vector * 1e6)\n",
    "axes[2].set_xlabel('Time (ms)')\n",
    "axes[2].set_xlabel('Gk (uS)')\n",
    "axes[2].set_title('Gk of SynChan on B')\n",
    "fig.tight_layout()"
   ]
  },
  {
   "cell_type": "markdown",
   "id": "7dba6637-9fb3-44db-b851-ed1f91712f1f",
   "metadata": {},
   "source": [
    "# Exercises"
   ]
  },
  {
   "cell_type": "markdown",
   "id": "27e50ac4-2191-4bee-a94c-4bc1c712f6ea",
   "metadata": {},
   "source": [
    "1. What do you observe in the membrane potential plot of Neuron B? If you want to pass on the output of B to another identical neuron C, would the same `threshold` work for the `SpikeGen` on B?\n",
    "2. The maximal conductance of the synapse `Gbar` was set to $0.1 \\mu S$. Is that really the maximum value in the simulation?\n",
    "4. Modify the weight of of the synapse and note the results.\n",
    "5. Modify `Gbar` of the `SynChan` and note the results.\n",
    "6. Increase `Ek` of the `SynChan` and note the effect.\n",
    "7. Change `Ek` of the `SynChan` to $-80 mV$ and observe the result.\n",
    "8. How will you model a GABA-ergic (inhibitory synapse)?"
   ]
  },
  {
   "cell_type": "code",
   "execution_count": null,
   "id": "cc263675-ee5f-4681-8fc5-deee0ff25b7e",
   "metadata": {},
   "outputs": [],
   "source": []
  }
 ],
 "metadata": {
  "kernelspec": {
   "display_name": "Python 3 (ipykernel)",
   "language": "python",
   "name": "python3"
  },
  "language_info": {
   "codemirror_mode": {
    "name": "ipython",
    "version": 3
   },
   "file_extension": ".py",
   "mimetype": "text/x-python",
   "name": "python",
   "nbconvert_exporter": "python",
   "pygments_lexer": "ipython3",
   "version": "3.11.9"
  }
 },
 "nbformat": 4,
 "nbformat_minor": 5
}
