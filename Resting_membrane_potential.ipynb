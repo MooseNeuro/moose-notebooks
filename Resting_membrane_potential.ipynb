{
 "cells": [
  {
   "cell_type": "markdown",
   "id": "7edf972e-ca01-40e9-a493-fbdba54b4bc3",
   "metadata": {
    "editable": true,
    "slideshow": {
     "slide_type": ""
    },
    "tags": []
   },
   "source": [
    "[![Open In Colab](./colab-badge.png)](https://colab.research.google.com/github/subhacom/moose-notebooks/blob/main/Multi-compartmental_neuron_model.ipynb) [![Binder](./binder_logo.png)](https://mybinder.org/v2/gh/subhacom/moose-notebooks/HEAD)"
   ]
  },
  {
   "cell_type": "code",
   "execution_count": null,
   "id": "63af9df6-cd9e-4366-b935-6ad3ec1c6455",
   "metadata": {},
   "outputs": [],
   "source": [
    "# Only required on colab!\n",
    "!pip install pymoose"
   ]
  },
  {
   "cell_type": "markdown",
   "id": "cabf7dfa-0e46-4046-a2e4-aefad7195fd6",
   "metadata": {},
   "source": [
    "# Resting membrane potential\n",
    "\n",
    "All cells have a membrane separating it from the outside environment. As life evolved in the oceans, cellular functions utilize salts dissolved in water (i.e., ions). However, the cell membrane keeps the ion concentrations in the cytoplasm different from the external medium. Moreover, every living cell maintains an a voltage inside the cell membrane relative to the outside. This is called the *membrane potential*.\n",
    "\n",
    "The cell membrane is semipermeable. When there is a difference in the concentration of an ion across such a membrane, the ions tend to flow from high concentration to low concentration, or down its chemical gradient. The ions being charged particles, they also experience electrical force due to the voltage difference across the membrane.\n",
    "\n",
    "## Nernst equation\n",
    "In the \"resting\" state of a cell, there is an equilibrium so that no net current flows across the cell membrane. The net flow of a given ion (ionic current) is zero when the forces due to electrical gradient and concentration gradient balance out each other. From basic laws of physics one can show that the equilibrium potential for the ion is\n",
    "\n",
    "$E_{i} = - \\frac{RT}{zF} ln \\frac{[C]_{in}}{[C]_{out}}$\n",
    "\n",
    "Here $R$ is the universal gas constant, $T$ the absolute temperature, $F$ Faraday's constant, $z$ the valence of the ion under consideration, $[C]_{in}$ the concentration of the ion inside the cell membrane, and $[C]_{out}$ its concentration in the extrenal solution.\n",
    "\n",
    "This equation is called the Nernst equation."
   ]
  },
  {
   "cell_type": "markdown",
   "id": "a2caa9b2-d816-4f39-8470-0739f2a6a31e",
   "metadata": {},
   "source": [
    "## Computing equilibrium potential\n",
    "While it is relatively easy to compute the equilibrium potential of a given ion using Nernst equation, MOOSE provides a class for doing this computation dynamically (what if the concentration of an ion changes over time?)\n"
   ]
  },
  {
   "cell_type": "code",
   "execution_count": 3,
   "id": "a1d75ae1-a384-49cc-91a1-cd71abd38485",
   "metadata": {},
   "outputs": [],
   "source": [
    "import moose as mu\n",
    "\n",
    "\n",
    "nernst = mu.Nernst('nernst')"
   ]
  },
  {
   "cell_type": "markdown",
   "id": "f9808ea3-810c-4bcf-8b16-ab4d1ce5947c",
   "metadata": {},
   "source": [
    "A typical mammalian cell has internal K+ concentration of 140 mM and external K+ concentration of 5 mM. Assuming a body temperature of 37 degree C we can set the corresponding fields of the `Nernst` object."
   ]
  },
  {
   "cell_type": "code",
   "execution_count": 7,
   "id": "812646b7-6548-4595-af08-d5cf9406f5e5",
   "metadata": {},
   "outputs": [],
   "source": [
    "nernst.Temperature = 273.15 + 37.0   # absolute temperature (37 Celcius)\n",
    "nernst.Cin = 140e-3  # inside-concentration of K+: 140 mM\n",
    "nernst.Cout = 5e-3   # outside-concentration of K+: 5 mM\n",
    "nernst.valence = 1   # valence of K+: 1"
   ]
  },
  {
   "cell_type": "markdown",
   "id": "529c05bc-bafc-4e32-8767-e305c3303750",
   "metadata": {},
   "source": [
    "Setting the values updates the reversal/equilibrium potential right away"
   ]
  },
  {
   "cell_type": "code",
   "execution_count": 16,
   "id": "60602956-6373-4c18-9cd8-e962ff0cbd2e",
   "metadata": {},
   "outputs": [
    {
     "name": "stdout",
     "output_type": "stream",
     "text": [
      "-0.08905675664690106\n"
     ]
    }
   ],
   "source": [
    "print(nernst.E)"
   ]
  },
  {
   "cell_type": "markdown",
   "id": "1aa56b40-6c45-43b9-922d-a11c304352ac",
   "metadata": {},
   "source": [
    "You can verify the result directly in Python"
   ]
  },
  {
   "cell_type": "code",
   "execution_count": 12,
   "id": "9eb33d4c-c9b1-4629-a2b4-94e9a3b4606d",
   "metadata": {},
   "outputs": [
    {
     "name": "stdout",
     "output_type": "stream",
     "text": [
      "-0.08905374075519665\n"
     ]
    }
   ],
   "source": [
    "import numpy as np\n",
    "R = 8.314\n",
    "T = 273.15 + 37\n",
    "z = 1\n",
    "F = 96485.33\n",
    "Cin = 140.0\n",
    "Cout = 5.0\n",
    "\n",
    "ek = - R * T/(z * F) * np.log(Cin/Cout)\n",
    "print(ek)"
   ]
  },
  {
   "cell_type": "markdown",
   "id": "487a6563-ae88-42d8-898c-c2ec678bb997",
   "metadata": {},
   "source": [
    "Both give about -89 mV (-0.089 V) as the reversal potential for K+ ion"
   ]
  },
  {
   "cell_type": "markdown",
   "id": "fdde45f1-fcfb-4f9f-b6e0-7fb0872fd8ad",
   "metadata": {},
   "source": [
    "### Exercise"
   ]
  },
  {
   "cell_type": "markdown",
   "id": "f92a4190-4dce-4aea-aaba-b6c209480524",
   "metadata": {},
   "source": [
    "1. For frog muscle, [Conway 1957](https://doi.org/10.1152/physrev.1957.37.1.84) measured the internal concentration of Cl- ion to be 1.5 mM and the external concentration being 77.5 mM. Assuming the muscle is kept at room temperature (20 degree C), what would be the reversal potential for Cl- in frog muscle?"
   ]
  },
  {
   "cell_type": "code",
   "execution_count": 13,
   "id": "a218a75e-de0f-43c7-8178-65f3da24bb14",
   "metadata": {},
   "outputs": [],
   "source": [
    "# Your code here"
   ]
  },
  {
   "cell_type": "markdown",
   "id": "a9ed9498-37e7-42a4-a8eb-d0a5cf848560",
   "metadata": {},
   "source": [
    "## Goldman-Hodgkin-Katz (GHK) equation"
   ]
  },
  {
   "cell_type": "markdown",
   "id": "0e578dd2-ad28-4d5b-8f57-2dcf57f08028",
   "metadata": {},
   "source": [
    "The [GHK voltage equation](https://www.ncbi.nlm.nih.gov/pmc/articles/PMC5688357/) allows us to compute the resting membrane potential when multiple ionic species are distributed inside and outside the cell membrane. If the ions are $Na^+$, $K^{+}$ and $Cl^{-}$, the the membrane potential at equilibrium can be calculated as\n",
    "\n",
    "$Vm = \\frac{RT}{F} \\times ln(\\frac{P_{K} [K^{+}]_{out} + P_{Na} [Na^{+}]_{out} + P_{Cl} [Cl^{-}]_{in}}{P_{K} [K^{+}]_{in} + P_{Na} [Na^{+}]_{in} + P_{Cl} [Cl^{-}]_{out}})$\n",
    "\n",
    "Where $P_{C}$ indicates the permeability of the membrane to ion species $C$, $[C]_{out}$ is its concentration outside the membrane, and $C_{in}$ is its concentration inside the membrane. Notice that in the numerator we have the external concentrations of the cations and the internal concentration of the anions, and the opposite in the denominator.\n",
    "\n",
    "Also be aware that the derivation of the GHK equation assumes the applicability of NPE. Thus the electric field across the membrane should be constant, and there should be no complicated energy barriers in the path of the ions (ions pass through pores made of proteins, and these can have distribution of electron density that creates an energy barrier for the ion).\n",
    "\n"
   ]
  },
  {
   "cell_type": "code",
   "execution_count": 16,
   "id": "7dd03db4-e023-4f0c-a468-be89316455ce",
   "metadata": {},
   "outputs": [],
   "source": [
    "def GHK_V(K_in, K_out, Na_in, Na_out, Cl_in, Cl_out, P_K, P_Na, P_Cl, T):\n",
    "    \"\"\"Compute the resting membrane voltage using GHK voltage equation\n",
    "    \n",
    "    \"\"\"\n",
    "    num = P_K * K_out + P_Na * Na_out + P_Cl * Cl_in\n",
    "    den = P_K * K_in + P_Na * Na_in + P_Cl * Cl_out\n",
    "    return (R * T / F) * np.log(num / den)\n",
    "    "
   ]
  },
  {
   "cell_type": "markdown",
   "id": "6bd1a67a-28b9-428f-b846-a33714c0f063",
   "metadata": {},
   "source": [
    "We can verify it for the example in [Johnston and Wu](https://mitpress.mit.edu/9780262100533/foundations-of-cellular-neurophysiology/)\n",
    "\n",
    "- K_out = 10, K_in = 400, Na_out = 460, Na_in = 50, Cl_in = 40, Cl_out = 540\n",
    "- P_K : P_Na : P_Cl = 1: 0.03 : 0.1\n",
    "- Temperature 20 degree C\n",
    "\n",
    "Note that although the concentrations are in mM, not in SI, the multipliers cancel out. Similarly, we only need the ratios of the permeabilities as they appear in both the numerator and the denominator."
   ]
  },
  {
   "cell_type": "code",
   "execution_count": 22,
   "id": "5cec635c-7cb3-4330-93f7-6f801d3b641b",
   "metadata": {
    "editable": true,
    "slideshow": {
     "slide_type": ""
    },
    "tags": []
   },
   "outputs": [
    {
     "name": "stdout",
     "output_type": "stream",
     "text": [
      "-0.07063690565561223\n"
     ]
    }
   ],
   "source": [
    "print(GHK_V(400, 10, 50, 460, 40, 540, 1.0, 0.03, 0.1, 273.15 + 20))"
   ]
  },
  {
   "cell_type": "markdown",
   "id": "432fe785-55f1-4555-a232-3339817be6fc",
   "metadata": {},
   "source": [
    "### Exercise"
   ]
  },
  {
   "cell_type": "markdown",
   "id": "48e251fe-8f7a-4ec6-a33a-7f27f8ff8286",
   "metadata": {},
   "source": [
    "In a mammalian cell the concentrations of the ions are as follows (in mM):\n",
    "\n",
    "| Ion |  Inside | Outside \n",
    "|-----|---------|--------- \n",
    "| $K^{+}$ | 140 |  5\n",
    "| $Na^{+}$ | 14 | 140\n",
    "| $Cl^{-}$ | 4  | 100\n",
    "\n",
    "Assuming permeability of $Na^{+}$ and $Cl^{-}$ to be 0.05 and 0.45 relative to $K^{+}$ (i.e., $P_{K}: P_{Na} : P_{Cl} = 1 : 0.05 : 0.45$), and a temperature of 37 $\\degree$ C, compute the resting voltage of the cell using GHK equation."
   ]
  },
  {
   "cell_type": "code",
   "execution_count": null,
   "id": "0d472c9e-ccd6-475b-b46a-1ce670b513bf",
   "metadata": {
    "editable": true,
    "slideshow": {
     "slide_type": ""
    },
    "tags": []
   },
   "outputs": [],
   "source": []
  }
 ],
 "metadata": {
  "kernelspec": {
   "display_name": "Python 3 (ipykernel)",
   "language": "python",
   "name": "python3"
  },
  "language_info": {
   "codemirror_mode": {
    "name": "ipython",
    "version": 3
   },
   "file_extension": ".py",
   "mimetype": "text/x-python",
   "name": "python",
   "nbconvert_exporter": "python",
   "pygments_lexer": "ipython3",
   "version": "3.11.6"
  }
 },
 "nbformat": 4,
 "nbformat_minor": 5
}
