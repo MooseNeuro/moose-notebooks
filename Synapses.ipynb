{
 "cells": [
  {
   "cell_type": "markdown",
   "id": "3104c1da-0046-4199-a249-261bb508f285",
   "metadata": {},
   "source": [
    "[![Open In Colab](./colab-badge.png)](https://colab.research.google.com/github/subhacom/moose-notebooks/blob/main/Synapses.ipynb) "
   ]
  },
  {
   "cell_type": "markdown",
   "id": "8f33a372-4b8d-4c5d-ad2a-6246a38b1360",
   "metadata": {},
   "source": [
    "If you are using `colab`, in a fresh runtime you need to run pip to install pymoose there. On the other hand, if you are running jupyter locally and have pymoose installed in that environment, skip the line below."
   ]
  },
  {
   "cell_type": "code",
   "execution_count": null,
   "id": "eabbcc5f-da96-4450-b088-4b1dabef16d8",
   "metadata": {},
   "outputs": [],
   "source": [
    "# Only required on colab!\n",
    "!pip install pymoose --quiet"
   ]
  },
  {
   "cell_type": "markdown",
   "id": "eaa37c41-9ff6-4f56-b59f-6e8f931c1cac",
   "metadata": {},
   "source": [
    "# Synaptic connections"
   ]
  },
  {
   "cell_type": "markdown",
   "id": "9efcda4e-0985-44c2-9fa2-ada93c7f409b",
   "metadata": {},
   "source": [
    "Neurons communicate with one another as well as nearby cells of other kind, like glia, at multiple time scales. When we are looking at very short time scales, like milliseconds to seconds, this communication promarily happens via connections called synapses.\n",
    "\n",
    "There are two primary types of such connections: electrical and chemical synapses. Electrical synapses are also called *gap junctions*. At these junction the cell membranes of two neurons fuse together via channels made of protein molecules called *connexin* (*innexin* in insects), creating continuity of their cytoplasm. Electrical changes in one neuron directly flow into the connected neighbour and evoke corresponding changes there.\n",
    "\n",
    "The other type of synapses do not involve direct connection, and there is a small gap of about 20-40 nm between the terminals of two neurons. Synapses occur between two axons (axo-axonic), two dendrites (dendro-denritic), axon and soma (axo-somatic), dendrite and soma (dendro-somatic). But synapses between axon terminal of one neuron (presynaptic) and dendrites of another (postsynaptic) is the simplest to start with. These are called axo-dendritic synapses.\n",
    "\n",
    "A presynaptic terminal stores special chemicals in little sack-like structures called vesicles. When the terminal is depolarized, for example due to an action potential, vesicles fuse with the cell membrane and release its chemical (called neurotransmitter) into the synaptic cleft. The molecules of the neurotransmitter diffuses through the cleft and attaches to receptor molecules on cellmembrane on the postsynaptic terminal. \n",
    "\n",
    "The receptor molecule may be a channel itself, and get opened when the neurotransmitter molecule bonds with it (like key opening a lock). Then based on what ions the receptor channel allows to flow, and electrochemical gradients of those ions, current can flow into or out of the postsynaptic terminal.\n",
    "\n",
    "If positive ions flow in, they increase (depolarize) the membrane voltage of the postsynaptic terminal. In current clamp experiments the positive blip (depolarization) in the membrane voltage is called excitatory post synaptic potential (EPSP). There several mathematical models of the EPSP time-course that provide good approximations experimental results. \n",
    "\n",
    "A simple one is called the $\\alpha$ synapse. Like Hodgkin-Huxley type channels, here also we model the condutance of the synptic channel as a function of time (unlike HH channels it does not depend on the voltage).\n",
    "\n",
    "$g(t) = g_{max}\\ \\frac{t}{\\tau}\\ e^{-t/\\tau}$\n",
    "\n",
    "Here $g(t)$ is the coductance at $t$ time after onset (when the channel is turned on). $g_{max}$ is the peak conductance of the synapse. This function is called the $\\alpha$ function and hence the name of the model. We can easily compute and plot this using nunmpy and matplotlib.\n"
   ]
  },
  {
   "cell_type": "code",
   "execution_count": null,
   "id": "c3e3a9ff-33ae-4f45-95cb-617a608b09c5",
   "metadata": {},
   "outputs": [],
   "source": [
    "# plot the conductance of an alpha synapse over time from onset\n",
    "import numpy as np\n",
    "import matplotlib.pyplot as plt\n",
    "\n",
    "\n",
    "t = np.arange(0, 10.0, 1e-2)   # time points in ms\n",
    "gmax = 1.0   # arbitrarily setting to, say 1 nS\n",
    "tau = 1.0   # ms\n",
    "\n",
    "g = gmax * (t / tau) * np.exp(- t / tau)\n",
    "\n",
    "plt.plot(t, g)\n",
    "plt.xlabel('Time (ms)')\n",
    "plt.ylabel('Conductance (nS)')\n",
    "plt.suptitle('alpha synapse time course')\n"
   ]
  },
  {
   "cell_type": "markdown",
   "id": "a7bc1f92-4ad8-4423-be1a-a0d6bf7e82d8",
   "metadata": {},
   "source": [
    "# Simulating a synapse with moose\n",
    "\n",
    " [<img src=\"synchan.svg\" width=\"400\"/>](SynChan)\n",
    "\n",
    "*Figure: Components of a synapse in moose. `SpikeGen` objects (yellow circles) monitor presynaptic terminals (compartments) for threshold crossing. Each `SpikeGen` is mapped to a `synapse` (black bars) in a `SynHandler`(dark cyan). The events then evoke changes in conductance (`Gk`) of the `SynChan` objects (light purple).*"
   ]
  },
  {
   "cell_type": "markdown",
   "id": "b8bf30fe-5198-414c-aaef-755700f91e04",
   "metadata": {},
   "source": [
    "In a simulation we treat the presynaptic spike as an event in time, and this triggers the synapse to go through this conductance change. The synaptic channel is implemented by the `SynChan` class. The presynaptic event is delivered by a class called `SpikeGen` (for spike generator). Like HHChannels, this too has the `Gbar` field for the maximum conductance and `Gk` for the computed conductance. The reversal potential `Ek` determines whether activation of the channel would depolarize or hyperpolarize the compartmemnt."
   ]
  },
  {
   "cell_type": "code",
   "execution_count": null,
   "id": "7eee51ca-a5d4-42d8-abc3-c29fc0befc2a",
   "metadata": {},
   "outputs": [],
   "source": [
    "import moose\n",
    "\n",
    "\n",
    "# This is a safety check in case we run the same code repeatedly\n",
    "if moose.exists('/sim'):\n",
    "    moose.delete('/sim')\n",
    "\n",
    "container = moose.Neutral('/sim')\n",
    "model = moose.Neutral(f'{container.path}/model')\n",
    "data = moose.Neutral(f'{container.path}/data')\n",
    "\n",
    "# build a compartment to embed the synapse on\n",
    "comp = moose.Compartment(f'{model.path}/comp')\n",
    "vtab = moose.Table(f'{data.path}/Vm')\n",
    "moose.connect(vtab, 'requestOut', comp, 'getVm')"
   ]
  },
  {
   "cell_type": "code",
   "execution_count": null,
   "id": "2b03bcf0-16da-4b04-a32b-8248ec36126a",
   "metadata": {},
   "outputs": [],
   "source": [
    "# Create and connect the synaptic channel\n",
    "synchan = moose.SynChan(f'{comp.path}/synchan')\n",
    "\n",
    "gtab = moose.Table(f'{data.path}/gsyn')  # for recording the conductance\n",
    "\n",
    "# Like HHChannel SynChan also is connected by `channel` message with the compartment\n",
    "moose.connect(synchan, 'channel', comp, 'channel')\n",
    "moose.connect(gtab, 'requestOut', synchan, 'getGk')"
   ]
  },
  {
   "cell_type": "markdown",
   "id": "59db2fb2-7c08-46f6-b143-8923aa300415",
   "metadata": {},
   "source": [
    "To allow for more complex synaptic dynamics, like synaptic plasticity moose implements a synapse with multiple components. The `SynChan` handles the channel conductance, and another class, `SynHandler`, handles the incoming spike events."
   ]
  },
  {
   "cell_type": "code",
   "execution_count": null,
   "id": "7a9f1d68-97ff-4033-b6f3-f99b061cd89b",
   "metadata": {},
   "outputs": [],
   "source": [
    "synh = moose.SimpleSynHandler(f'{synchan.path}/synh')\n",
    "# A SynHandler can handle multiple incoming synaptic terminals.\n",
    "# By setting synapse.num = 1, we set the number of synapse elements \n",
    "# under the SynHandler\n",
    "synh.synapse.num = 1\n",
    "moose.connect(synh, 'activationOut', synchan, 'activation')"
   ]
  },
  {
   "cell_type": "code",
   "execution_count": null,
   "id": "0dfbb54e-12a3-4596-9f35-353ceca0877a",
   "metadata": {},
   "outputs": [],
   "source": [
    "# Create and connect a spike generator to deliver spike events to the `SynChan`\n",
    "spikegen = moose.SpikeGen(f'{synchan.path}/spike')\n",
    "\n",
    "moose.connect(spikegen, 'spikeOut', synh.synapse[0], 'addSpike')"
   ]
  },
  {
   "cell_type": "markdown",
   "id": "b6db32c9-996f-43cf-91a4-bc7af1963e02",
   "metadata": {},
   "source": [
    "`SpikeGen` objects detect the threshold crossing events on the presynaptic side and transmit the event time to the synapse under the `SynHandler`. In complete neuronal network models it would sense this from the presynaptic `Compartment`. For now we shall use a `PulseGen` object to provide this threshold-crossing event."
   ]
  },
  {
   "cell_type": "code",
   "execution_count": null,
   "id": "4e0e1f78-70e8-49a6-8a96-51183986e829",
   "metadata": {},
   "outputs": [],
   "source": [
    "pulse = moose.PulseGen(f'{model.path}/pulse')\n",
    "moose.connect(pulse, 'output', spikegen, 'Vm')\n",
    "\n",
    "pulsetab = moose.Table(f'{data.path}/pulse')\n",
    "moose.connect(pulsetab, 'requestOut', pulse, 'getOutputValue')"
   ]
  },
  {
   "cell_type": "markdown",
   "id": "10c88f01-5139-4e8e-8cda-6e9f349868d5",
   "metadata": {},
   "source": [
    "Now we setup the `PulseGen` to generate a single step, and set the threshold for the `SpikeGen` to half of that value."
   ]
  },
  {
   "cell_type": "code",
   "execution_count": null,
   "id": "32f54ecc-09e7-4368-9948-0e6f96fc98d5",
   "metadata": {},
   "outputs": [],
   "source": [
    "pulse.delay[0] = 5e-3   # 10 ms\n",
    "pulse.level[0] = 1.0\n",
    "pulse.width[0] = 1e9\n",
    "\n",
    "spikegen.threshold = 0.5"
   ]
  },
  {
   "cell_type": "markdown",
   "id": "c3274748-ec00-4dc4-8839-d6b89c0083a8",
   "metadata": {},
   "source": [
    "## Set the compartment properties"
   ]
  },
  {
   "cell_type": "code",
   "execution_count": null,
   "id": "718f2f75-4d6b-4392-a682-0d9a816c68cb",
   "metadata": {},
   "outputs": [],
   "source": [
    "comp.Cm = 1e-12\n",
    "comp.Rm = 1e7\n",
    "comp.Em = -70e-3\n",
    "comp.initVm = -70e-3"
   ]
  },
  {
   "cell_type": "markdown",
   "id": "993dfd07-2d59-4ab6-b2fe-e4bc0d0dbaad",
   "metadata": {},
   "source": [
    "## Set the synapse properties\n",
    "Now the most important part, setting the properties of the synapse. `SynChan` in moose allows two time constants for a more general model of synaptic conductance. If we make these two time constants identical then the dynamics turns into that of an alpha synapse."
   ]
  },
  {
   "cell_type": "code",
   "execution_count": null,
   "id": "9097641d-45dc-4cb5-a28d-816a6121fd1d",
   "metadata": {},
   "outputs": [],
   "source": [
    "synh.synapse[0].weight = 1.0\n",
    "synh.synapse[0].delay = 1e-3   # 1 ms synaptic delay\n",
    "\n",
    "synchan.Ek = 0.0      # reversal potential\n",
    "synchan.Gbar = 1e-6   # 1 uS\n",
    "synchan.tau1 = 1e-3  # 1 ms time constant\n",
    "synchan.tau2 = 1e-3    # tau1 = tau2 makes it an alpha synapse"
   ]
  },
  {
   "cell_type": "markdown",
   "id": "9c6a1727-6cb1-4212-b2bb-3a0fda4751b4",
   "metadata": {},
   "source": [
    "## Reset and run the simulation"
   ]
  },
  {
   "cell_type": "code",
   "execution_count": null,
   "id": "a58ffe7f-adba-4025-8123-f6e60a7f85cf",
   "metadata": {},
   "outputs": [],
   "source": [
    "runtime = 30e-3\n",
    "\n",
    "moose.reinit()\n",
    "moose.start(runtime)\n"
   ]
  },
  {
   "cell_type": "markdown",
   "id": "c827292e-2e4f-41cd-bd5c-f4fe8a2aadbd",
   "metadata": {},
   "source": [
    "## Synaptic current"
   ]
  },
  {
   "cell_type": "markdown",
   "id": "489910fa-e70e-46ca-b002-8410e33cdbd7",
   "metadata": {},
   "source": [
    "Like the variable conductance model of $Na^{+}$ and $K^{+}$ channels, synaptic conductances are also modeled as variable conductance in parallel with the leak resistance. The current through the synaptic channel at any time can be computed using Ohm's law.\n",
    "\n",
    "\n",
    "$I_{k} = G_{k}\\ (E_{k} - V_{m})$\n",
    "\n",
    "In python:"
   ]
  },
  {
   "cell_type": "code",
   "execution_count": null,
   "id": "46b064a2-520f-403a-9487-b6fba75c39ad",
   "metadata": {},
   "outputs": [],
   "source": [
    "Ik = gtab.vector * (synchan.Ek - vtab.vector)"
   ]
  },
  {
   "cell_type": "markdown",
   "id": "9bf274b2-6f98-49d4-a1d3-32d59aa594a1",
   "metadata": {},
   "source": [
    "# Plot the Vm and the Gk"
   ]
  },
  {
   "cell_type": "code",
   "execution_count": null,
   "id": "0e6aa355-3e60-4f79-9518-19d8355baaff",
   "metadata": {},
   "outputs": [],
   "source": [
    "fig, axes = plt.subplots(nrows=3, sharex='all')\n",
    "t = np.arange(len(vtab.vector)) * vtab.dt * 1e3\n",
    "axes[0].plot(t, vtab.vector * 1e3)\n",
    "axes[0].set_ylabel('Vm (mV)')\n",
    "axes[1].plot(t, gtab.vector * 1e6)\n",
    "axes[1].set_ylabel('Gsyn (uS)')\n",
    "axes[2].plot(t, Ik)\n",
    "axes[2].set_ylabel('Isyn (nA)')\n",
    "axes[2].set_xlabel('time (ms)')\n"
   ]
  },
  {
   "cell_type": "markdown",
   "id": "f700192f-cc15-47bf-acee-0eac773507c6",
   "metadata": {},
   "source": [
    "## Points to note\n",
    "1. We had set the synaptic delay to 1 ms. Therefore although our pulsegen's `delay[0]` was set to 5 ms, the change in the synaptic conductance (and the compartment voltage) starts at 6 ms.\n",
    "2. The compartment voltage has a slower time course than the synaptic conductance. This is because the parallel RC circuit of the passive compartment works as a low pass filter, smoothing out fast changes."
   ]
  },
  {
   "cell_type": "markdown",
   "id": "9c9df998-313d-4231-9d84-5aeb26810b8b",
   "metadata": {},
   "source": [
    "# Exercise"
   ]
  },
  {
   "cell_type": "markdown",
   "id": "7f6d4957-4698-4068-9ac4-5d07330752b6",
   "metadata": {},
   "source": [
    "1. Change the reversal potential of the `SynChan` to -90 mV and run the simulation again. What do you observe in the plots?\n",
    "2. Change the value of `weight` field of `synapse[0]` in the `SynHandler` (`synh.synapse[0].weight`) to 0.5 and rerun the simulation. How does the `Gk` change compared to the original model?\n",
    "3. Setting the `PulseGen` object's `width[0]` to a very large number ensures that it steps up to the value `level[0]` and does not come down during the simulation. Refer to the [More_complex_current_injection_protocol](./More_complex_current_injection_protocol.ipynb) notebook to review `PulseGen`. Update the properties (possibly `delay[0]`, `width[0]`, `delay[1]`, `width[1]`, `level[1]`) of the `PulseGen` object to deliver two pulses  (and hence spikes from the connected `SpikeGen` object) in quick succession. Vary the interval between these two pulses and note what you observe in the post-synaptic voltage."
   ]
  }
 ],
 "metadata": {
  "kernelspec": {
   "display_name": "Python 3 (ipykernel)",
   "language": "python",
   "name": "python3"
  },
  "language_info": {
   "codemirror_mode": {
    "name": "ipython",
    "version": 3
   },
   "file_extension": ".py",
   "mimetype": "text/x-python",
   "name": "python",
   "nbconvert_exporter": "python",
   "pygments_lexer": "ipython3",
   "version": "3.11.7"
  }
 },
 "nbformat": 4,
 "nbformat_minor": 5
}
