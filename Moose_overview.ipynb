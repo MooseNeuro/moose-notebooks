{
 "cells": [
  {
   "cell_type": "markdown",
   "id": "f8a20e15-d49a-4aa8-beb1-6e7380bd2f76",
   "metadata": {
    "editable": true,
    "slideshow": {
     "slide_type": "slide"
    },
    "tags": []
   },
   "source": [
    "# MOOSE Overview\n",
    "## Upinder Bhalla(1) and Subhasis Ray(2)\n",
    "## (1) NCBS, TFR,Bangalore \n",
    "## (2) CHINTA & IAI, TCG CREST, Kolkata\n"
   ]
  },
  {
   "cell_type": "markdown",
   "id": "556f5b71-c37f-4b40-9a1e-4d867dd5531b",
   "metadata": {
    "editable": true,
    "slideshow": {
     "slide_type": "slide"
    },
    "tags": []
   },
   "source": [
    "# Architecture of MOOSE\n",
    "<img src=\"./media/images/moose_overview/moose_architecture.png\" style=\"height:400px\"> \n",
    "Image credit: Upinder Bhalla"
   ]
  },
  {
   "cell_type": "markdown",
   "id": "80ec7cf8-a500-40f8-8303-928332a07bc9",
   "metadata": {
    "editable": true,
    "slideshow": {
     "slide_type": "slide"
    },
    "tags": []
   },
   "source": [
    "# Architecture of MOOSE\n",
    "<img src=\"./media/images/moose_overview/moose_architecture_2.png\" style=\"height:400px\"> \n"
   ]
  },
  {
   "cell_type": "markdown",
   "id": "1ba0852e-67c0-4fca-81cc-bbc166fa4a4a",
   "metadata": {
    "editable": true,
    "slideshow": {
     "slide_type": "slide"
    },
    "tags": []
   },
   "source": [
    "# Use MOOSE as Python module\n",
    "Import to use it\n"
   ]
  },
  {
   "cell_type": "code",
   "execution_count": 1,
   "id": "918769dc-6ce8-40b3-a6f7-dbc9b7964de1",
   "metadata": {
    "editable": true,
    "slideshow": {
     "slide_type": "fragment"
    },
    "tags": []
   },
   "outputs": [],
   "source": [
    "import moose"
   ]
  },
  {
   "cell_type": "markdown",
   "id": "b0b1ca66-6b88-4ee2-be6e-93b29193b661",
   "metadata": {
    "editable": true,
    "slideshow": {
     "slide_type": "fragment"
    },
    "tags": []
   },
   "source": [
    "Check the installed version number"
   ]
  },
  {
   "cell_type": "code",
   "execution_count": 2,
   "id": "092eb9d9-3f00-4c39-a975-fd2970db52fa",
   "metadata": {
    "editable": true,
    "slideshow": {
     "slide_type": "fragment"
    },
    "tags": []
   },
   "outputs": [
    {
     "name": "stdout",
     "output_type": "stream",
     "text": [
      "4.1.1\n"
     ]
    }
   ],
   "source": [
    "print(moose.__version__)"
   ]
  },
  {
   "cell_type": "markdown",
   "id": "7ebfa741-f7c5-459c-9d5e-815f963de4cf",
   "metadata": {
    "editable": true,
    "slideshow": {
     "slide_type": "slide"
    },
    "tags": []
   },
   "source": [
    "# See module listing (list of functions, classes, constants etc)"
   ]
  },
  {
   "cell_type": "code",
   "execution_count": 3,
   "id": "4f47b6ab-7074-429c-a30f-120adbeb3a3b",
   "metadata": {
    "editable": true,
    "slideshow": {
     "slide_type": "fragment"
    },
    "tags": []
   },
   "outputs": [
    {
     "data": {
      "text/plain": [
       "['ALLMSG',\n",
       " 'AdExIF',\n",
       " 'AdThreshIF',\n",
       " 'Adaptor',\n",
       " 'Annotator',\n",
       " 'Arith',\n",
       " 'BufPool',\n",
       " 'CaConc',\n",
       " 'CaConcBase',\n",
       " 'Cell',\n",
       " 'ChanBase',\n",
       " 'ChemCompt',\n",
       " 'Cinfo',\n",
       " 'Clock',\n",
       " 'Compartment',\n",
       " 'CompartmentBase',\n",
       " 'ConcChan',\n",
       " 'CubeMesh',\n",
       " 'CylMesh',\n",
       " 'DiagonalMsg',\n",
       " 'DifBuffer',\n",
       " 'DifBufferBase',\n",
       " 'DifShell',\n",
       " 'DifShellBase',\n",
       " 'DiffAmp',\n",
       " 'Dsolve',\n",
       " 'EndoMesh',\n",
       " 'Enz',\n",
       " 'EnzBase',\n",
       " 'Ex',\n",
       " 'ExIF',\n",
       " 'Example',\n",
       " 'FaradayConst',\n",
       " 'Finfo',\n",
       " 'Function',\n",
       " 'GapJunction',\n",
       " 'GasConst',\n",
       " 'GraupnerBrunel2012CaPlasticitySynHandler',\n",
       " 'Group',\n",
       " 'Gsolve',\n",
       " 'HDF5DataWriter',\n",
       " 'HDF5WriterBase',\n",
       " 'HHChannel',\n",
       " 'HHChannel2D',\n",
       " 'HHChannelBase',\n",
       " 'HHChannelF',\n",
       " 'HHChannelF2D',\n",
       " 'HHGate',\n",
       " 'HHGate2D',\n",
       " 'HHGateF',\n",
       " 'HHGateF2D',\n",
       " 'HSolve',\n",
       " 'INMSG',\n",
       " 'Id',\n",
       " 'InputVariable',\n",
       " 'IntFire',\n",
       " 'IntFireBase',\n",
       " 'Interpol',\n",
       " 'Interpol2D',\n",
       " 'IzhIF',\n",
       " 'IzhikevichNrn',\n",
       " 'Ksolve',\n",
       " 'LIF',\n",
       " 'Leakage',\n",
       " 'MMPump',\n",
       " 'MMenz',\n",
       " 'MarkovChannel',\n",
       " 'MarkovOdeSolver',\n",
       " 'MarkovRateTable',\n",
       " 'MarkovSolver',\n",
       " 'MarkovSolverBase',\n",
       " 'MeshEntry',\n",
       " 'MgBlock',\n",
       " 'Msg',\n",
       " 'Mstring',\n",
       " 'NA',\n",
       " 'NMDAChan',\n",
       " 'NSDFWriter',\n",
       " 'NSDFWriter2',\n",
       " 'Nernst',\n",
       " 'NeuroMesh',\n",
       " 'Neuron',\n",
       " 'Neutral',\n",
       " 'OUTMSG',\n",
       " 'ObjId',\n",
       " 'OneToAllMsg',\n",
       " 'OneToOneDataIndexMsg',\n",
       " 'OneToOneMsg',\n",
       " 'PI',\n",
       " 'PIDController',\n",
       " 'Pool',\n",
       " 'PoolBase',\n",
       " 'PostMaster',\n",
       " 'PresynMesh',\n",
       " 'PsdMesh',\n",
       " 'PulseGen',\n",
       " 'PyRun',\n",
       " 'QIF',\n",
       " 'RC',\n",
       " 'RandSpike',\n",
       " 'Reac',\n",
       " 'SBML',\n",
       " 'STDPSynHandler',\n",
       " 'STDPSynapse',\n",
       " 'SeqSynHandler',\n",
       " 'Shell',\n",
       " 'SimpleSynHandler',\n",
       " 'SingleMsg',\n",
       " 'SparseMsg',\n",
       " 'Species',\n",
       " 'SpikeGen',\n",
       " 'SpikeStats',\n",
       " 'Spine',\n",
       " 'SpineMesh',\n",
       " 'Stats',\n",
       " 'SteadyState',\n",
       " 'StimulusTable',\n",
       " 'Stoich',\n",
       " 'Streamer',\n",
       " 'SymCompartment',\n",
       " 'SynChan',\n",
       " 'SynHandlerBase',\n",
       " 'Synapse',\n",
       " 'Table',\n",
       " 'Table2',\n",
       " 'TableBase',\n",
       " 'TimeTable',\n",
       " 'VClamp',\n",
       " 'Variable',\n",
       " 'VectorTable',\n",
       " 'ZombieCaConc',\n",
       " 'ZombieCompartment',\n",
       " 'ZombieHHChannel',\n",
       " '__builtins__',\n",
       " '__cached__',\n",
       " '__doc__',\n",
       " '__file__',\n",
       " '__loader__',\n",
       " '__moose_classes__',\n",
       " '__name__',\n",
       " '__package__',\n",
       " '__path__',\n",
       " '__spec__',\n",
       " '__to_melement',\n",
       " '__version__',\n",
       " '_moose',\n",
       " '_sys_fields',\n",
       " 'about',\n",
       " 'addChemSolver',\n",
       " 'atexit',\n",
       " 'ce',\n",
       " 'chemMerge',\n",
       " 'chemUtil',\n",
       " 'cleanup',\n",
       " 'cls',\n",
       " 'connect',\n",
       " 'copy',\n",
       " 'delete',\n",
       " 'deleteChemSolver',\n",
       " 'doc',\n",
       " 'element',\n",
       " 'exists',\n",
       " 'fixXreacs',\n",
       " 'genesis',\n",
       " 'getCwe',\n",
       " 'getField',\n",
       " 'getFieldDict',\n",
       " 'getFieldNames',\n",
       " 'isRunning',\n",
       " 'isinstance_',\n",
       " 'le',\n",
       " 'listmsg',\n",
       " 'loadModel',\n",
       " 'loadModelInternal',\n",
       " 'melement',\n",
       " 'mergeChemModel',\n",
       " 'model_utils',\n",
       " 'moose_constants',\n",
       " 'move',\n",
       " 'neighbors',\n",
       " 'network_utils',\n",
       " 'os',\n",
       " 'p',\n",
       " 'plot_utils',\n",
       " 'print_utils',\n",
       " 'pwe',\n",
       " 'pydoc',\n",
       " 'rand',\n",
       " 'readNML2',\n",
       " 'readSBML',\n",
       " 'reinit',\n",
       " 'seed',\n",
       " 'setClock',\n",
       " 'setCwe',\n",
       " 'showfield',\n",
       " 'showfields',\n",
       " 'showmsg',\n",
       " 'start',\n",
       " 'stop',\n",
       " 'sys',\n",
       " 'sysfields',\n",
       " 'testSched',\n",
       " 'useClock',\n",
       " 'utils',\n",
       " 'vec',\n",
       " 'version',\n",
       " 'version_info',\n",
       " 'warnings',\n",
       " 'wildcardFind',\n",
       " 'writeKkit',\n",
       " 'writeNML2',\n",
       " 'writeSBML']"
      ]
     },
     "execution_count": 3,
     "metadata": {},
     "output_type": "execute_result"
    }
   ],
   "source": [
    "dir(moose)"
   ]
  },
  {
   "cell_type": "markdown",
   "id": "3f8cd554-271b-4d76-b267-3347e903759c",
   "metadata": {
    "editable": true,
    "slideshow": {
     "slide_type": "slide"
    },
    "tags": []
   },
   "source": [
    "# MOOSE uses posix-style paths for objects\n",
    "It mimicks directory traversal in Unix-like operating systems"
   ]
  },
  {
   "cell_type": "markdown",
   "id": "67924e74-43f4-4097-88f7-22a3dfac87c7",
   "metadata": {
    "editable": true,
    "slideshow": {
     "slide_type": "subslide"
    },
    "tags": []
   },
   "source": [
    "## Use `le` to **l**ist **e**lement\n",
    "### like `ls` in shell.\n"
   ]
  },
  {
   "cell_type": "code",
   "execution_count": 4,
   "id": "4b10695d-4c89-4590-9dcc-4743a0bb4ba9",
   "metadata": {
    "editable": true,
    "slideshow": {
     "slide_type": "fragment"
    },
    "tags": []
   },
   "outputs": [
    {
     "name": "stdout",
     "output_type": "stream",
     "text": [
      "Elements under /\n",
      "    /Msgs\n",
      "    /clock\n",
      "    /classes\n",
      "    /postmaster\n",
      "\n"
     ]
    }
   ],
   "source": [
    "moose.le()    # similar to `ls` "
   ]
  },
  {
   "cell_type": "markdown",
   "id": "a0f626c0-7f4a-4229-9c56-cf09fe0155ae",
   "metadata": {
    "editable": true,
    "slideshow": {
     "slide_type": "subslide"
    },
    "tags": []
   },
   "source": [
    "## Use `pwe` to show **p**resent **w**orking **e**lement\n",
    "### like `pwd` in shell\n",
    "\n",
    "```python\n",
    "moose.pwe()   # just like `pwd`\n",
    "```"
   ]
  },
  {
   "cell_type": "code",
   "execution_count": 5,
   "id": "48aaaae4-22ac-4b13-82f4-9c4f34dac320",
   "metadata": {
    "editable": true,
    "slideshow": {
     "slide_type": "fragment"
    },
    "tags": []
   },
   "outputs": [
    {
     "name": "stdout",
     "output_type": "stream",
     "text": [
      "/\n"
     ]
    }
   ],
   "source": [
    "moose.pwe()   # just like `pwd`"
   ]
  },
  {
   "cell_type": "markdown",
   "id": "43b2979a-dbd6-4d5e-9489-521208c4808c",
   "metadata": {
    "editable": true,
    "slideshow": {
     "slide_type": "fragment"
    },
    "tags": []
   },
   "source": [
    "Shell is the root element in MOOSE object hieararchy\n",
    "\n",
    "like the filesystem root directory: `/`"
   ]
  },
  {
   "cell_type": "markdown",
   "id": "e8f768d6-e05b-4ca9-8369-5ff6522bd0eb",
   "metadata": {
    "editable": true,
    "slideshow": {
     "slide_type": "subslide"
    },
    "tags": []
   },
   "source": [
    "## Use `ce` to **c**hange **e**lement\n",
    "### like `cd` in shell\n",
    "```python\n",
    "moose.ce('/classes')  # just like cd\n",
    "```"
   ]
  },
  {
   "cell_type": "code",
   "execution_count": 6,
   "id": "ed395b6c-7f29-40b8-aaeb-38b13f3aa37e",
   "metadata": {
    "editable": true,
    "slideshow": {
     "slide_type": "fragment"
    },
    "tags": []
   },
   "outputs": [],
   "source": [
    "moose.ce('/classes')  # just like cd"
   ]
  },
  {
   "cell_type": "code",
   "execution_count": 7,
   "id": "0b87c67d-e8ec-49af-8137-156f97b9f9b1",
   "metadata": {
    "editable": true,
    "slideshow": {
     "slide_type": "fragment"
    },
    "tags": []
   },
   "outputs": [
    {
     "name": "stdout",
     "output_type": "stream",
     "text": [
      "/classes[0]\n"
     ]
    }
   ],
   "source": [
    "moose.pwe()"
   ]
  },
  {
   "cell_type": "markdown",
   "id": "4c74434d-985f-4b66-b72e-1241130e0c18",
   "metadata": {
    "editable": true,
    "slideshow": {
     "slide_type": "slide"
    },
    "tags": []
   },
   "source": [
    "# `Neutral` is the base class for all MOOSE classes \n",
    "## (like `object` in Python)\n",
    "\n",
    "```python\n",
    "container = moose.Neutral('/my_container')\n",
    "```"
   ]
  },
  {
   "cell_type": "code",
   "execution_count": 8,
   "id": "0330dff7-6792-4ca9-b646-397745b61ba3",
   "metadata": {
    "editable": true,
    "slideshow": {
     "slide_type": "fragment"
    },
    "tags": []
   },
   "outputs": [],
   "source": [
    "container = moose.Neutral('/my_container')"
   ]
  },
  {
   "cell_type": "markdown",
   "id": "a333173a-a8a9-42d3-8b54-75a6863da130",
   "metadata": {
    "editable": true,
    "slideshow": {
     "slide_type": "slide"
    },
    "tags": []
   },
   "source": [
    "# Object paths\n",
    "Every object has a `path` attribute\n",
    "\n",
    "```python\n",
    "print(container.path)\n",
    "```"
   ]
  },
  {
   "cell_type": "code",
   "execution_count": 9,
   "id": "e71d9763-565f-4e54-95f1-ee286fbf7612",
   "metadata": {
    "editable": true,
    "slideshow": {
     "slide_type": "fragment"
    },
    "tags": []
   },
   "outputs": [
    {
     "name": "stdout",
     "output_type": "stream",
     "text": [
      "/my_container[0]\n"
     ]
    }
   ],
   "source": [
    "print(container.path)"
   ]
  },
  {
   "cell_type": "markdown",
   "id": "499d6a45-d0d7-4aa0-97a9-289af1e045bd",
   "metadata": {
    "editable": true,
    "slideshow": {
     "slide_type": "fragment"
    },
    "tags": []
   },
   "source": [
    "Just like creating filesystem directories, you can create a moose object with a valid path\n",
    "```python\n",
    "data = moose.Neutral('/my_container/data')\n",
    "print(data)\n",
    "```"
   ]
  },
  {
   "cell_type": "code",
   "execution_count": 10,
   "id": "21e8f2da-e3a8-4a11-86e8-8df01866c3ac",
   "metadata": {
    "editable": true,
    "slideshow": {
     "slide_type": "fragment"
    },
    "tags": []
   },
   "outputs": [],
   "source": [
    "data = moose.Neutral('/my_container/data')"
   ]
  },
  {
   "cell_type": "code",
   "execution_count": 11,
   "id": "5a43ab54-63f7-4752-b60c-ba342e58c492",
   "metadata": {
    "editable": true,
    "slideshow": {
     "slide_type": "fragment"
    },
    "tags": []
   },
   "outputs": [
    {
     "name": "stdout",
     "output_type": "stream",
     "text": [
      "<moose.Neutral id=487 dataIndex=0 path=/my_container[0]/data[0]>\n"
     ]
    }
   ],
   "source": [
    "print(data)"
   ]
  },
  {
   "cell_type": "markdown",
   "id": "15ab7b50-2184-459f-93e9-6f5727a34fa3",
   "metadata": {
    "editable": true,
    "slideshow": {
     "slide_type": "slide"
    },
    "tags": []
   },
   "source": [
    "# You can `ce` using moose objects as well string paths\n",
    "```python\n",
    "moose.pwe()\n",
    "moose.ce(data)\n",
    "moose.pwe()\n",
    "```"
   ]
  },
  {
   "cell_type": "code",
   "execution_count": 12,
   "id": "7d45fa16-0013-4386-bf6e-ec26065b611f",
   "metadata": {
    "editable": true,
    "slideshow": {
     "slide_type": "fragment"
    },
    "tags": []
   },
   "outputs": [
    {
     "name": "stdout",
     "output_type": "stream",
     "text": [
      "/classes[0]\n"
     ]
    }
   ],
   "source": [
    "moose.pwe()"
   ]
  },
  {
   "cell_type": "code",
   "execution_count": 13,
   "id": "bb4ca4d1-3f89-479b-8d82-3be9b0391912",
   "metadata": {
    "editable": true,
    "slideshow": {
     "slide_type": "fragment"
    },
    "tags": []
   },
   "outputs": [],
   "source": [
    "moose.ce(data)"
   ]
  },
  {
   "cell_type": "code",
   "execution_count": 14,
   "id": "20ee783b-1c40-4834-b031-4877a15324f9",
   "metadata": {
    "editable": true,
    "slideshow": {
     "slide_type": "fragment"
    },
    "tags": []
   },
   "outputs": [
    {
     "name": "stdout",
     "output_type": "stream",
     "text": [
      "/my_container[0]/data[0]\n"
     ]
    }
   ],
   "source": [
    "moose.pwe()"
   ]
  },
  {
   "cell_type": "markdown",
   "id": "8431ce53-68a9-4a7f-82d6-d4695fb4b288",
   "metadata": {
    "editable": true,
    "slideshow": {
     "slide_type": "slide"
    },
    "tags": []
   },
   "source": [
    "#  Every moose element is potentially an array\n",
    "```python\n",
    "print(data.path)\n",
    "```"
   ]
  },
  {
   "cell_type": "code",
   "execution_count": 15,
   "id": "cd2b23c2-0311-4bca-a498-6cedea69f28c",
   "metadata": {
    "editable": true,
    "slideshow": {
     "slide_type": "subslide"
    },
    "tags": []
   },
   "outputs": [
    {
     "name": "stdout",
     "output_type": "stream",
     "text": [
      "/my_container[0]/data[0]\n"
     ]
    }
   ],
   "source": [
    "print(data.path)"
   ]
  },
  {
   "cell_type": "markdown",
   "id": "7f3231c4-bf21-4553-bceb-ce004e808a10",
   "metadata": {
    "editable": true,
    "slideshow": {
     "slide_type": "fragment"
    },
    "tags": []
   },
   "source": [
    "Notice the array-like indexing in the path?"
   ]
  },
  {
   "cell_type": "markdown",
   "id": "9be33092-1ec5-41f4-bbe5-eac17a7937ac",
   "metadata": {
    "editable": true,
    "slideshow": {
     "slide_type": "subslide"
    },
    "tags": []
   },
   "source": [
    "You can create array objects by passing a positive integer for the `ndata` parameter\n",
    "\n",
    "```python\n",
    "model = moose.Neutral(f'{container.path}/model', n=10)\n",
    "print(model)\n",
    "```"
   ]
  },
  {
   "cell_type": "code",
   "execution_count": 16,
   "id": "b22e5de2-c7ba-4c02-893f-7bd0d79cbe79",
   "metadata": {
    "editable": true,
    "slideshow": {
     "slide_type": "fragment"
    },
    "tags": []
   },
   "outputs": [],
   "source": [
    "model = moose.Neutral(f'{container.path}/model', n=10)"
   ]
  },
  {
   "cell_type": "code",
   "execution_count": 17,
   "id": "98b98388-d73c-46bf-b086-6ffb985499ab",
   "metadata": {
    "editable": true,
    "slideshow": {
     "slide_type": "fragment"
    },
    "tags": []
   },
   "outputs": [
    {
     "name": "stdout",
     "output_type": "stream",
     "text": [
      "<moose.Neutral id=488 dataIndex=0 path=/my_container[0]/model[0]>\n"
     ]
    }
   ],
   "source": [
    "print(model)"
   ]
  },
  {
   "cell_type": "markdown",
   "id": "9760ff83-6240-4898-8faf-eb41abffaed3",
   "metadata": {
    "editable": true,
    "slideshow": {
     "slide_type": "fragment"
    },
    "tags": []
   },
   "source": [
    "Every moose object stores the number of elements in `numData` field\n",
    "\n",
    "```python\n",
    "print(model.numData)\n",
    "```"
   ]
  },
  {
   "cell_type": "code",
   "execution_count": 18,
   "id": "cb738cf8-5ba6-4d04-9be2-dd960738a318",
   "metadata": {
    "editable": true,
    "slideshow": {
     "slide_type": "fragment"
    },
    "tags": []
   },
   "outputs": [
    {
     "name": "stdout",
     "output_type": "stream",
     "text": [
      "10\n"
     ]
    }
   ],
   "source": [
    "print(model.numData)"
   ]
  },
  {
   "cell_type": "markdown",
   "id": "9e96f29c-26e0-452e-8fbf-26f4f24faa58",
   "metadata": {
    "editable": true,
    "slideshow": {
     "slide_type": "subslide"
    },
    "tags": []
   },
   "source": [
    "## You can access the elements by indexing a moose object's `vec` attribute\n",
    "```python\n",
    "print(model.vec[1])\n",
    "```"
   ]
  },
  {
   "cell_type": "code",
   "execution_count": 19,
   "id": "4119b97a-5235-4f98-9d19-55e395e32b21",
   "metadata": {
    "editable": true,
    "slideshow": {
     "slide_type": "fragment"
    },
    "tags": []
   },
   "outputs": [
    {
     "name": "stdout",
     "output_type": "stream",
     "text": [
      "<moose.Neutral id=488 dataIndex=1 path=/my_container[0]/model[1]>\n"
     ]
    }
   ],
   "source": [
    "print(model.vec[1])"
   ]
  },
  {
   "cell_type": "markdown",
   "id": "3ab9e2ea-d13e-4bde-834d-734ec69aeaf6",
   "metadata": {
    "editable": true,
    "slideshow": {
     "slide_type": "fragment"
    },
    "tags": []
   },
   "source": [
    "`dataIndex` field stores the index of the element\n",
    "```python\n",
    "print(model.vec[2].dataIndex)\n",
    "```"
   ]
  },
  {
   "cell_type": "code",
   "execution_count": 20,
   "id": "70509b58-3b27-4fdc-a38d-382ab200fbc0",
   "metadata": {
    "editable": true,
    "slideshow": {
     "slide_type": "fragment"
    },
    "tags": []
   },
   "outputs": [
    {
     "name": "stdout",
     "output_type": "stream",
     "text": [
      "2\n"
     ]
    }
   ],
   "source": [
    "print(model.vec[2].dataIndex)"
   ]
  },
  {
   "cell_type": "markdown",
   "id": "f73b009e-a9ad-42eb-bbaa-3bebb2848ce8",
   "metadata": {
    "editable": true,
    "slideshow": {
     "slide_type": "subslide"
    },
    "tags": []
   },
   "source": [
    "## The path includes the index of the element\n",
    "```python\n",
    "print(model.path)\n",
    "print(model.vec[2].path)\n",
    "```"
   ]
  },
  {
   "cell_type": "code",
   "execution_count": 21,
   "id": "4fba4f49-80b7-499e-9238-59811408eafd",
   "metadata": {
    "editable": true,
    "slideshow": {
     "slide_type": "fragment"
    },
    "tags": []
   },
   "outputs": [
    {
     "name": "stdout",
     "output_type": "stream",
     "text": [
      "/my_container[0]/model[0]\n"
     ]
    }
   ],
   "source": [
    "print(model.path)"
   ]
  },
  {
   "cell_type": "code",
   "execution_count": 22,
   "id": "9e4b7839-191b-4a21-95b8-f575876eeb84",
   "metadata": {
    "editable": true,
    "slideshow": {
     "slide_type": "fragment"
    },
    "tags": []
   },
   "outputs": [
    {
     "name": "stdout",
     "output_type": "stream",
     "text": [
      "/my_container[0]/model[2]\n"
     ]
    }
   ],
   "source": [
    "print(model.vec[2].path)"
   ]
  },
  {
   "cell_type": "markdown",
   "id": "d0f7d5cd-0386-4223-8337-a6bcd66ecd59",
   "metadata": {
    "editable": true,
    "slideshow": {
     "slide_type": "subslide"
    },
    "tags": []
   },
   "source": [
    "# To get the path without index use `{element}.id.path`"
   ]
  },
  {
   "cell_type": "code",
   "execution_count": 23,
   "id": "1544f3b1-f965-4e91-90b7-614e7fb2dddc",
   "metadata": {
    "editable": true,
    "slideshow": {
     "slide_type": "fragment"
    },
    "tags": []
   },
   "outputs": [],
   "source": [
    "comp = moose.Compartment(f'{model.id.path}[1]/comp')"
   ]
  },
  {
   "cell_type": "code",
   "execution_count": 24,
   "id": "dc98447e-8516-482a-b613-695580595a14",
   "metadata": {
    "editable": true,
    "slideshow": {
     "slide_type": "fragment"
    },
    "tags": []
   },
   "outputs": [
    {
     "name": "stdout",
     "output_type": "stream",
     "text": [
      "/my_container[0]/model[1]/comp[0]\n",
      "/my_container[0]/model[1]/comp\n"
     ]
    }
   ],
   "source": [
    "print(comp.path)\n",
    "print(comp.id.path)"
   ]
  },
  {
   "cell_type": "markdown",
   "id": "e4777a07-ab85-48a3-a672-fef26bb9fdb3",
   "metadata": {
    "editable": true,
    "slideshow": {
     "slide_type": "slide"
    },
    "tags": []
   },
   "source": [
    "# Referencing existing objects\n",
    "Use the `moose.element(path)` function to get an existing object from a path string\n",
    "```python\n",
    "same_comp = moose.element('/my_container[0]/model[1]/comp')\n",
    "print('Before:', comp.Vm)\n",
    "same_comp.Vm = 0.0\n",
    "print('After:', comp.Vm)\n",
    "```"
   ]
  },
  {
   "cell_type": "code",
   "execution_count": 25,
   "id": "552211b3-37b6-4b7c-a598-cff752245aad",
   "metadata": {
    "editable": true,
    "slideshow": {
     "slide_type": "fragment"
    },
    "tags": []
   },
   "outputs": [],
   "source": [
    "same_comp = moose.element('/my_container[0]/model[1]/comp')"
   ]
  },
  {
   "cell_type": "code",
   "execution_count": 26,
   "id": "88cd9374-4a5c-4219-bfd0-a529b0d4a869",
   "metadata": {
    "editable": true,
    "slideshow": {
     "slide_type": "fragment"
    },
    "tags": []
   },
   "outputs": [
    {
     "name": "stdout",
     "output_type": "stream",
     "text": [
      "Before: -0.06\n",
      "After: 0.0\n"
     ]
    }
   ],
   "source": [
    "print('Before:', comp.Vm)\n",
    "same_comp.Vm = 0.0\n",
    "print('After:', comp.Vm)"
   ]
  },
  {
   "cell_type": "markdown",
   "id": "cc80eb23-ffb8-4cbe-aa54-b84f4ad18d26",
   "metadata": {
    "editable": true,
    "slideshow": {
     "slide_type": "slide"
    },
    "tags": []
   },
   "source": [
    "# Copying objects\n",
    "### Use `moose.copy(source_object, target_object)` to make a copy of an existing object. This is a deep copy."
   ]
  },
  {
   "cell_type": "code",
   "execution_count": 27,
   "id": "e31c847d-8ed4-4116-a079-c04646926561",
   "metadata": {
    "editable": true,
    "slideshow": {
     "slide_type": "fragment"
    },
    "tags": []
   },
   "outputs": [
    {
     "name": "stdout",
     "output_type": "stream",
     "text": [
      "Elements under /my_container[0]/model[7]\n",
      "    /my_container[0]/model[7]/comp\n",
      "\n"
     ]
    }
   ],
   "source": [
    "copy_comp = moose.copy(comp, model.vec[7])\n",
    "moose.le(model.vec[7])"
   ]
  },
  {
   "cell_type": "code",
   "execution_count": 28,
   "id": "dd034464-29c1-4a46-bc54-a84e85721c4e",
   "metadata": {
    "editable": true,
    "slideshow": {
     "slide_type": "fragment"
    },
    "tags": []
   },
   "outputs": [
    {
     "name": "stdout",
     "output_type": "stream",
     "text": [
      "Before: Original 0.0 Copied [0.]\n",
      "After: Original 0.0 Copied [100.]\n"
     ]
    }
   ],
   "source": [
    "print('Before: Original', comp.Vm, 'Copied', copy_comp.Vm)\n",
    "copy_comp.Vm = 100.0\n",
    "print('After: Original', comp.Vm, 'Copied', copy_comp.Vm)\n"
   ]
  },
  {
   "cell_type": "markdown",
   "id": "c93a2fc5-9c2d-44cb-b4a5-6a34de192f39",
   "metadata": {
    "editable": true,
    "slideshow": {
     "slide_type": "subslide"
    },
    "tags": []
   },
   "source": [
    "## To give the copied object a different name:\n",
    "`moose.copy(source_object, target_object, name=new_name)` \n"
   ]
  },
  {
   "cell_type": "code",
   "execution_count": 29,
   "id": "c82e367a-25f7-46af-80e1-7eccd9f358b2",
   "metadata": {
    "editable": true,
    "slideshow": {
     "slide_type": "fragment"
    },
    "tags": []
   },
   "outputs": [
    {
     "name": "stdout",
     "output_type": "stream",
     "text": [
      "Elements under /my_container[0]/model[7]\n",
      "    /my_container[0]/model[7]/comp\n",
      "    /my_container[0]/model[7]/mycomp\n",
      "\n"
     ]
    }
   ],
   "source": [
    "copy_comp = moose.copy(comp, model.vec[7], 'mycomp')\n",
    "moose.le(model.vec[7])"
   ]
  },
  {
   "cell_type": "markdown",
   "id": "3ab54f87-a8ef-4068-bf7e-2c2535b1c8de",
   "metadata": {
    "editable": true,
    "slideshow": {
     "slide_type": "slide"
    },
    "tags": []
   },
   "source": [
    "# Setting attributes\n",
    "The attributes available for each moose class are fixed. Unlike usual Python objects, assigning a new attribute is not allowed.\n",
    "\n",
    "```python\n",
    "a = moose.Compartment('c')\n",
    "a.X = 10\n",
    "```"
   ]
  },
  {
   "cell_type": "code",
   "execution_count": 30,
   "id": "ce3e9d53-a8bc-449d-b7cc-0fe41cf86d03",
   "metadata": {
    "editable": true,
    "slideshow": {
     "slide_type": "fragment"
    },
    "tags": []
   },
   "outputs": [
    {
     "ename": "AttributeError",
     "evalue": "setFieldGeneric::X is not found on path '/my_container[0]/data[0]/c[0]'.",
     "output_type": "error",
     "traceback": [
      "\u001b[31m---------------------------------------------------------------------------\u001b[39m",
      "\u001b[31mAttributeError\u001b[39m                            Traceback (most recent call last)",
      "\u001b[36mCell\u001b[39m\u001b[36m \u001b[39m\u001b[32mIn[30]\u001b[39m\u001b[32m, line 2\u001b[39m\n\u001b[32m      1\u001b[39m a = moose.Compartment(\u001b[33m'\u001b[39m\u001b[33mc\u001b[39m\u001b[33m'\u001b[39m)\n\u001b[32m----> \u001b[39m\u001b[32m2\u001b[39m \u001b[43ma\u001b[49m\u001b[43m.\u001b[49m\u001b[43mX\u001b[49m = \u001b[32m10\u001b[39m\n",
      "\u001b[31mAttributeError\u001b[39m: setFieldGeneric::X is not found on path '/my_container[0]/data[0]/c[0]'."
     ]
    }
   ],
   "source": [
    "a = moose.Compartment('c')\n",
    "a.X = 10"
   ]
  },
  {
   "cell_type": "markdown",
   "id": "ef4f2c19-938f-44c5-97b9-b1fec7021679",
   "metadata": {
    "editable": true,
    "slideshow": {
     "slide_type": "slide"
    },
    "tags": []
   },
   "source": [
    "# Getting help\n",
    "MOOSE has a special function for accessing builtin documentation\n",
    "```python\n",
    "moose.doc(str)\n",
    "```"
   ]
  },
  {
   "cell_type": "code",
   "execution_count": 31,
   "id": "67044ffb-11d9-42b0-8dcd-2e4e368da294",
   "metadata": {
    "editable": true,
    "slideshow": {
     "slide_type": "fragment"
    },
    "tags": []
   },
   "outputs": [],
   "source": [
    "# moose.doc('Compartment')"
   ]
  },
  {
   "cell_type": "markdown",
   "id": "023218a5-c769-465b-965e-0d4df7d12af9",
   "metadata": {
    "editable": true,
    "slideshow": {
     "slide_type": "subslide"
    },
    "tags": []
   },
   "source": [
    "## You can also check documentation for a specific field."
   ]
  },
  {
   "cell_type": "code",
   "execution_count": 32,
   "id": "96129183-a1ad-42fa-8ca0-c531b19ba4da",
   "metadata": {
    "editable": true,
    "slideshow": {
     "slide_type": "fragment"
    },
    "tags": []
   },
   "outputs": [
    {
     "name": "stdout",
     "output_type": "stream",
     "text": [
      "Ra: double - ValueFinfo\n",
      "Axial resistance of compartment"
     ]
    }
   ],
   "source": [
    "moose.doc('Compartment.Ra')"
   ]
  },
  {
   "cell_type": "markdown",
   "id": "7358e2bf-e842-490c-973f-bff44b565779",
   "metadata": {
    "editable": true,
    "slideshow": {
     "slide_type": "slide"
    },
    "tags": []
   },
   "source": [
    "# Finfos or field-infos / attributes\n",
    "\n",
    "MOOSE objects have subcategories of fields. Those storing a value are called `valueFinfo`. You can get the names of the fields of this type from the `valueFields` attribute."
   ]
  },
  {
   "cell_type": "code",
   "execution_count": 33,
   "id": "947173c5-1846-496d-9d5d-54593d41202f",
   "metadata": {
    "editable": true,
    "slideshow": {
     "slide_type": "fragment"
    },
    "tags": []
   },
   "outputs": [
    {
     "name": "stdout",
     "output_type": "stream",
     "text": [
      "['this', 'name', 'me', 'parent', 'children', 'path', 'className', 'numData', 'numField', 'idValue', 'index', 'fieldIndex', 'tick', 'dt', 'valueFields', 'sourceFields', 'destFields', 'msgOut', 'msgIn', 'vector', 'plotDump', 'outputValue', 'size', 'threshold', 'format', 'columnName', 'datafile', 'outfile', 'useStreamer', 'useSpikeMode']\n"
     ]
    }
   ],
   "source": [
    "tab = moose.Table('mytable')\n",
    "print(tab.valueFields)"
   ]
  },
  {
   "cell_type": "markdown",
   "id": "1fbfb147-825a-42d1-88f0-0812ef432cd1",
   "metadata": {
    "editable": true,
    "slideshow": {
     "slide_type": "slide"
    },
    "tags": []
   },
   "source": [
    "# Connecting objects: `source` and `dest` fields"
   ]
  },
  {
   "cell_type": "markdown",
   "id": "3fbf96f7-cb6b-4121-826d-0bac5055096f",
   "metadata": {
    "editable": true,
    "slideshow": {
     "slide_type": "fragment"
    },
    "tags": []
   },
   "source": [
    "In moose all components talk to each other through messages. \n",
    "\n",
    "To pass these messages you need to set up connections before you start a simulation. This is like setting up a pipeline or wiring.\n",
    "\n",
    "<img src=\"./media/images/moose_overview/messages.png\" style=\"height:400px\"> \n",
    "\n",
    "```python\n",
    "comp = moose.Compartment('compartment')\n",
    "print('Dest fields on comp:', comp.destFields)\n",
    "print('Source fields on tab:', tab.sourceFields)\n",
    "```"
   ]
  },
  {
   "cell_type": "code",
   "execution_count": 34,
   "id": "2b516026-9fe0-4edb-adab-9b53889901ac",
   "metadata": {
    "editable": true,
    "slideshow": {
     "slide_type": "fragment"
    },
    "tags": []
   },
   "outputs": [
    {
     "name": "stdout",
     "output_type": "stream",
     "text": [
      "Dest fields on comp: ['parentMsg', 'setThis', 'getThis', 'setName', 'getName', 'getMe', 'getParent', 'getChildren', 'getPath', 'getClassName', 'setNumData', 'getNumData', 'setNumField', 'getNumField', 'getIdValue', 'getIndex', 'getFieldIndex', 'setTick', 'getTick', 'getDt', 'getValueFields', 'getSourceFields', 'getDestFields', 'getMsgOut', 'getMsgIn', 'getNeighbors', 'getMsgDests', 'getMsgDestFunctions', 'getIsA', 'notifyCreate', 'notifyCopy', 'notifyDestroy', 'notifyMove', 'notifyAddMsgSrc', 'notifyAddMsgDest', 'setVm', 'getVm', 'setCm', 'getCm', 'setEm', 'getEm', 'getIm', 'setInject', 'getInject', 'setInitVm', 'getInitVm', 'setRm', 'getRm', 'setRa', 'getRa', 'setDiameter', 'getDiameter', 'setLength', 'getLength', 'setX0', 'getX0', 'setY0', 'getY0', 'setZ0', 'getZ0', 'setX', 'getX', 'setY', 'getY', 'setZ', 'getZ', 'setCoords', 'getCoords', 'injectMsg', 'randInject', 'injectMsg', 'cable', 'displace', 'setGeomAndElec', 'process', 'reinit', 'initProc', 'initReinit', 'handleChannel', 'handleRaxial', 'handleAxial']\n",
      "Source fields on tab: ['childOut', 'requestOut']\n"
     ]
    }
   ],
   "source": [
    "moose.ce(model)\n",
    "comp = moose.Compartment('compartment')\n",
    "print('Dest fields on comp:', comp.destFields)\n",
    "print('Source fields on tab:', tab.sourceFields)"
   ]
  },
  {
   "cell_type": "markdown",
   "id": "f129c28d-1e55-48ae-b31d-adbbdf4b6fb1",
   "metadata": {
    "editable": true,
    "slideshow": {
     "slide_type": "slide"
    },
    "tags": []
   },
   "source": [
    "# Connecting the `requestOut` field of `tab` to the `getVm` of `comp`\n",
    "```python\n",
    "moose.connect(tab, 'requestOut', comp, 'getVm')\n",
    "```"
   ]
  },
  {
   "cell_type": "code",
   "execution_count": 35,
   "id": "61643bff-2a23-4d19-93e4-94ae9aed6684",
   "metadata": {
    "editable": true,
    "slideshow": {
     "slide_type": "fragment"
    },
    "tags": []
   },
   "outputs": [
    {
     "data": {
      "text/plain": [
       "<moose.SingleMsg id=5 dataIndex=0 path=/Msgs[0]/singleMsg[0]>"
      ]
     },
     "execution_count": 35,
     "metadata": {},
     "output_type": "execute_result"
    }
   ],
   "source": [
    "moose.connect(tab, 'requestOut', comp, 'getVm')"
   ]
  },
  {
   "cell_type": "markdown",
   "id": "5f52a660-15cb-4b2c-9cc5-563de9ee32b9",
   "metadata": {
    "editable": true,
    "slideshow": {
     "slide_type": "fragment"
    },
    "tags": []
   },
   "source": [
    "You can check the existing messages on an object with `moose.showmsg`\n",
    "```python\n",
    "moose.showmsg(tab)\n",
    "```"
   ]
  },
  {
   "cell_type": "code",
   "execution_count": 36,
   "id": "66539408-6764-4d3c-8753-0ecfc5d3eff2",
   "metadata": {
    "editable": true,
    "slideshow": {
     "slide_type": "fragment"
    },
    "tags": []
   },
   "outputs": [
    {
     "name": "stdout",
     "output_type": "stream",
     "text": [
      "INCOMING:\n",
      "  /my_container[0]/data[0]/mytable[0], [parentMsg] <-- /my_container[0]/data[0], [childOut]\n",
      "  /my_container[0]/data[0]/mytable[0], [process,reinit] <-- /clock[0], [process8,reinit8]\n",
      "\n",
      "OUTGOING:\n",
      "  /my_container[0]/data[0]/mytable[0], [requestOut] --> /my_container[0]/model[0]/compartment[0], [getVm]\n",
      "\n"
     ]
    }
   ],
   "source": [
    "moose.showmsg(tab)"
   ]
  },
  {
   "cell_type": "markdown",
   "id": "c5c8ff18-d17b-499f-a07e-2daa874ed4ca",
   "metadata": {
    "editable": true,
    "slideshow": {
     "slide_type": "slide"
    },
    "tags": []
   },
   "source": [
    "# Initializing and running a simulation\n",
    "After creating or loading a model, you have to initialize the system with\n",
    "\n",
    "`moose.reinit()`\n",
    "\n",
    "and then start the simulation with \n",
    "\n",
    "`moose.start(runtime)`\n",
    "\n",
    "```python\n",
    "print('Before simulation', tab.vector)\n",
    "moose.reinit()\n",
    "moose.start(1.0)\n",
    "print('After simulation', tab.vector)\n",
    "```"
   ]
  },
  {
   "cell_type": "code",
   "execution_count": 37,
   "id": "e348de79-d4b7-4a94-977c-34021e663743",
   "metadata": {
    "editable": true,
    "slideshow": {
     "slide_type": "fragment"
    },
    "tags": []
   },
   "outputs": [
    {
     "name": "stdout",
     "output_type": "stream",
     "text": [
      "Before simulation []\n"
     ]
    }
   ],
   "source": [
    "print('Before simulation', tab.vector)"
   ]
  },
  {
   "cell_type": "code",
   "execution_count": 38,
   "id": "aefc1c2e-d20f-4068-8dc3-bec3b8c8eefd",
   "metadata": {
    "editable": true,
    "slideshow": {
     "slide_type": "fragment"
    },
    "tags": []
   },
   "outputs": [],
   "source": [
    "moose.reinit()\n",
    "moose.start(1.0)"
   ]
  },
  {
   "cell_type": "code",
   "execution_count": 39,
   "id": "51979b19-c8f9-40e8-a7fb-82fd03084ac0",
   "metadata": {
    "editable": true,
    "slideshow": {
     "slide_type": "fragment"
    },
    "tags": []
   },
   "outputs": [
    {
     "name": "stdout",
     "output_type": "stream",
     "text": [
      "After simulation [-0.06 -0.06 -0.06 ... -0.06 -0.06 -0.06]\n"
     ]
    }
   ],
   "source": [
    "print('After simulation', tab.vector)"
   ]
  },
  {
   "cell_type": "markdown",
   "id": "0d0a52c4-218b-43f6-b00c-c33431a7ff3f",
   "metadata": {
    "editable": true,
    "slideshow": {
     "slide_type": "slide"
    },
    "tags": []
   },
   "source": [
    "# The simulation timestep\n",
    "Each object has a `dt` field indicating the size of the timestep for its simulation\n",
    "\n",
    "```python\n",
    "print('Compartment dt', comp.dt)\n",
    "print('Table dt', tab.dt)\n",
    "```"
   ]
  },
  {
   "cell_type": "code",
   "execution_count": 40,
   "id": "77d9e9d0-034a-4f2b-9fa0-b1a603aa8537",
   "metadata": {
    "editable": true,
    "slideshow": {
     "slide_type": "fragment"
    },
    "tags": []
   },
   "outputs": [
    {
     "name": "stdout",
     "output_type": "stream",
     "text": [
      "Compartment dt 5e-05\n",
      "Table dt 0.0001\n"
     ]
    }
   ],
   "source": [
    "print('Compartment dt', comp.dt)\n",
    "print('Table dt', tab.dt)"
   ]
  },
  {
   "cell_type": "markdown",
   "id": "931d3593-99c7-4eb2-9384-5f6d5c2e1f08",
   "metadata": {
    "editable": true,
    "slideshow": {
     "slide_type": "slide"
    },
    "tags": []
   },
   "source": [
    "# Wildcards\n",
    "Search for objects under a given elemnt\n",
    "```python\n",
    "found = moose.wildcardFind('/#')\n",
    "for obj in found: \n",
    "    print(obj.path)\n",
    "```"
   ]
  },
  {
   "cell_type": "code",
   "execution_count": 41,
   "id": "511ccd0f-bd75-4559-922a-49a6855c2ef5",
   "metadata": {
    "editable": true,
    "slideshow": {
     "slide_type": "fragment"
    },
    "tags": []
   },
   "outputs": [
    {
     "name": "stdout",
     "output_type": "stream",
     "text": [
      "/clock[0]\n",
      "/classes[0]\n",
      "/postmaster[0]\n",
      "/Msgs[0]\n",
      "/my_container[0]\n"
     ]
    }
   ],
   "source": [
    "found = moose.wildcardFind('/#')\n",
    "for obj in found: \n",
    "    print(obj.path)"
   ]
  },
  {
   "cell_type": "markdown",
   "id": "6f92b533-df6e-490a-857c-f9eb3614d11a",
   "metadata": {
    "editable": true,
    "slideshow": {
     "slide_type": "slide"
    },
    "tags": []
   },
   "source": [
    "```python\n",
    "found = moose.wildcardFind('/my_container/#')\n",
    "for obj in found: \n",
    "    print(obj.path)\n",
    "```"
   ]
  },
  {
   "cell_type": "code",
   "execution_count": 42,
   "id": "7b2e1c11-91f0-49f5-af16-79c0513f74d9",
   "metadata": {
    "editable": true,
    "slideshow": {
     "slide_type": "fragment"
    },
    "tags": []
   },
   "outputs": [
    {
     "name": "stdout",
     "output_type": "stream",
     "text": [
      "/my_container[0]/data[0]\n",
      "/my_container[0]/model[0]\n",
      "/my_container[0]/model[1]\n",
      "/my_container[0]/model[2]\n",
      "/my_container[0]/model[3]\n",
      "/my_container[0]/model[4]\n",
      "/my_container[0]/model[5]\n",
      "/my_container[0]/model[6]\n",
      "/my_container[0]/model[7]\n",
      "/my_container[0]/model[8]\n",
      "/my_container[0]/model[9]\n"
     ]
    }
   ],
   "source": [
    "found = moose.wildcardFind('/my_container/#')\n",
    "for obj in found: \n",
    "    print(obj.path)"
   ]
  },
  {
   "cell_type": "markdown",
   "id": "783545af-f44f-460b-9aa2-68f32a4223fe",
   "metadata": {
    "editable": true,
    "slideshow": {
     "slide_type": "slide"
    },
    "tags": []
   },
   "source": [
    "# Wildcard character\n",
    "- `#` for single level search.\n",
    "- `##` for recursively through all the levels below.\n",
    "```python\n",
    "found = moose.wildcardFind('/my_container/##')\n",
    "for obj in found: \n",
    "    print(obj.path)\n",
    "```    "
   ]
  },
  {
   "cell_type": "code",
   "execution_count": 43,
   "id": "e28a463e-1bb8-4a0e-a57a-5ea5635bd1ca",
   "metadata": {
    "editable": true,
    "slideshow": {
     "slide_type": "fragment"
    },
    "tags": []
   },
   "outputs": [
    {
     "name": "stdout",
     "output_type": "stream",
     "text": [
      "/my_container[0]/data[0]\n",
      "/my_container[0]/model[0]\n",
      "/my_container[0]/model[1]\n",
      "/my_container[0]/model[2]\n",
      "/my_container[0]/model[3]\n",
      "/my_container[0]/model[4]\n",
      "/my_container[0]/model[5]\n",
      "/my_container[0]/model[6]\n",
      "/my_container[0]/model[7]\n",
      "/my_container[0]/model[8]\n",
      "/my_container[0]/model[9]\n",
      "/my_container[0]/model[1]/comp[0]\n",
      "/my_container[0]/model[7]/comp[0]\n",
      "/my_container[0]/model[7]/mycomp[0]\n",
      "/my_container[0]/data[0]/c[0]\n",
      "/my_container[0]/data[0]/mytable[0]\n",
      "/my_container[0]/model[0]/compartment[0]\n"
     ]
    }
   ],
   "source": [
    "found = moose.wildcardFind('/my_container/##')\n",
    "for obj in found: \n",
    "    print(obj.path)"
   ]
  },
  {
   "cell_type": "markdown",
   "id": "2eda4104-b7bc-43cc-905b-dcb2ddebf291",
   "metadata": {
    "editable": true,
    "slideshow": {
     "slide_type": "slide"
    },
    "tags": []
   },
   "source": [
    "# Search by class\n",
    "```python\n",
    "found = moose.wildcardFind('/my_container/##[TYPE=Compartment]')\n",
    "for obj in found: \n",
    "    print(obj.path)\n",
    "```    "
   ]
  },
  {
   "cell_type": "code",
   "execution_count": 44,
   "id": "8fb7398d-d07e-4f20-9028-72c1a713be07",
   "metadata": {
    "editable": true,
    "slideshow": {
     "slide_type": "fragment"
    },
    "tags": []
   },
   "outputs": [
    {
     "name": "stdout",
     "output_type": "stream",
     "text": [
      "path= /my_container[0]/model[1]/comp[0] Vm= -0.06\n",
      "path= /my_container[0]/model[7]/comp[0] Vm= -0.06\n",
      "path= /my_container[0]/model[7]/mycomp[0] Vm= -0.06\n",
      "path= /my_container[0]/data[0]/c[0] Vm= -0.06\n",
      "path= /my_container[0]/model[0]/compartment[0] Vm= -0.06\n"
     ]
    }
   ],
   "source": [
    "found = moose.wildcardFind('/my_container/##[TYPE=Compartment]')\n",
    "for obj in found: \n",
    "    print('path=', obj.path, 'Vm=', obj.Vm)"
   ]
  },
  {
   "cell_type": "markdown",
   "id": "01444570-578f-4be9-9a51-f3ac834ee642",
   "metadata": {
    "editable": true,
    "slideshow": {
     "slide_type": "slide"
    },
    "tags": []
   },
   "source": [
    "# Deleting objects\n",
    "MOOSE objects persist until explicitly deleted. Referencing deleted object can crash Python."
   ]
  },
  {
   "cell_type": "code",
   "execution_count": 45,
   "id": "e3e2e29b-fd2b-438d-b87d-3383cae76944",
   "metadata": {
    "editable": true,
    "slideshow": {
     "slide_type": "fragment"
    },
    "tags": []
   },
   "outputs": [
    {
     "name": "stdout",
     "output_type": "stream",
     "text": [
      "Elements under /my_container[0]/model[0]\n",
      "    /my_container[0]/model[0]/compartment\n",
      "\n",
      "Elements under /my_container[0]/model[0]\n",
      "\n"
     ]
    }
   ],
   "source": [
    "moose.le()\n",
    "moose.delete('compartment')\n",
    "moose.le()"
   ]
  },
  {
   "cell_type": "markdown",
   "id": "926796ec-5253-4e0b-b3ad-3406ec4633ec",
   "metadata": {
    "editable": true,
    "slideshow": {
     "slide_type": "slide"
    },
    "tags": []
   },
   "source": [
    "# Thank you!"
   ]
  }
 ],
 "metadata": {
  "kernelspec": {
   "display_name": "Python 3 (ipykernel)",
   "language": "python",
   "name": "python3"
  },
  "language_info": {
   "codemirror_mode": {
    "name": "ipython",
    "version": 3
   },
   "file_extension": ".py",
   "mimetype": "text/x-python",
   "name": "python",
   "nbconvert_exporter": "python",
   "pygments_lexer": "ipython3",
   "version": "3.13.5"
  }
 },
 "nbformat": 4,
 "nbformat_minor": 5
}
