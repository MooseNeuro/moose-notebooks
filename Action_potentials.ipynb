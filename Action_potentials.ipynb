{
 "cells": [
  {
   "cell_type": "markdown",
   "id": "117b2fd5-339a-46fc-afdb-2db4f953d967",
   "metadata": {},
   "source": [
    "# Action potential: putting Na and K channels together"
   ]
  },
  {
   "cell_type": "markdown",
   "id": "3a63de42-4913-4363-a02d-3a2e402df370",
   "metadata": {},
   "source": [
    "Now that we saw how to model the $Na^{+}$ and $K^{+}$ channels, we can put them together and run current clamp experiments to actually generate action potentials."
   ]
  },
  {
   "cell_type": "code",
   "execution_count": null,
   "id": "0458c44c-ec64-4a16-ad43-94d8c6ac2c51",
   "metadata": {},
   "outputs": [],
   "source": [
    "# Usual imports\n",
    "import sys\n",
    "sys.path.append('/Users/subhasisray/src/moose-core/python')\n",
    "import numpy as np\n",
    "import matplotlib.pyplot as plt\n",
    "\n",
    "import moose\n",
    "\n",
    "\n",
    "# Create containers\n",
    "data = moose.Neutral('/data')\n",
    "model = moose.Neutral('/model')\n",
    "\n",
    "# Create a compartment representing the squid giant axon\n",
    "axon = moose.Compartment('/model/axon')\n",
    "axon.Em = 0    # Hodgkin and Huxley used resting voltage as 0\n",
    "axon.initVm = 0\n",
    "axon.Cm = 1\n",
    "axon.Rm = 1 / 0.3   # G_leak is 0.3 mS/cm^2"
   ]
  },
  {
   "cell_type": "code",
   "execution_count": null,
   "id": "372f37bf-9e3d-48f5-a0f9-87a50ac2d442",
   "metadata": {},
   "outputs": [],
   "source": [
    "# Create K channel and connect it to the compartment\n",
    "kchan = moose.HHChannel(f'{axon.path}/K')\n",
    "moose.connect(kchan, 'channel', axon, 'channel')\n",
    "\n",
    "\n",
    "kchan.Ek = -12.0   # mV with respect to resting Vm\n",
    "# Gbar is maximum conductance. \n",
    "# The voltage dependent conductance value is computed and \n",
    "# stored in the field Gk, which we record in a table below\n",
    "kchan.Gbar = 36.0  # mS/cm^2\n",
    "\n",
    "kchan.Xpower = 4\n",
    "\n",
    "n_gate = moose.HHGate(f'{kchan.path}/gateX')\n",
    "# gate.useInterpolation = True   # use a lookup table for alpha and beta\n",
    "\n",
    "\n",
    "vdivs = 150\n",
    "vmin = -30.0\n",
    "vmax = 120.0\n",
    "\n",
    "n_alpha_params = [0.1, -0.01, -1.0, -10.0, -10.0]\n",
    "n_beta_params = [0.125, 0, 0, 0, 80.0]\n",
    "# Note that `+` operator with lists as operands concatenates them\n",
    "n_params = n_alpha_params + n_beta_params + [vdivs, vmin, vmax]\n",
    "n_gate.setupAlpha(n_params)"
   ]
  },
  {
   "cell_type": "code",
   "execution_count": null,
   "id": "29af6258-50db-480b-a3b1-f29d90215004",
   "metadata": {},
   "outputs": [],
   "source": [
    "# Create Na channel and connect it to the compartment\n",
    "nachan = moose.HHChannel(f'{axon.path}/Na')\n",
    "moose.connect(nachan, 'channel', axon, 'channel')\n",
    "nachan.Ek = 115.0   # mV with respect to resting Vm\n",
    "# Gbar is maximum conductance. \n",
    "# The voltage dependent conductance value is computed and \n",
    "# stored in the field Gk, which we record in a table below\n",
    "nachan.Gbar = 120.0  # mS/cm^2\n",
    "\n",
    "nachan.Xpower = 3\n",
    "nachan.Ypower = 1\n",
    "\n",
    "\n",
    "m_gate = moose.HHGate(f'{nachan.path}/gateX')\n",
    "m_alpha_params = [2.5, -0.1, -1.0, -25.0, -10.0]\n",
    "m_beta_params = [4, 0, 0, 0, 18.0]\n",
    "# Note that `+` operator with lists as operands concatenates them\n",
    "m_params = m_alpha_params + m_beta_params + [vdivs, vmin, vmax]\n",
    "m_gate.setupAlpha(m_params)\n",
    "\n",
    "h_gate = moose.HHGate(f'{nachan.path}/gateY')\n",
    "h_alpha_params = [0.07, 0, 0, 0, 20.0]\n",
    "h_beta_params = [1, 0, 1, -30, -10.0]\n",
    "# Note that `+` operator with lists as operands concatenates them\n",
    "h_params = h_alpha_params + h_beta_params + [vdivs, vmin, vmax]\n",
    "h_gate.setupAlpha(h_params)"
   ]
  },
  {
   "cell_type": "code",
   "execution_count": null,
   "id": "7a3fac26-ff4e-42c9-9e5d-34745c2ebb18",
   "metadata": {},
   "outputs": [],
   "source": [
    "gNa_tab = moose.Table(f'{data.path}/gNa')\n",
    "moose.connect(gNa_tab, 'requestOut', nachan, 'getGk')\n",
    "gK_tab = moose.Table(f'{data.path}/gK')\n",
    "moose.connect(gK_tab, 'requestOut', kchan, 'getGk')\n",
    "vm_tab = moose.Table(f'{data.path}/Vm')\n",
    "moose.connect(vm_tab, 'requestOut', axon, 'getVm')"
   ]
  },
  {
   "cell_type": "code",
   "execution_count": null,
   "id": "eb95a071-df08-421c-9171-18c3a6e862b3",
   "metadata": {},
   "outputs": [],
   "source": [
    "pulse = moose.PulseGen('/model/pulse')\n",
    "moose.connect(pulse, 'output', axon, 'injectMsg')"
   ]
  },
  {
   "cell_type": "code",
   "execution_count": null,
   "id": "72bffa57-3cf0-4503-a5d8-9a1704d76b1f",
   "metadata": {},
   "outputs": [],
   "source": [
    "simdt = 1e-5   # simulation timestep\n",
    "plotdt = 1e-3  # data collection timestep\n",
    "\n",
    "moose.setClock(0, simdt)\n",
    "moose.setClock(1, simdt)\n",
    "moose.setClock(2, simdt)\n",
    "moose.setClock(3, plotdt)\n",
    "\n",
    "# moose uses `#` character as a wildcard. \n",
    "# \"/model/#\" gets all objects that are children of `/model`.\n",
    "# \"/model/#[TYPE=Compartment]\" gets all `Compartment` instances that are children of `/model`.\n",
    "# \"/model/##\" gets all objects that are descendants (children, grand children, ...) of `/model`.\n",
    "\n",
    "moose.useClock(0, f'{model.path}/#[TYPE=Compartment]', 'init')\n",
    "moose.useClock(1, f'{pulse.path}', 'process')\n",
    "moose.useClock(1, f'{model.path}/#[TYPE=Compartment]', 'process')\n",
    "moose.useClock(2, f'{axon.path}/#[TYPE=HHChannel]', 'process')\n",
    "moose.useClock(3, f'{data.path}/#[TYPE=Table]', 'process')\n"
   ]
  },
  {
   "cell_type": "code",
   "execution_count": null,
   "id": "512ecfe0-9b29-42fb-9d9b-2a8d0a9e8bd9",
   "metadata": {},
   "outputs": [],
   "source": [
    "# Modify this to see effect of different current amplitudes\n",
    "pulse.delay[0] = 10.0\n",
    "pulse.level[0] = 100\n",
    "pulse.width[0] = 90\n",
    "pulse.baseLevel = 0"
   ]
  },
  {
   "cell_type": "code",
   "execution_count": null,
   "id": "ac50f81e-febe-4cd0-8519-ba1a65d47698",
   "metadata": {},
   "outputs": [],
   "source": [
    "runtime = 100\n",
    "# `reinit` initialize the simulation \n",
    "moose.reinit()\n",
    "# run the simulation for `runtime` duration\n",
    "moose.start(runtime)\n",
    "\n",
    "# Plot the voltage\n",
    "plt.plot(np.arange(len(vm_tab.vector)) * vm_tab.dt, vm_tab.vector)"
   ]
  },
  {
   "cell_type": "code",
   "execution_count": null,
   "id": "5445d95d-1a0f-4930-8098-c0e63ddcacfc",
   "metadata": {},
   "outputs": [],
   "source": []
  },
  {
   "cell_type": "code",
   "execution_count": null,
   "id": "ede8a556-fadc-48af-8b6d-43b8070e06fa",
   "metadata": {},
   "outputs": [],
   "source": []
  }
 ],
 "metadata": {
  "kernelspec": {
   "display_name": "Python 3 (ipykernel)",
   "language": "python",
   "name": "python3"
  },
  "language_info": {
   "codemirror_mode": {
    "name": "ipython",
    "version": 3
   },
   "file_extension": ".py",
   "mimetype": "text/x-python",
   "name": "python",
   "nbconvert_exporter": "python",
   "pygments_lexer": "ipython3",
   "version": "3.12.1"
  }
 },
 "nbformat": 4,
 "nbformat_minor": 5
}
