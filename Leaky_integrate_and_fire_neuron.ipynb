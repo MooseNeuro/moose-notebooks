{
 "cells": [
  {
   "cell_type": "markdown",
   "id": "512231e1-0bfb-4e11-8fa9-d3339f8fbb61",
   "metadata": {},
   "source": [
    "# Neural network with integrate and fire neurons"
   ]
  },
  {
   "cell_type": "markdown",
   "id": "aa6b91d7-e8e9-4bce-99a0-d32a9f4ba42e",
   "metadata": {},
   "source": [
    "[![Open In Colab](./colab-badge.png)](https://colab.research.google.com/github/subhacom/moose-notebooks/blob/main/Leaky_integrate_and_fire_neuron.ipynb) "
   ]
  },
  {
   "cell_type": "markdown",
   "id": "b48eae9f-7a3a-4f4b-be74-ed7b84cbfe30",
   "metadata": {},
   "source": [
    "If you are using `colab`, in a fresh runtime you need to run pip to install pymoose there. On the other hand, if you are running jupyter locally and have pymoose installed in that environment, skip the line below."
   ]
  },
  {
   "cell_type": "code",
   "execution_count": null,
   "id": "495a8387-6617-4ddc-a1f2-a90ae1be2d9a",
   "metadata": {},
   "outputs": [],
   "source": [
    "# Only required on colab!\n",
    "!pip install pymoose --quiet"
   ]
  },
  {
   "cell_type": "markdown",
   "id": "c4d5a1b5-90d7-4700-bf8f-473214796337",
   "metadata": {},
   "source": [
    "We have already seen Hodgkin-Huxley's model of spiking in the squid giant axon. This is a rather complex model. Researchers often simplify the spiking neuron as an [integrate and fire](https://neuronaldynamics.epfl.ch/online/Ch1.S3.html) (IF) neuron.\n",
    "\n",
    "In the exercise 3 in the [Synapses](./Synapses.ipynb) notebook you may have noticed that when two spikes arrive at the synapse close together in time, their effects add up. When spikes arrive simultaneously at multiple synapses, their effect also add up similarly. When the EPSP goes above the threshold for spiking, the neuron generates a spike. To mimic this, we can have a neuron model which adds up its input, and fires an action potential whenever the voltage goes above threshold. A simple version of this abstraction was developed by [Warren McCulloch](https://en.wikipedia.org/wiki/Warren_Sturgis_McCulloch) and [Walter Pitts](https://en.wikipedia.org/wiki/Walter_Pitts), called [perceptron](https://en.wikipedia.org/wiki/Perceptron) or McCulloch-Pitts neuron, forms the foundation of Artificial Neural Networks (ANN).\n",
    "\n",
    "The integrate and fire model tries to to mimic the biophysics of the neuron in more detail. It implements this by adding the inputs to the present membrane voltage which keeps decaying with a time constant (RC circuit). When the voltage crosses the threshold, the neuron generates a spike and its voltage is reset to a small value. Also, neurons need some minimum time to recover after a spike, which is called refractory period. Once an IF neuron spikes, it cannot fire another spike within this time. There are many variations of the integrate and fire model, and in what we describe above, the decay represents leakage of the current through the RC circuit, and hence it is called Leaky Integrate and Fire (LIF) model. In moose this is implemented by the class `IntFire`.\n",
    "\n",
    "The LIF model can be described mathematically as\n",
    "\n",
    "$C_{m} \\frac{dV_{m}(t)}{dt} = I(t) - \\frac{V_{m}(t)}{R_{m}}$\n",
    "\n",
    "or $\\frac{dV_{m}(t)}{dt} = \\frac{I(t)}{C_{m}} - \\frac{V_{m}(t)}{R_{m} C_{m}}$\n",
    "\n",
    "or $\\frac{dV_{m}(t)}{dt} = activation - \\frac{V_{m}(t)}{\\tau_{m}}$\n",
    "\n",
    "where $activation$ is $\\frac{I(t)}{C_{m}}$, a value proportional to the total input synaptic current, and $\\tau_{m} = R_{m} C_{m}$.\n",
    "\n",
    "Additionally, the firing time is\n",
    "\n",
    "$t^{(f)}: V_{m}(t) = threshold$ \n",
    "\n",
    "if $t - t^{(f)}_{last}> t_{r}$ where $t_{r}$ is the refractory period and $t^{(f)}_{last}$ is the time of last firing.\n",
    "\n",
    "And right after the firing event, the voltage is reset to a fixed value:\n",
    "\n",
    "$\\lim_{\\delta \\to 0+} V_{m}(t^{(f)} + \\delta) = V_{reset}$\n",
    "\n"
   ]
  },
  {
   "cell_type": "markdown",
   "id": "4c569993-5282-4c36-bdc4-4d2b8401e666",
   "metadata": {},
   "source": [
    "## We shall implement a network of LIF neurons in MOOSE step by step below"
   ]
  },
  {
   "cell_type": "code",
   "execution_count": 1,
   "id": "0be46298-7b5e-4bb0-b3b3-0ba6c6552d26",
   "metadata": {},
   "outputs": [],
   "source": [
    "# imports\n",
    "\n",
    "import numpy as np\n",
    "import matplotlib.pyplot as plt\n",
    "\n",
    "import moose\n"
   ]
  },
  {
   "cell_type": "code",
   "execution_count": 2,
   "id": "72b2460f-eddd-483b-8fa3-f1820d418026",
   "metadata": {},
   "outputs": [],
   "source": [
    "# containers\n",
    "if moose.exists('/sim'):\n",
    "    moose.delete('/sim')\n",
    "    \n",
    "sim = moose.Neutral('/sim')\n",
    "model = moose.Neutral(f'{sim.path}/model')\n",
    "data = moose.Neutral(f'{sim.path}/data')"
   ]
  },
  {
   "cell_type": "markdown",
   "id": "8fd9e493-20e8-4c15-b331-0f41afc68068",
   "metadata": {},
   "source": [
    "## Creating a single integrate and fire neuron with random input"
   ]
  },
  {
   "cell_type": "markdown",
   "id": "e05909d0-ce50-424e-995f-e59f8ea307a0",
   "metadata": {},
   "source": [
    "The `LIF` class in MOOSE implements a simple leaky integrate and fire neuron. Like `Compartment`, it has a `Vm` field which is an abstraction of the membrane voltage of a real neuron. Below we create a single IF neuron called `neuronA` and attach a table `vmA` to record its `Vm`."
   ]
  },
  {
   "cell_type": "code",
   "execution_count": 3,
   "id": "20159d9f-dd60-488c-9525-f48d57825cc2",
   "metadata": {},
   "outputs": [],
   "source": [
    "# Create a simple integrate and fire neuron\n",
    "neuronA = moose.LIF(f'{model.path}/neuronA')"
   ]
  },
  {
   "cell_type": "code",
   "execution_count": 4,
   "id": "e712dd7a-bdc4-4464-96b9-5a8ebd2b33d2",
   "metadata": {},
   "outputs": [
    {
     "data": {
      "text/plain": [
       "<moose.SingleMsg id=5 dataIndex=0 path=/Msgs[0]/singleMsg[0]>"
      ]
     },
     "execution_count": 4,
     "metadata": {},
     "output_type": "execute_result"
    }
   ],
   "source": [
    "vmA = moose.Table(f'{data.path}/VmA')\n",
    "moose.connect(vmA, 'requestOut', neuronA, 'getVm')"
   ]
  },
  {
   "cell_type": "markdown",
   "id": "2f95137f-a352-465e-be00-38e2aa48f04b",
   "metadata": {},
   "source": [
    "Next, we create a `SimpleSynHandler` object to handle incoming spikes and pass the activation to the IG neuron."
   ]
  },
  {
   "cell_type": "code",
   "execution_count": 5,
   "id": "5ea7caab-fdee-4c02-813b-64a2060193c3",
   "metadata": {},
   "outputs": [],
   "source": [
    "# Handler for synaptic input\n",
    "synh = moose.SimpleSynHandler(f'{neuronA.path}/synh')\n",
    "synh.synapse.num = 1   # for a starter have just one synapse"
   ]
  },
  {
   "cell_type": "code",
   "execution_count": 6,
   "id": "4a87bfe2-c2c4-4256-95a3-d367fedc5089",
   "metadata": {},
   "outputs": [
    {
     "data": {
      "text/plain": [
       "<moose.SingleMsg id=5 dataIndex=1 path=/Msgs[0]/singleMsg[1]>"
      ]
     },
     "execution_count": 6,
     "metadata": {},
     "output_type": "execute_result"
    }
   ],
   "source": [
    "# Connect the activation output of the SynHandler to the activation input of the IntFire neuron\n",
    "moose.connect(synh, 'activationOut', neuronA, 'activation')"
   ]
  },
  {
   "cell_type": "markdown",
   "id": "eccde091-b3dd-4148-a2ac-b44a44c34d45",
   "metadata": {},
   "source": [
    "### Add a random spike input to the synapse"
   ]
  },
  {
   "cell_type": "markdown",
   "id": "8ab5d988-6561-49c6-bfb5-1f5fc6f2590b",
   "metadata": {},
   "source": [
    "For generating spikes, we shall use a random spike generator (`RandSpike`) in this test. A `RandSpike` generates spikes at random times at a specified rate. Thus, the probability of a spike in $dt$ time interval is $rate * dt$. This also has a refractory period, `refractT`, and after generating a spike it will not produce a second spike with that time, irrespective of $rate$ and $dt$."
   ]
  },
  {
   "cell_type": "code",
   "execution_count": 7,
   "id": "afc944ba-6c6e-49c0-82d2-52b0fbc6f572",
   "metadata": {},
   "outputs": [
    {
     "data": {
      "text/plain": [
       "<moose.SingleMsg id=5 dataIndex=2 path=/Msgs[0]/singleMsg[2]>"
      ]
     },
     "execution_count": 7,
     "metadata": {},
     "output_type": "execute_result"
    }
   ],
   "source": [
    "# Create and connect a spike generator to deliver spike events to the `SynChan`\n",
    "spikegen = moose.RandSpike(f'{model.path}/spike')\n",
    "moose.connect(spikegen, 'spikeOut', synh.synapse[0], 'addSpike')"
   ]
  },
  {
   "cell_type": "markdown",
   "id": "974008db-93e5-4d83-80ee-73662f8b4ccb",
   "metadata": {},
   "source": [
    "### Setup recording of the spike times of the random spike generator\n",
    "To relate the input and output, we can use a `Table` to record the spike times from the `RandSpike`. The latter sends out a message `spikeOut` with spike time upon each spike event. These discontinuous outputs can be caputured in the `input` field of the `Table."
   ]
  },
  {
   "cell_type": "code",
   "execution_count": 8,
   "id": "d5c19dae-22fb-4cbe-b370-84b2bb6135ee",
   "metadata": {},
   "outputs": [
    {
     "data": {
      "text/plain": [
       "<moose.SingleMsg id=5 dataIndex=3 path=/Msgs[0]/singleMsg[3]>"
      ]
     },
     "execution_count": 8,
     "metadata": {},
     "output_type": "execute_result"
    }
   ],
   "source": [
    "itab = moose.Table(f'{data.path}/ispike')\n",
    "moose.connect(spikegen, 'spikeOut', itab, 'input')"
   ]
  },
  {
   "cell_type": "markdown",
   "id": "e863ef47-2278-4557-92c2-d289821c0ff7",
   "metadata": {},
   "source": [
    "### Set the properties of the model components\n",
    "*Note: You can modify the code below and rerun the three cells (reinit, start and plot) repeatedly with no problem. However, you should not rerun the code above because that will change the structure of the model (particularly the `connect` statements) and can incorrect results. If you want to modify the structure of the model, restart the kernel and run from the beginning of the notebook.*"
   ]
  },
  {
   "cell_type": "code",
   "execution_count": 11,
   "id": "f5a6ac38-852d-41cd-8a06-99ac763f1d55",
   "metadata": {},
   "outputs": [],
   "source": [
    "# prevent the spikegen from generating spikes at intervals shorter than 5 ms.\n",
    "spikegen.refractT = 5e-3 \n",
    "spikegen.rate = 100    # 100 Hz rate\n",
    "\n",
    "neuronA.thresh = 10e-3  # firing threshold\n",
    "\n",
    "# LIF computes time constant as tau = Cm * Rm\n",
    "neuronA.Cm = 1.0    \n",
    "neuronA.Rm = 1e-3   # time constant for voltage decay\n",
    "neuronA.refractoryPeriod = 0.0\n",
    "\n",
    "synh.synapse[0].weight = 1.0\n",
    "synh.synapse[0].delay = 0"
   ]
  },
  {
   "cell_type": "code",
   "execution_count": 12,
   "id": "12c3b0f3-8ef3-4d08-81af-60ee672070ee",
   "metadata": {},
   "outputs": [],
   "source": [
    "runtime = 200e-3\n",
    "\n",
    "moose.seed(0)\n",
    "moose.reinit()\n",
    "moose.start(runtime)"
   ]
  },
  {
   "cell_type": "code",
   "execution_count": 13,
   "id": "ae5747f9-df06-4f9b-b0a4-97a27975fbdb",
   "metadata": {},
   "outputs": [
    {
     "data": {
      "text/plain": [
       "[<matplotlib.lines.Line2D at 0x177dd2210>]"
      ]
     },
     "execution_count": 13,
     "metadata": {},
     "output_type": "execute_result"
    },
    {
     "data": {
      "image/png": "[encoded data removed]",
      "text/plain": [
       "<Figure size 640x480 with 1 Axes>"
      ]
     },
     "metadata": {},
     "output_type": "display_data"
    }
   ],
   "source": [
    "t = np.arange(len(vmA.vector)) * vmA.dt\n",
    "plt.plot(t * 1e3, vmA.vector)\n",
    "# the following plots the time points in itab as red vertical bars ('r|')\n",
    "plt.plot(itab.vector * 1e3, [-1] * len(itab.vector), 'r|')  "
   ]
  },
  {
   "cell_type": "markdown",
   "id": "d0bd8673-61dc-46b8-a2fe-53e2fd91f43a",
   "metadata": {},
   "source": [
    "An input spike (red bars) evoked a spike in the LIF neuron most of the time. By changing the synaptic weight and the rate of the `RandSpike` you can investigate the integrating behavior of the neuron more closely. "
   ]
  },
  {
   "cell_type": "markdown",
   "id": "2a1d0a2d-3edd-4c15-ba87-f919dffa64b9",
   "metadata": {},
   "source": [
    "## Exercise\n",
    "1. Modify the `rate` attribute of the `RandSpike` object. What is do you observe?\n",
    "2. Set the `refractoryPeriod` of the LIF neuron (`neuronA`) to a value like 5 ms and rerun the simulation. What do you observe?"
   ]
  },
  {
   "cell_type": "markdown",
   "id": "62ef409a-722e-474e-9bef-179d5cef9527",
   "metadata": {},
   "source": [
    "## Multiple synaptic connections to a single LIF neuron\n",
    "A single `SynHandler` can handle multiple synaptic connections in parallel. The number of synapses can be set by `SynHandler.synapse.num` field (this notation means `SynHandler` has an attribute called `synapse`, which has an attribute called `num` - the number of allowed synaptic connections).\n",
    "\n",
    "Below we set this to 2. Then we create two `RandomSpike` object and connect them to these entries in the `synapse`.\n",
    "\n",
    "We delete the existing container to start with a clean slate. Once connections are setup and the model is initialized (by calling `moose.reinit` like above), modifying it is error-prone. So we start with replicating the initial setup code from above. The first `if` block ensures that we delete the container `/sim` only if it already exists.\n",
    "\n",
    "**One common gotcha** *with Python and MOOSE is that in Python a variable persists until it goes out of scope. MOOSE objects, however, persist until you explicitly delete them using `moose.delete`. But the Python variable associated with the MOOSE object may continue to exist, and if you refer to such deleted objects, Python will crash*"
   ]
  },
  {
   "cell_type": "code",
   "execution_count": null,
   "id": "d9a68975-dcfb-43e9-a0ea-b231ed7424af",
   "metadata": {},
   "outputs": [],
   "source": [
    "# containers\n",
    "if moose.exists('/sim'):\n",
    "    moose.delete('/sim')\n",
    "    \n",
    "sim = moose.Neutral('/sim')\n",
    "model = moose.Neutral(f'{sim.path}/model')\n",
    "data = moose.Neutral(f'{sim.path}/data')\n",
    "\n",
    "# Create a simple integrate and fire neuron\n",
    "neuronA = moose.IntFire(f'{model.path}/neuronA')\n",
    "# Handler for synaptic input\n",
    "synh = moose.SimpleSynHandler(f'{neuronA.path}/synh')\n",
    "# Connect the activation output of the SynHandler to the activation input of the IntFire neuron\n",
    "moose.connect(synh, 'activationOut', neuronA, 'activation')"
   ]
  },
  {
   "cell_type": "markdown",
   "id": "74f20baf-56be-4f5a-b450-f546ff73a4e2",
   "metadata": {},
   "source": [
    "### Create *two* random spike generators and connect them to the synapses\n",
    "This is where the code becomes specific for two synapses"
   ]
  },
  {
   "cell_type": "code",
   "execution_count": null,
   "id": "4e157213-ab18-417f-9099-c57f46d59cfd",
   "metadata": {},
   "outputs": [],
   "source": [
    "# Set the number of synapses to 2\n",
    "synh.synapse.num = 2\n",
    "# Create and connect two spike generator to deliver spike events to the `SynChan`.\n",
    "# Note that index starts at 0.\n",
    "spikegen1 = moose.RandSpike(f'{model.path}/spike1')\n",
    "moose.connect(spikegen1, 'spikeOut', synh.synapse[0], 'addSpike')\n",
    "spikegen2 = moose.RandSpike(f'{model.path}/spike2')\n",
    "moose.connect(spikegen2, 'spikeOut', synh.synapse[1], 'addSpike')"
   ]
  },
  {
   "cell_type": "code",
   "execution_count": null,
   "id": "72178c83-c6fe-49a8-8697-e3bd1bcebd8c",
   "metadata": {},
   "outputs": [],
   "source": [
    "print(moose.le('/sim/model'))"
   ]
  },
  {
   "cell_type": "markdown",
   "id": "85779b74-95e3-464f-aae3-969eec06db6d",
   "metadata": {},
   "source": [
    "Next we set up two tables for recording the spike times from the two spike generators."
   ]
  },
  {
   "cell_type": "code",
   "execution_count": null,
   "id": "aa1faa12-9c7a-4e7a-b7bb-eb18ee34afac",
   "metadata": {},
   "outputs": [],
   "source": [
    "# Record Vm of the LIF neuron in vmA\n",
    "vmA = moose.Table(f'{data.path}/VmA')\n",
    "moose.connect(vmA, 'requestOut', neuronA, 'getVm')\n",
    "\n",
    "# Record spike times of the first `RandomSpike` object in ispike1\n",
    "itab1 = moose.Table(f'{data.path}/ispike1')\n",
    "moose.connect(itab1, 'requestOut', spikegen1, 'getLastEventT')\n",
    "\n",
    "# Record spike times of the second `RandomSpike` object in ispike2\n",
    "itab2 = moose.Table(f'{data.path}/ispike2')\n",
    "moose.connect(itab2, 'requestOut', spikegen2, 'getLastEventT')"
   ]
  },
  {
   "cell_type": "markdown",
   "id": "c2da0a13-fdcc-4b31-8676-5353a4cda329",
   "metadata": {},
   "source": [
    "We can now set the properties of the spike generators, the neuron, and the synapses. Notice that each entry in the array of synapses managed by a `SynHandler` can have different `weight` and `delay`. \n",
    "\n",
    "Moreover, `RandSpike` can also generate periodic spikes instead of randomly timed spikes. To switch to this mode, set the `doPeriodic` field of a `RandSpike` object to `True`. Below we keep the first `RandSpike` random and make the second periodic."
   ]
  },
  {
   "cell_type": "code",
   "execution_count": null,
   "id": "18862190-e525-4855-bd44-d59fa1eeee73",
   "metadata": {},
   "outputs": [],
   "source": [
    "spikegen1.refractT = 5e-3\n",
    "spikegen1.rate = 100    # 100 Hz rate\n",
    "\n",
    "spikegen2.refractT = 0\n",
    "spikegen2.rate = 100   # 100 Hz rate\n",
    "spikegen2.doPeriodic = True\n",
    "\n",
    "# Set the properties of the LIF neuron\n",
    "neuronA.thresh = 10e-3  # firing threshold\n",
    "neuronA.tau = 1e-3   # time constant for voltage decay\n",
    "\n",
    "# Set the properties of the two synapses \n",
    "synh.synapse[0].weight = 1.0\n",
    "synh.synapse[0].delay = 0\n",
    "\n",
    "synh.synapse[1].weight = 1.0\n",
    "synh.synapse[1].delay = 0"
   ]
  },
  {
   "cell_type": "markdown",
   "id": "c3409c29-a6ad-4012-adbc-4aa5a75fc73b",
   "metadata": {},
   "source": [
    "Finally we initialize and run the simulation"
   ]
  },
  {
   "cell_type": "code",
   "execution_count": null,
   "id": "dda17ab2-025e-4928-8f22-9d8d27357b45",
   "metadata": {},
   "outputs": [],
   "source": [
    "runtime = 200e-3\n",
    "\n",
    "moose.seed(0)\n",
    "moose.reinit()\n",
    "moose.start(runtime)"
   ]
  },
  {
   "cell_type": "markdown",
   "id": "7bd5877e-4293-4e24-ac59-bf6f94530b8d",
   "metadata": {},
   "source": [
    "We can now plot the `Vm` of the LIF neuron along with the two input spike trains."
   ]
  },
  {
   "cell_type": "code",
   "execution_count": null,
   "id": "e892660a-0fe4-4dbc-b28a-7ca1791e1b89",
   "metadata": {},
   "outputs": [],
   "source": [
    "t = np.arange(len(vmA.vector)) * vmA.dt\n",
    "plt.plot(t * 1e3, vmA.vector, label='Vm')\n",
    "plt.plot(itab1.vector * 1e3, [-1] * len(itab1.vector), 'r|', label='spikegen1') \n",
    "plt.plot(itab2.vector * 1e3, [-1000] * len(itab2.vector), 'b|', label='spikegen2')\n",
    "plt.legend()"
   ]
  },
  {
   "cell_type": "markdown",
   "id": "1c479b53-6c23-40e5-a30a-97e67843eeb4",
   "metadata": {},
   "source": [
    "Note that although setting `doPeriodic` to `True` makes the spikes generated by `RandSpike` regular, the time of the first spike is still random. In order to get deterministic spikes you can use a `PulseGen` object driving a `SpikeGen` object. Each time the `PulseGen` output (input to the `SpikeGen`) crosses the threshold of the of the `SpikeGen`, it will emit a spike."
   ]
  },
  {
   "cell_type": "markdown",
   "id": "3a4082a4-3b9f-49ae-9df8-784eb0a65a4f",
   "metadata": {},
   "source": [
    "# Exercises"
   ]
  },
  {
   "cell_type": "markdown",
   "id": "7f8dfb37-247c-4417-acf8-8c21bd4bbc5d",
   "metadata": {},
   "source": [
    "1. Change the `weight` attribute of one of the neurons to a small negative value. What do you observe? What could be the effect of such synapses on the activity of a neuron?"
   ]
  },
  {
   "cell_type": "code",
   "execution_count": null,
   "id": "f0327e85-095c-431c-942e-631e8a2888a6",
   "metadata": {},
   "outputs": [],
   "source": []
  }
 ],
 "metadata": {
  "kernelspec": {
   "display_name": "Python 3 (ipykernel)",
   "language": "python",
   "name": "python3"
  },
  "language_info": {
   "codemirror_mode": {
    "name": "ipython",
    "version": 3
   },
   "file_extension": ".py",
   "mimetype": "text/x-python",
   "name": "python",
   "nbconvert_exporter": "python",
   "pygments_lexer": "ipython3",
   "version": "3.11.7"
  }
 },
 "nbformat": 4,
 "nbformat_minor": 5
}
