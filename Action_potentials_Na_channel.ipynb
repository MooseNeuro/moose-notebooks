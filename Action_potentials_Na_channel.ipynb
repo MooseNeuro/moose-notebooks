{
 "cells": [
  {
   "cell_type": "markdown",
   "id": "c76c38e1-20d8-41ab-8d23-6e64d15a95d7",
   "metadata": {},
   "source": [
    "[![Open In Colab](./colab-badge.png)](https://colab.research.google.com/github/subhacom/moose-notebooks/blob/main/Multi-compartmental_neuron_model.ipynb) [![Binder](./binder_logo.png)](https://mybinder.org/v2/gh/subhacom/moose-notebooks/HEAD)"
   ]
  },
  {
   "cell_type": "markdown",
   "id": "e48f2391-a63b-456b-b24f-8cddc74cb839",
   "metadata": {},
   "source": [
    "Only required on colab!¶\n",
    "\n",
    "!pip install pymoose"
   ]
  },
  {
   "cell_type": "markdown",
   "id": "02266dbe-5f1e-45f2-867f-b0834d445240",
   "metadata": {},
   "source": [
    "# Action potentials and Hodgkin-Huxley model: $Na^+$ channel"
   ]
  },
  {
   "cell_type": "markdown",
   "id": "7144b724-59cc-43b0-b8de-90c63cd1a195",
   "metadata": {},
   "source": [
    "We already saw how to model $K^{+}$ channel in moose. $K^{+} channel conductance increases with time at depolarized voltages until reaching a steady state.\n",
    "\n",
    "Hodgkin and Huxley found that $Na^{+}$ channel conductance has more interesting dynamics. It first increases and then decreases."
   ]
  },
  {
   "cell_type": "markdown",
   "id": "aa3f3857-684e-4c3c-87b6-4f46682b79ab",
   "metadata": {},
   "source": [
    " [<img src=\"HH_equivalent_circuit.svg\" width=\"250\"/>](HH_equivalent_circuit.svg)"
   ]
  },
  {
   "cell_type": "markdown",
   "id": "5f39f316-0ade-4cd4-960e-52614a025d4b",
   "metadata": {},
   "source": [
    "They figured out that the $Na^{+}$ conductance evolves as \n",
    "\n",
    "$G_{Na} = \\bar{G}_{Na} m^{3}\\ h$\n",
    "\n",
    "where $\\bar{G}_{Na}$ is the maximum value of $G_{Na}$.\n",
    "They postulated that like $K^{+}$ channel, $Na^{+}$ channel had 4 gating particles. But 3 of these particles (corresponding to the $m$ in the above equation) helped open the channel while 1 (corresponding to $h$) tried to close the channel at depolarized voltages. \n",
    "\n",
    "The transition between open and closed states for both kinds of particle could be modeled as a first order chemical reaction. \n",
    "\n",
    "## $m$ gate\n",
    "For the first kind, if $m$ fraction is open, and the particles switch from open to closed at the rate $\\beta_{m}$, then the fraction of open particles reduces at the rate $\\beta_{m} m$.\n",
    "\n",
    "If particles switch from closed to open state at rate $\\alpha_{m}$, then the fraction of open particles increases at the rate $\\alpha_{m} (1 - m)$, since  $(1-m)$ is the fraction that is in closed state. Thus the rate of change of open fraction is:\n",
    "\n",
    "$\\frac{dm}{dt} = \\alpha_{m} (1 - m) - \\beta_{m} m$\n",
    "\n",
    "The solution to this first order differential equation is\n",
    "\n",
    "$m = m_{\\infty} - (m_{\\infty} - m_{0})\\ exp (-t/\\tau_{m})$\n",
    "\n",
    "where\n",
    "\n",
    "$m_{\\infty} = \\frac{\\alpha_{m}}{\\alpha_{m} + \\beta_{m}}$,\n",
    "\n",
    "and\n",
    "\n",
    "$\\tau_{m} = \\frac{1}{\\alpha_{m} + \\beta_{m}}$\n",
    "\n",
    "$\\alpha_{m}$ and $\\beta_{m}$ are the steady state values of the rate constant, and depend on the voltage. Thus $m_{\\infty}$ and $\\tau_{m}$ are also functions of voltage.\n",
    "\n",
    "We can also express $\\alpha_{m}$ and $\\beta_{m}$ in terms of $m_{\\infty}$ and $\\tau_{m}$ :\n",
    "\n",
    "$\\alpha_{m} = m_{\\infty}/\\tau_{m}$\n",
    "\n",
    "and $\\beta_{m} = (1 - m_{\\infty})/\\tau_{m}$\n",
    "\n"
   ]
  },
  {
   "cell_type": "markdown",
   "id": "2addc5d4-9c8c-4472-ba10-9662185380ef",
   "metadata": {},
   "source": [
    "For squid giant axon\n",
    "\n",
    "$\\alpha_{m} = 0.1 (25 - V)/(exp(\\frac{25-V}{10}) - 1)$\n",
    "\n",
    "and \n",
    "\n",
    "$\\beta_{m} = 4\\ exp(\\frac{-V}{18})$\n"
   ]
  },
  {
   "cell_type": "markdown",
   "id": "56d738f3-60fb-4e38-80bb-08c6410504da",
   "metadata": {},
   "source": [
    "## $h$ gate\n",
    "In the same way, if $h$ fraction of the inactivation particles is open, then\n",
    "\n",
    "$\\frac{dh}{dt} = \\alpha_{h} (1 - h) - \\beta_{h} h$\n",
    "\n",
    "The solution to this first order differential equation is\n",
    "\n",
    "$h = h_{\\infty} - (h_{\\infty} - h_{0})\\ exp (-t/\\tau_{h})$\n",
    "\n",
    "\n",
    "where\n",
    "\n",
    "$h_{\\infty} = \\frac{\\alpha_{h}}{\\alpha_{h} + \\beta_{h}}$,\n",
    "\n",
    "and\n",
    "\n",
    "$\\tau_{h} = \\frac{1}{\\alpha_{h} + \\beta_{h}}$\n",
    "\n",
    "$\\alpha_{h}$ and $\\beta_{h}$ are the steady state values of the rate constant, and depend on the voltage. Like before, $h_{\\infty}$ and $\\tau_{h}$ are also functions of voltage, and\n",
    "\n",
    "$\\alpha_{h} = h_{\\infty}/\\tau_{h}$\n",
    "\n",
    "and $\\beta_{h} = (1 - h_{\\infty})/\\tau_{h}$"
   ]
  },
  {
   "cell_type": "markdown",
   "id": "3258b5b2-55d2-4622-944f-13e042ba476a",
   "metadata": {},
   "source": [
    "Hodgkin and Huxley fit the parameters for the $h$ gates with the following formulae:\n",
    "\n",
    "$\\alpha_{h} = 0.07\\ exp(\\frac{-V}{20})$\n",
    "\n",
    "and \n",
    "\n",
    "$\\beta_{h} = 1/(exp(\\frac{30-V}{10}) + 1)$\n"
   ]
  },
  {
   "cell_type": "code",
   "execution_count": null,
   "id": "fa203fe7-32b7-4de8-989c-b1b78ad52799",
   "metadata": {},
   "outputs": [],
   "source": [
    "# Usual imports\n",
    "import numpy as np\n",
    "import matplotlib.pyplot as plt\n",
    "\n",
    "import moose"
   ]
  },
  {
   "cell_type": "code",
   "execution_count": null,
   "id": "648a60eb-1369-4bf0-83dc-25be29d3fa54",
   "metadata": {},
   "outputs": [],
   "source": [
    "# Create containers\n",
    "\n",
    "container = moose.Neutral('/sim')\n",
    "data = moose.Neutral('/sim/data')\n",
    "model = moose.Neutral('/sim/model')"
   ]
  },
  {
   "cell_type": "code",
   "execution_count": null,
   "id": "c0f55283-0f74-44bb-b4cc-d32921f20f0a",
   "metadata": {},
   "outputs": [],
   "source": [
    "# Create a compartment representing the squid giant axon\n",
    "axon = moose.Compartment(f'{model.path}/axon')"
   ]
  },
  {
   "cell_type": "markdown",
   "id": "457f441c-efd8-4f1f-abf6-7b00ac21d84a",
   "metadata": {},
   "source": [
    "## Insert a channel into the compartment\n",
    "In moose, Hodgkin-Huxley type channels are implemented by the `HHChannel` class. The channel needs $V_{m}$ of the compartment to update its conductance $G_{k}$, and the compartment needs the channels conductance to compute the current flowing in, and thus to update the voltage. We have to connect the `channel` message of the `HHChannel` object to the `channel` message of the `Compartment` object so the channel conductance and membrane voltage can be communicated between the channel and the compartment."
   ]
  },
  {
   "cell_type": "code",
   "execution_count": null,
   "id": "ee8f93a4-7384-433a-a5a6-81f39d918a73",
   "metadata": {},
   "outputs": [],
   "source": [
    "# Create a Hodgkin-Huxley-type channel and connect it to the compartment\n",
    "nachan = moose.HHChannel(f'{axon.path}/Na')\n",
    "moose.connect(nachan, 'channel', axon, 'channel')\n",
    "moose.showmsg(nachan.path)"
   ]
  },
  {
   "cell_type": "markdown",
   "id": "5a7442c9-4884-40bd-9fe9-93d5fab71a2f",
   "metadata": {},
   "source": [
    "Again, we use the more general equation for channel parameters:\n",
    "\n",
    "$y(x) = \\frac{A + B\\ x}{C + exp(\\frac{x + D}{F})}$ where $x$ is the voltage and $y$ is the voltage dependent rate constant."
   ]
  },
  {
   "cell_type": "markdown",
   "id": "b050b950-6250-444c-af8d-08278297b38c",
   "metadata": {},
   "source": [
    "$Na^{+}$ channel has two gates, where the $m$ component gets raised to the power 3 and the $h$ component gets raised to the power 1.\n",
    "`HHChannel` class in moose provides option for 3 gates, X, Y and Z. Here we need only the X and Y gates to model $m$ and $h$."
   ]
  },
  {
   "cell_type": "markdown",
   "id": "ecdd4b4f-4714-4fd6-8902-72622c850da4",
   "metadata": {},
   "source": [
    "We first set the exponents for these components:"
   ]
  },
  {
   "cell_type": "code",
   "execution_count": null,
   "id": "cf703026-00c5-4e1a-a755-01ff748d64e8",
   "metadata": {},
   "outputs": [],
   "source": [
    "nachan.Xpower = 3\n",
    "nachan.Ypower = 1"
   ]
  },
  {
   "attachments": {},
   "cell_type": "markdown",
   "id": "11375913-2ba2-40ac-bf98-c149523ee336",
   "metadata": {},
   "source": [
    "According to the earlier equations,\n",
    "\n",
    "$A = 0.1 * 25 = 2.5$, $B = -0.1$, $C = -1$, $D = -25$, and $F = -10$ for $\\alpha_{m}$ and \n",
    "\n",
    "$A=4$, $B=0$, $C=0$, $D = 0$, and $F=-18$ for $\\beta_{m}$.\n",
    "\n",
    "\n",
    "For $h$ gate, $\\alpha_{h}$ can be parameterized with\n",
    "\n",
    "$A=0.07$, $B=0$, $C=0$, $D = 0$, and $F=-20$\n",
    "\n",
    "and $\\beta_{h}$ with\n",
    "\n",
    "$A = 1$, $B = 0$, $C = 1$, $D = -30$, and $F = -10$.\n",
    "\n"
   ]
  },
  {
   "cell_type": "markdown",
   "id": "be8ebf99-88a8-4421-a410-9c355b19eda9",
   "metadata": {},
   "source": [
    "We have to set the reversal potential of the channel as well as the maximum conductance"
   ]
  },
  {
   "cell_type": "code",
   "execution_count": null,
   "id": "4863de39-4f41-438c-96f5-8c1c5f0ec57c",
   "metadata": {},
   "outputs": [],
   "source": [
    "nachan.Ek = 115.0   # mV with respect to resting Vm\n",
    "# Gbar is maximum conductance. \n",
    "# The voltage dependent conductance value is computed and \n",
    "# stored in the field Gk, which we record in a table below\n",
    "nachan.Gbar = 120.0  # mS/cm^2"
   ]
  },
  {
   "cell_type": "markdown",
   "id": "e7243ab6-762d-4fb8-a412-3be2375c1d03",
   "metadata": {},
   "source": [
    "Like $K^{+}$ channel before we can now set the gate parameters, but for X and Y gate separately"
   ]
  },
  {
   "cell_type": "code",
   "execution_count": null,
   "id": "1082cf4d-04c8-4315-9462-857915c67f67",
   "metadata": {},
   "outputs": [],
   "source": [
    "vdivs = 150\n",
    "vmin = -30.0\n",
    "vmax = 120.0\n",
    "\n",
    "xgate = moose.HHGate(f'{nachan.path}/gateX')\n",
    "x_alpha_params = [2.5, -0.1, -1.0, -25.0, -10.0]\n",
    "x_beta_params = [4, 0, 0, 0, 18.0]\n",
    "# Note that `+` operator with lists as operands concatenates them\n",
    "x_params = x_alpha_params + x_beta_params + [vdivs, vmin, vmax]\n",
    "xgate.setupAlpha(x_params)\n",
    "\n",
    "ygate = moose.HHGate(f'{nachan.path}/gateY')\n",
    "y_alpha_params = [0.07, 0, 0, 0, 20.0]\n",
    "y_beta_params = [1, 0, 1, -30, -10.0]\n",
    "# Note that `+` operator with lists as operands concatenates them\n",
    "y_params = y_alpha_params + y_beta_params + [vdivs, vmin, vmax]\n",
    "ygate.setupAlpha(y_params)"
   ]
  },
  {
   "cell_type": "code",
   "execution_count": null,
   "id": "41a41803-993a-436c-a021-b26c0e4238ed",
   "metadata": {},
   "outputs": [],
   "source": [
    "#print(moose.showfields(gate))\n",
    "x_alpha_moose = xgate.tableA\n",
    "x_beta_moose = xgate.tableB - xgate.tableA\n",
    "v = np.linspace(xgate.min, xgate.max, len(x_alpha_moose))\n",
    "\n",
    "x_alpha_hh = 0.1 * (-v + 25) / (np.exp((-v + 25)/10) - 1)\n",
    "x_beta_hh = 4 * np.exp(-v/18)\n",
    "\n",
    "plt.subplot(211)\n",
    "plt.plot(v, x_alpha_moose, '-', color='green', label='alpha_m moose')\n",
    "plt.plot(v, x_beta_moose,  '-', color='blue', label='beta_m moose')\n",
    "plt.plot(v, x_alpha_hh, '--', color='magenta', label='alpha_m hh')\n",
    "plt.plot(v, x_beta_hh,  '--', color='orange', label='beta_m hh')\n",
    "\n",
    "plt.legend()\n",
    "plt.subplot(212)\n",
    "y_alpha_moose = ygate.tableA\n",
    "y_beta_moose = ygate.tableB - ygate.tableA\n",
    "\n",
    "y_alpha_hh = 0.07 * np.exp(-v/20)\n",
    "y_beta_hh = 1/(np.exp((-v + 30)/10) + 1)\n",
    "\n",
    "plt.plot(v, y_alpha_moose, '-', color='green', label='alpha_h moose')\n",
    "plt.plot(v, y_beta_moose,  '-', color='blue', label='beta_h moose')\n",
    "plt.plot(v, y_alpha_hh, '--', color='magenta', label='alpha_h hh')\n",
    "plt.plot(v, y_beta_hh,  '--', color='orange', label='beta_h hh')\n",
    "\n",
    "plt.legend()"
   ]
  },
  {
   "cell_type": "markdown",
   "id": "659f1421-a85f-49d2-aabe-b0ef07891d70",
   "metadata": {},
   "source": [
    "## Create the voltage clamp setup\n",
    "Code for setting up voltage clamp "
   ]
  },
  {
   "cell_type": "code",
   "execution_count": null,
   "id": "6d9acca9-317f-4509-a246-ade52267c9a0",
   "metadata": {},
   "outputs": [],
   "source": [
    "###################################################\n",
    "# Do not touch this code\n",
    "###################################################\n",
    "def create_voltage_clamp(modelpath, datapath, compartment):\n",
    "    \"\"\"Creates a voltage clamp object under `modelpath` and \n",
    "    a table under `datapath` to record the command voltage.\n",
    "    \n",
    "    Returns the `moose.PulseGen` that gives the command value \n",
    "    to the voltage clamp.\n",
    "    \"\"\"\n",
    "    path = f'{modelpath}/elec'  # create a separate container for electronics\n",
    "    \n",
    "    if moose.exists(path):   # avoid duplicate connect\n",
    "        print(f'{path}: Object already exists')\n",
    "        vclamp = moose.VClamp(f'{path}/vclamp')\n",
    "        command = moose.PulseGen(f'{path}/command')\n",
    "        command_tab = moose.Table(f'{datapath}/command')\n",
    "        return vclamp, command, command_tab\n",
    "    elec = moose.Neutral(path)    \n",
    "    vclamp = moose.VClamp(f'{path}/vclamp')\n",
    "    # The voltage clamp's output is `currentOut` which will be \n",
    "    # injected into the compartment\n",
    "    moose.connect(vclamp, 'currentOut', compartment, 'injectMsg')\n",
    "    # The voltage clamp object senses the voltage of the compartment\n",
    "    moose.connect(compartment, 'VmOut', vclamp, 'sensedIn')\n",
    "    command = moose.PulseGen(f'{path}/command')\n",
    "\n",
    "    # Connect the output of the command pulse to the command input of the voltage clamp circuit\n",
    "    moose.connect(command, 'output', vclamp, 'commandIn')\n",
    "\n",
    "    # Also setup a table to record the command voltage of the VClamp directly\n",
    "    command_tab = moose.Table(f'{datapath}/command')\n",
    "    moose.connect(command_tab, 'requestOut', command, 'getOutputValue')\n",
    "    \n",
    "    # compartment.dt is the integration time step for the compartment \n",
    "    # `tau` is the time constant of the RC filter in the circuit.\n",
    "    # 5 times the integration timestep value is a good starting point for tau\n",
    "    vclamp.tau = 5 * compartment.dt\n",
    "    # `gain` is the proportional gain of the PID controller. `Cm/dt` is a good value\n",
    "    vclamp.gain = compartment.Cm / compartment.dt\n",
    "\n",
    "    # `ti` is the integral time of the PID controller, `dt` is a good value\n",
    "    vclamp.ti = compartment.dt\n",
    "    # `td` is the derivative time of the PID controller. We can set it to 0\n",
    "    \n",
    "    return vclamp, command, command_tab\n",
    "\n",
    "\n",
    "def set_command_timecourse(command, base, delay, level):\n",
    "    \"\"\"Set up an existing pulse generator `command` to output `base` as initial value \n",
    "    and `level` after `delay` time\"\"\"\n",
    "    command.baseLevel = base   \n",
    "    command.firstDelay = delay   \n",
    "    command.secondDelay = 1e9    # Never stop \n",
    "    command.firstWidth = 1e9     # Never stop\n",
    "    command.firstLevel = level  "
   ]
  },
  {
   "cell_type": "markdown",
   "id": "122bd179-46ac-44dd-a9f2-53428169afc7",
   "metadata": {},
   "source": [
    "### Call the function above to actually create the voltage clamp circuit"
   ]
  },
  {
   "cell_type": "code",
   "execution_count": null,
   "id": "51202083-54d2-4051-ac7e-42e04ffb3e83",
   "metadata": {},
   "outputs": [],
   "source": [
    "# Insert voltage clamp circuitry\n",
    "vclamp, command, command_tab = create_voltage_clamp(model.path, data.path, axon)\n",
    "# baseline is set to equilibrium potential\n",
    "# delay is 10 ms, start the voltage change at this time\n",
    "# command level is -60 mV, which is 10 mV above equilibrium potential\n",
    "set_command_timecourse(command, 0.0, 10.0, 10.0)"
   ]
  },
  {
   "cell_type": "markdown",
   "id": "f9d3e1ef-7414-4dd4-a40e-956b318ad656",
   "metadata": {},
   "source": [
    "## Set the passive properties of the compartment"
   ]
  },
  {
   "cell_type": "code",
   "execution_count": null,
   "id": "641730d6-109c-4e3a-9439-5a6700b23613",
   "metadata": {},
   "outputs": [],
   "source": [
    "axon.Em = 0    # Hodgkin and Huxley used resting voltage as 0\n",
    "axon.initVm = 0\n",
    "axon.Cm = 1\n",
    "axon.Rm = 1 / 0.3   # G_leak is 0.3 mS/cm^2"
   ]
  },
  {
   "cell_type": "markdown",
   "id": "312b9bc1-905a-43d9-afb1-9025979a85a2",
   "metadata": {},
   "source": [
    "## Set up data recording\n",
    "We have to setup tables to record membrane current as well as K+ conductance "
   ]
  },
  {
   "cell_type": "code",
   "execution_count": null,
   "id": "86087358-749b-4263-95a6-d1f313e0b30e",
   "metadata": {},
   "outputs": [],
   "source": [
    "gNa_tab = moose.Table(f'{data.path}/gNa')\n",
    "moose.connect(gNa_tab, 'requestOut', nachan, 'getGk')\n",
    "im_tab = moose.Table(f'{data.path}/Im')\n",
    "moose.connect(im_tab, 'requestOut', axon, 'getIm')"
   ]
  },
  {
   "cell_type": "markdown",
   "id": "590bc047-3402-425c-8ee2-7d8d1af14b8f",
   "metadata": {},
   "source": [
    "## Setup scheduling (optional), initialize the model, and run the simulation"
   ]
  },
  {
   "cell_type": "markdown",
   "id": "8286004e-43a9-477a-9b4f-9ddc508f6e77",
   "metadata": {},
   "source": [
    "As mentioned in the K channel notebook, to work around an issue in moose, we need to explicitly schedule in what order various objects are updated during the simulation. This is done via the `setClock` and `useClock` functions.\n",
    "\n",
    "`useClock(n, path)` schedules object(s) in path `path` on clock number `n`. That means every time clock # `n` ticks, some functions to update the state of the object at `path` get called.\n",
    "\n",
    "`setClock(n, dt)` sets the tick interval (in simulated time) of clock number `n` to `dt`. This may also be used as the timestep for temporal integration when updating the object involves solving a differential equation.\n",
    "\n"
   ]
  },
  {
   "cell_type": "code",
   "execution_count": null,
   "id": "2f5648b8-c0d2-48c2-beae-977915a2c339",
   "metadata": {},
   "outputs": [],
   "source": [
    "## Uncomment below if you see an initial voltage transient when repeating the simulation\n",
    "\n",
    "# simdt = 1e-5   # simulation timestep\n",
    "# plotdt = 1e-3  # data collection timestep\n",
    "\n",
    "# moose.setClock(0, simdt)\n",
    "# moose.setClock(1, simdt)\n",
    "# moose.setClock(2, simdt)\n",
    "# moose.setClock(3, plotdt)\n",
    "\n",
    "# # moose uses `#` character as a wildcard. \n",
    "# # \"/model/#\" gets all objects that are children of `/model`.\n",
    "# # \"/model/#[TYPE=Compartment]\" gets all `Compartment` instances that are children of `/model`.\n",
    "# # \"/model/##\" gets all objects that are descendants (children, grand children, ...) of `/model`.\n",
    "\n",
    "# moose.useClock(0, f'{model.path}/#[TYPE=Compartment]', 'init')\n",
    "# moose.useClock(1, f'{model.path}/elec/##', 'process')\n",
    "# moose.useClock(1, f'{model.path}/#[TYPE=Compartment]', 'process')\n",
    "# moose.useClock(2, f'{axon.path}/#[TYPE=HHChannel]', 'process')\n",
    "# moose.useClock(3, f'{data.path}/#[TYPE=Table]', 'process')\n"
   ]
  },
  {
   "cell_type": "markdown",
   "id": "f965ba12-6d1f-4d56-96be-ccc959217025",
   "metadata": {},
   "source": [
    "Now run the simulation"
   ]
  },
  {
   "cell_type": "code",
   "execution_count": null,
   "id": "2a8c052c-4411-453b-952d-3712a93905eb",
   "metadata": {},
   "outputs": [],
   "source": [
    "runtime = 50\n",
    "# `reinit` initialize the simulation \n",
    "moose.reinit()\n",
    "# run the simulation for `runtime` duration\n",
    "moose.start(runtime)"
   ]
  },
  {
   "cell_type": "markdown",
   "id": "391963ab-6324-4145-9dc4-ef334d2d365d",
   "metadata": {},
   "source": [
    "## Plot the results"
   ]
  },
  {
   "cell_type": "code",
   "execution_count": null,
   "id": "338bf6d2-afda-4f57-8b8d-519ecdb86ab8",
   "metadata": {},
   "outputs": [],
   "source": [
    "v_command = command_tab.vector\n",
    "t_command = np.arange(len(v_command)) * command_tab.dt\n",
    "fig, axes = plt.subplots(nrows=3, ncols=1, sharex='all')\n",
    "axes[0].plot(t_command, v_command, label='Command voltage')\n",
    "axes[0].set_ylabel('Voltage (mV)')\n",
    "\n",
    "im = im_tab.vector\n",
    "t_im = np.arange(len(im)) * im_tab.dt\n",
    "axes[1].plot(t_im, im, label='Membrane current (mA/cm^2)')\n",
    "axes[1].set_ylabel('Im')\n",
    "#plt.plot(t_v, v_end, ':', label='Voltage at last compartment')\n",
    "gNa = gNa_tab.vector\n",
    "t_gNa = np.arange(len(gNa)) * gNa_tab.dt\n",
    "axes[2].plot(t_gNa, gNa)\n",
    "axes[2].set_ylabel('GNa')\n",
    "axes[2].set_xlabel('Time (ms)')"
   ]
  },
  {
   "cell_type": "markdown",
   "id": "5dacb7f6-9d11-41c5-aa1e-795dd1ad40ab",
   "metadata": {},
   "source": [
    "## Simulating Hodgkin and Huxleys experiment with different voltage steps\n",
    "Hodgkin and Huxley first identified the properties of the $K^{+}$ conductance by stepping the command voltage to various values (6, 10, 19, 26, 32, 38, 51, 63, 76, 88, 100, 109 mV above resting value). To do this we can repeat the simulation by changing the command voltage in our voltage clamp, and accumulating the time series of GK. We already defined the function `set_command_time_course(command, base, delay, level)` which we can use in a loop to update the level and rerun the simulation."
   ]
  },
  {
   "cell_type": "code",
   "execution_count": null,
   "id": "9ca3859e-57aa-4a3a-820a-b9a5d6e22440",
   "metadata": {},
   "outputs": [],
   "source": [
    "commands = np.r_[6, 10, 19, 26, 32, 38, 51, 63, 76, 88, 100, 109]\n",
    "fig, axes = plt.subplots(nrows=2, ncols=1, sharex='all')\n",
    "\n",
    "for level in commands:\n",
    "    set_command_timecourse(command, 0.0, 10.0, level)\n",
    "    moose.reinit()\n",
    "    moose.start(runtime)\n",
    "    gNa = gNa_tab.vector\n",
    "    t_gNa = np.arange(len(gNa)) * gNa_tab.dt\n",
    "    axes[0].plot(t_gNa, gNa, label=f'{level} mV')\n",
    "    v_command = command_tab.vector\n",
    "    t_command = np.arange(len(v_command)) * command_tab.dt\n",
    "    axes[1].plot(t_command, v_command)\n",
    "\n",
    "\n",
    "axes[1].set_xlabel('Time (ms)')\n",
    "axes[1].set_ylabel('Command voltage (mV)')\n",
    "axes[0].set_ylabel('Conductivity (mS/cm^2)')"
   ]
  },
  {
   "cell_type": "markdown",
   "id": "6602c68c-4944-49e8-9322-f40b3540699c",
   "metadata": {},
   "source": [
    "## Exercises\n",
    "1. Plot $m$, $h$, $\\tau_{m}$ and $\\tau_{h}$ against voltage.\n",
    "1. Collect the final steady state values of the $Na^{+}$ conductance from the simulation and plot against the command voltage."
   ]
  }
 ],
 "metadata": {
  "kernelspec": {
   "display_name": "Python 3 (ipykernel)",
   "language": "python",
   "name": "python3"
  },
  "language_info": {
   "codemirror_mode": {
    "name": "ipython",
    "version": 3
   },
   "file_extension": ".py",
   "mimetype": "text/x-python",
   "name": "python",
   "nbconvert_exporter": "python",
   "pygments_lexer": "ipython3",
   "version": "3.12.1"
  }
 },
 "nbformat": 4,
 "nbformat_minor": 5
}
