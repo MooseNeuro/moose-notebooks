{
 "cells": [
  {
   "cell_type": "markdown",
   "id": "ff28c644-2091-448b-9fc0-6bc274669fd4",
   "metadata": {},
   "source": [
    "[![Open In Colab](./colab-badge.png)](https://colab.research.google.com/github/subhacom/moose-notebooks/blob/main/More_complex_current_injection_protocol.ipynb) [![Binder](./binder_logo.png)](https://mybinder.org/v2/gh/subhacom/moose-notebooks/HEAD)"
   ]
  },
  {
   "cell_type": "code",
   "execution_count": 1,
   "id": "5a2895a5-244d-40fd-9333-cb7ba5618906",
   "metadata": {},
   "outputs": [],
   "source": [
    "## Uncomment below if on colab!\n",
    "# !pip install pymoose"
   ]
  },
  {
   "cell_type": "markdown",
   "id": "b81cbee1-6e07-41b5-9ec9-7bd665f5fdac",
   "metadata": {},
   "source": [
    "Physics and chemistry underlie biology. Modeling of electrical activities of neurons involves biophysics. But biochemical processes ultimately decide the properties of the neurons. These biochemical processes in turn may be influenced by the physics of the system. \n",
    "\n",
    "The ion channels we modeled in Hodhkin-Huxley squid giant axon simulation are actually proteins that are created by the transcription and translation of genetic codes in the DNA. These are chemical processes, and may determine the ion channel density, and hence conductance, in the cell. Receptor channels in neurons other cells can be controlled by chain of chemical reactions. Various plasticity mechanisms thought to be responsible for memory formation are also results of biochemical pathways. In multiscale models we want to combine these chemical processes with physical processes like electrical activity of neurons.\n",
    "\n",
    "MOOSE gives you a single framework to combine biochemical models with biophysical models. Here we start with the simplest chemical model."
   ]
  },
  {
   "cell_type": "markdown",
   "id": "23667289-2a80-4c16-be9c-8ba576854b63",
   "metadata": {},
   "source": [
    "Let us consider a simple chemical reaction:\n",
    "\n",
    "$A \\longrightarrow C$\n",
    "\n",
    "Here molecules of A transform into molecules of C. The rate law for the reaction specifies the relationship between the reaction rate (the rate at which A transforms into C) and the concentrations of the participating chemical species. Rate laws are found experiemntally and cannot be directly related to the stoichiometric equation.\n",
    "\n",
    "For more detail on reaction rates see this [libretext chapter](https://chem.libretexts.org/Bookshelves/General_Chemistry/Map%3A_Chemistry_-_The_Central_Science_(Brown_et_al.)/14%3A_Chemical_Kinetics)\n",
    "\n",
    "Let us say, the reaction rate here is proportional to the concentration of A, denoted $[A]$\n",
    "\n",
    "$v = k [A] $\n",
    "\n",
    "thus at any point of time the rate of the reaction is proportional to the concentration of species A. $k$ is the rate constant.\n",
    "\n",
    "Fundamentally every chemical reaction is reversible. So the transformation of A into C would actually be like:\n",
    "\n",
    "$A \\longrightarrow C$ and $A \\longleftarrow C$, or put together: $A \\rightleftharpoons C$\n",
    "\n",
    "\n",
    "The corresponding rate equations could be \n",
    "$v_{f} = k_{f} [A]$ and $v_{b} = k_{b} [B]$\n",
    "\n",
    "To model this reaction in MOOSE we need \n",
    "\n",
    "1. a container for the chemicals, or a chemical compartment\n",
    "2. a pool of molecules of the chemical species A\n",
    "3. a pool of molecules of the chemical species B\n",
    "4. a reaction object to hold information about the reaction, including $k_{f}$ and $k_{b}$ rate constants."
   ]
  },
  {
   "cell_type": "code",
   "execution_count": 2,
   "id": "433b48e9-ea8f-48ce-a045-515ab4aff38c",
   "metadata": {},
   "outputs": [],
   "source": [
    "import numpy as np\n",
    "import matplotlib.pyplot as plt\n",
    "import moose"
   ]
  },
  {
   "cell_type": "code",
   "execution_count": 3,
   "id": "1add07c0-5322-4adb-9a02-be09e60380e4",
   "metadata": {},
   "outputs": [],
   "source": [
    "model = moose.Neutral('/model')        # model container\n",
    "comp = moose.CubeMesh('/model/comp')   # chemical compartment\n",
    "comp.volume = 1e-21    # the reaction is in a 0.1 um cube"
   ]
  },
  {
   "cell_type": "markdown",
   "id": "b5394a74-6e8c-4007-a006-6392c2a22814",
   "metadata": {},
   "source": [
    "Now create the pools of molecules of the two species"
   ]
  },
  {
   "cell_type": "code",
   "execution_count": 4,
   "id": "be8ec038-1a5e-4192-b4a8-1a8e99245c8d",
   "metadata": {},
   "outputs": [],
   "source": [
    "a = moose.Pool(f'{comp.path}/A')\n",
    "c = moose.Pool(f'{comp.path}/C')"
   ]
  },
  {
   "cell_type": "markdown",
   "id": "ac58d79f-fe81-4df1-907b-3187ff45d313",
   "metadata": {},
   "source": [
    "Create the reaction object"
   ]
  },
  {
   "cell_type": "code",
   "execution_count": 5,
   "id": "ff2cac71-8c1a-439a-a2ad-6b40a4adb4a4",
   "metadata": {},
   "outputs": [],
   "source": [
    "reac = moose.Reac(f'{comp.path}/reac')"
   ]
  },
  {
   "cell_type": "markdown",
   "id": "5e46afaf-7e62-4db0-9f76-1c008a5b7ba6",
   "metadata": {},
   "source": [
    "and connect up the substrate and the product via messages"
   ]
  },
  {
   "cell_type": "code",
   "execution_count": 6,
   "id": "e0ee1001-7e98-4f15-afdf-f5590c2993ee",
   "metadata": {},
   "outputs": [
    {
     "data": {
      "text/plain": [
       "<moose.SingleMsg id=5 dataIndex=1 path=/Msgs[0]/singleMsg[1]>"
      ]
     },
     "execution_count": 6,
     "metadata": {},
     "output_type": "execute_result"
    }
   ],
   "source": [
    "moose.connect(reac, 'sub', a, 'reac')\n",
    "moose.connect(reac, 'prd', c, 'reac')"
   ]
  },
  {
   "cell_type": "markdown",
   "id": "0ec90188-9ca9-40a8-9734-c0e7c21f9d71",
   "metadata": {},
   "source": [
    "Now we need a `Stoich` object to setup the stoichiometry matrix for the reaction system. We need to set its `compartment` field to our chemical compartment, and assign a chemical kinetics solver (object of class `Ksolve`) to its `ksolve` field. The `Ksolve` class conducts the calculations to solve the chemical reaction system deterministically (as opposed to stochastically, which should be applied when the number of molecules are so small that the random bouncing of the molecules become apparent in the reaction)."
   ]
  },
  {
   "cell_type": "code",
   "execution_count": 7,
   "id": "72a0112d-42ea-4e89-991f-1c49963e2f17",
   "metadata": {},
   "outputs": [],
   "source": [
    "stoich = moose.Stoich( f'{comp.path}/stoich' )\n",
    "stoich.compartment = comp\n",
    "ksolve = moose.Ksolve( f'{comp.path}/ksolve' )\n",
    "ksolve.dt = 1e-3\n",
    "stoich.ksolve = ksolve"
   ]
  },
  {
   "cell_type": "markdown",
   "id": "52394141-e9d0-400d-ba73-2e47b33ac0ac",
   "metadata": {},
   "source": [
    "Finally, we need to set the `reacSystemPath` field of the `Stoich` object the include everything inside our chemical compartment."
   ]
  },
  {
   "cell_type": "code",
   "execution_count": 8,
   "id": "2b3da7ce-f9e3-42e6-ac1d-fb5e28563b04",
   "metadata": {},
   "outputs": [],
   "source": [
    "stoich.reacSystemPath = f'{comp.path}/##'"
   ]
  },
  {
   "cell_type": "markdown",
   "id": "fc34c8cf-2947-46c4-9840-84943ff3263b",
   "metadata": {},
   "source": [
    "We also need a couple of tables to monitor the concentrations of the chemicals. \n"
   ]
  },
  {
   "cell_type": "code",
   "execution_count": 9,
   "id": "9abc1e9d-f6c3-4b06-ac37-053f6d5d0516",
   "metadata": {},
   "outputs": [
    {
     "data": {
      "text/plain": [
       "<moose.SingleMsg id=5 dataIndex=4 path=/Msgs[0]/singleMsg[4]>"
      ]
     },
     "execution_count": 9,
     "metadata": {},
     "output_type": "execute_result"
    }
   ],
   "source": [
    "data = moose.Neutral('/data')\n",
    "tabA = moose.Table2(f'{data.path}/A')\n",
    "tabC = moose.Table2(f'{data.path}/C')\n",
    "moose.connect(tabA, 'requestOut', a, 'getConc')\n",
    "moose.connect(tabC, 'requestOut', c, 'getConc')"
   ]
  },
  {
   "cell_type": "markdown",
   "id": "e7f04e58-c1d3-40c8-86fa-9fbd75027565",
   "metadata": {},
   "source": [
    "*Note that we are using `Table2` instead of `Table` here. `Table2` is updated at a slower interval by default, matching the default update rates of chemical kinetics solvers. We could use `Table` here, but that would have required making the `dt` of the corresponding clock tick slower, or making the `dt` for the clock tick for the `Ksolve` faster.*"
   ]
  },
  {
   "cell_type": "markdown",
   "id": "be9184fd-ab79-4863-a213-2bf60d2246df",
   "metadata": {},
   "source": [
    "Now we set the properties of the components"
   ]
  },
  {
   "cell_type": "code",
   "execution_count": 18,
   "id": "b9359042-8854-4d0f-b1f8-102881e4f1fc",
   "metadata": {},
   "outputs": [],
   "source": [
    "comp.volume = 1e-21    # the reaction is in a 0.1 um cube\n",
    "a.concInit = 1.0       # initial concentration\n",
    "c.concInit = 0.0       # initial concentration\n",
    "reac.Kf = 0.05         # forward reaction rate\n",
    "reac.Kb = 0.01         # backward reaction rate"
   ]
  },
  {
   "cell_type": "markdown",
   "id": "54150811-d8c2-4169-9d2e-474e72692754",
   "metadata": {},
   "source": [
    "Finally we initialize and run the simulation for 100 s."
   ]
  },
  {
   "cell_type": "code",
   "execution_count": 19,
   "id": "869d1c30-005d-4df1-9d88-c25a6b25f400",
   "metadata": {},
   "outputs": [],
   "source": [
    "moose.reinit()\n",
    "simtime = 100.0\n",
    "moose.start(simtime)"
   ]
  },
  {
   "cell_type": "markdown",
   "id": "1993c38f-fd4f-4818-96fe-82971dbbabd8",
   "metadata": {},
   "source": [
    "And plot the results"
   ]
  },
  {
   "cell_type": "code",
   "execution_count": 20,
   "id": "d1fd5c6f-97c7-472b-8849-6ba074770da2",
   "metadata": {},
   "outputs": [
    {
     "data": {
      "text/plain": [
       "<matplotlib.legend.Legend at 0x226cec4bf10>"
      ]
     },
     "execution_count": 20,
     "metadata": {},
     "output_type": "execute_result"
    },
    {
     "data": {
      "image/png": "[encoded data removed]",
      "text/plain": [
       "<Figure size 640x480 with 1 Axes>"
      ]
     },
     "metadata": {},
     "output_type": "display_data"
    }
   ],
   "source": [
    "t = np.arange(len(tabA.vector)) * tabA.dt\n",
    "plt.plot(t, tabA.vector, label='[A]')\n",
    "plt.plot(t, tabC.vector, label='[C]')\n",
    "plt.legend()"
   ]
  },
  {
   "cell_type": "code",
   "execution_count": null,
   "id": "ffb39644-1680-49c6-a3b8-0856c6bb3cf9",
   "metadata": {},
   "outputs": [],
   "source": []
  }
 ],
 "metadata": {
  "kernelspec": {
   "display_name": "Python 3 (ipykernel)",
   "language": "python",
   "name": "python3"
  },
  "language_info": {
   "codemirror_mode": {
    "name": "ipython",
    "version": 3
   },
   "file_extension": ".py",
   "mimetype": "text/x-python",
   "name": "python",
   "nbconvert_exporter": "python",
   "pygments_lexer": "ipython3",
   "version": "3.11.9"
  }
 },
 "nbformat": 4,
 "nbformat_minor": 5
}
